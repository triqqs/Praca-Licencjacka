{
 "cells": [
  {
   "cell_type": "code",
   "execution_count": 95,
   "metadata": {
    "collapsed": true,
    "pycharm": {
     "name": "#%%\n"
    }
   },
   "outputs": [],
   "source": [
    "import numpy as np\n",
    "import pandas as pd\n",
    "import spacy as sp\n",
    "import string\n",
    "\n",
    "from statistics import mean\n",
    "import seaborn as sns\n",
    "from matplotlib import pyplot as plt\n",
    "from plotly.subplots import make_subplots\n",
    "import plotly.graph_objects as go\n",
    "from numpy import nan"
   ]
  },
  {
   "cell_type": "markdown",
   "metadata": {
    "pycharm": {
     "name": "#%% md\n"
    }
   },
   "source": [
    "## Plik: Analiza Anotacji\n",
    "Wczytanie bazy zaanotowanych argumentów dotyczących zdrowia z pliku .csv"
   ]
  },
  {
   "cell_type": "code",
   "execution_count": 96,
   "outputs": [],
   "source": [
    "argumentacje_z_anotacja_df = pd.read_csv(\"./dane/Baza argumentacji dotyczącej zdrowia - anotacja.csv\", delimiter=\",\",\n",
    "                           usecols=[\"Typ argumentu (szeregowy lub równoległy)\", \"Konkluzja\", \"Pos_sentiment_K\", \"Neg_sentiment_K\", \"Przesłanka 1\", \"Pos_sentiment_1\",\n",
    "                                    \"Neg_sentiment_1\", \"Przesłanka 2\", \"Pos_sentiment_2\", \"Neg_sentiment_2\",\n",
    "                                    \"Przesłanka 3\", \"Pos_sentiment_3\", \"Neg_sentiment_3\", \"Przesłanka 4\", \"Pos_sentiment_4\",\n",
    "                                    \"Neg_sentiment_4\", \"Przesłanka 5\", \"Pos_sentiment_5\", \"Neg_sentiment_5\", \"Przesłanka 6\",\n",
    "                                    \"Pos_sentiment_6\", \"Neg_sentiment_6\", \"Przesłanka 7\", \"Pos_sentiment_7\", \"Neg_sentiment_7\",\n",
    "                                    \"Przesłanka 8\", \"Pos_sentiment_8\", \"Neg_sentiment_8\"]).fillna(0)  # usunąć fillna aby zobaczyć ilość przesłanek"
   ],
   "metadata": {
    "collapsed": false,
    "pycharm": {
     "name": "#%%\n"
    }
   }
  },
  {
   "cell_type": "markdown",
   "source": [
    "Sprawdzanie liczby argumentów poszczególnych typów."
   ],
   "metadata": {
    "collapsed": false,
    "pycharm": {
     "name": "#%% md\n"
    }
   }
  },
  {
   "cell_type": "code",
   "execution_count": 97,
   "outputs": [
    {
     "data": {
      "text/plain": "równoległy    146\nszeregowy     104\nmieszany        1\nName: Typ argumentu (szeregowy lub równoległy), dtype: int64"
     },
     "execution_count": 97,
     "metadata": {},
     "output_type": "execute_result"
    }
   ],
   "source": [
    "argumentacje_z_anotacja_df['Typ argumentu (szeregowy lub równoległy)'].value_counts()"
   ],
   "metadata": {
    "collapsed": false,
    "pycharm": {
     "name": "#%%\n"
    }
   }
  },
  {
   "cell_type": "markdown",
   "source": [
    "## Plik: Analiza NAWL\n",
    "Wczytanie polskiej bazy słów"
   ],
   "metadata": {
    "collapsed": false,
    "pycharm": {
     "name": "#%% md\n"
    }
   }
  },
  {
   "cell_type": "code",
   "execution_count": 98,
   "outputs": [],
   "source": [
    "nlp = sp.load(\"pl_core_news_lg\")"
   ],
   "metadata": {
    "collapsed": false,
    "pycharm": {
     "name": "#%%\n"
    }
   }
  },
  {
   "cell_type": "markdown",
   "source": [
    "Wczytanie bazy NAWL z pliku .csv i konwersja kolumny z walencjami na liczby"
   ],
   "metadata": {
    "collapsed": false,
    "pycharm": {
     "name": "#%% md\n"
    }
   }
  },
  {
   "cell_type": "code",
   "execution_count": 99,
   "outputs": [],
   "source": [
    "data = pd.read_csv(\"./dane/nawl_val_aro.csv\", delimiter=\";\", decimal=',')\n",
    "data['val_M_all'] = data['val_M_all'].astype(float)"
   ],
   "metadata": {
    "collapsed": false,
    "pycharm": {
     "name": "#%%\n"
    }
   }
  },
  {
   "cell_type": "markdown",
   "source": [
    "Przypisanie słów z bazy NAWL do zmiennej"
   ],
   "metadata": {
    "collapsed": false,
    "pycharm": {
     "name": "#%% md\n"
    }
   }
  },
  {
   "cell_type": "code",
   "execution_count": 100,
   "outputs": [],
   "source": [
    "nawl_words = data.NAWL_word"
   ],
   "metadata": {
    "collapsed": false,
    "pycharm": {
     "name": "#%%\n"
    }
   }
  },
  {
   "cell_type": "markdown",
   "source": [
    "Wczytanie bazy argumentacji dotyczących zdrowia z pliku"
   ],
   "metadata": {
    "collapsed": false,
    "pycharm": {
     "name": "#%% md\n"
    }
   }
  },
  {
   "cell_type": "code",
   "execution_count": 101,
   "outputs": [],
   "source": [
    "argumentacje_df = pd.read_csv(\"./dane/Baza argumentacji do metody leksykalnej.csv\", delimiter=\",\",\n",
    "                           usecols=[\"Typ argumentu (szeregowy lub równoległy)\", \"Konkluzja\", \"Przesłanka 1\", \"Przesłanka 2\", \"Przesłanka 3\", \"Przesłanka 4\",\n",
    "                                    \"Przesłanka 5\", \"Przesłanka 6\", \"Przesłanka 7\", \"Przesłanka 8\"])"
   ],
   "metadata": {
    "collapsed": false,
    "pycharm": {
     "name": "#%%\n"
    }
   }
  },
  {
   "cell_type": "markdown",
   "source": [
    "Sprawdzanie braków danych"
   ],
   "metadata": {
    "collapsed": false,
    "pycharm": {
     "name": "#%% md\n"
    }
   }
  },
  {
   "cell_type": "code",
   "execution_count": 102,
   "outputs": [
    {
     "data": {
      "text/plain": "                                            0\nTyp argumentu (szeregowy lub równoległy)    0\nKonkluzja                                   0\nPrzesłanka 1                                0\nPrzesłanka 2                                6\nPrzesłanka 3                              101\nPrzesłanka 4                              175\nPrzesłanka 5                              220\nPrzesłanka 6                              244\nPrzesłanka 7                              247\nPrzesłanka 8                              247",
      "text/html": "<div>\n<style scoped>\n    .dataframe tbody tr th:only-of-type {\n        vertical-align: middle;\n    }\n\n    .dataframe tbody tr th {\n        vertical-align: top;\n    }\n\n    .dataframe thead th {\n        text-align: right;\n    }\n</style>\n<table border=\"1\" class=\"dataframe\">\n  <thead>\n    <tr style=\"text-align: right;\">\n      <th></th>\n      <th>0</th>\n    </tr>\n  </thead>\n  <tbody>\n    <tr>\n      <th>Typ argumentu (szeregowy lub równoległy)</th>\n      <td>0</td>\n    </tr>\n    <tr>\n      <th>Konkluzja</th>\n      <td>0</td>\n    </tr>\n    <tr>\n      <th>Przesłanka 1</th>\n      <td>0</td>\n    </tr>\n    <tr>\n      <th>Przesłanka 2</th>\n      <td>6</td>\n    </tr>\n    <tr>\n      <th>Przesłanka 3</th>\n      <td>101</td>\n    </tr>\n    <tr>\n      <th>Przesłanka 4</th>\n      <td>175</td>\n    </tr>\n    <tr>\n      <th>Przesłanka 5</th>\n      <td>220</td>\n    </tr>\n    <tr>\n      <th>Przesłanka 6</th>\n      <td>244</td>\n    </tr>\n    <tr>\n      <th>Przesłanka 7</th>\n      <td>247</td>\n    </tr>\n    <tr>\n      <th>Przesłanka 8</th>\n      <td>247</td>\n    </tr>\n  </tbody>\n</table>\n</div>"
     },
     "execution_count": 102,
     "metadata": {},
     "output_type": "execute_result"
    }
   ],
   "source": [
    "pd.concat([argumentacje_df.isnull().sum()], axis=1)"
   ],
   "metadata": {
    "collapsed": false,
    "pycharm": {
     "name": "#%%\n"
    }
   }
  },
  {
   "cell_type": "markdown",
   "source": [
    "Funkcja zwracająca część wspólną dwóch list (bez powtórzeń)"
   ],
   "metadata": {
    "collapsed": false,
    "pycharm": {
     "name": "#%% md\n"
    }
   }
  },
  {
   "cell_type": "code",
   "execution_count": 103,
   "outputs": [],
   "source": [
    "def my_matcher(mylist, emolist):\n",
    "    return set(mylist).intersection(set(emolist))"
   ],
   "metadata": {
    "collapsed": false,
    "pycharm": {
     "name": "#%%\n"
    }
   }
  },
  {
   "cell_type": "markdown",
   "source": [
    "Funkcja tokenizer: dzieli stringa na listę tokenów (lista słów podzielona spacjami i usuniętymi znaki interpunkcyjnymi)"
   ],
   "metadata": {
    "collapsed": false,
    "pycharm": {
     "name": "#%% md\n"
    }
   }
  },
  {
   "cell_type": "code",
   "execution_count": 104,
   "outputs": [],
   "source": [
    "def tokenizer(my_string):\n",
    "    my_string = my_string.translate(str.maketrans('', '', string.punctuation))\n",
    "    return my_string.split(\" \")"
   ],
   "metadata": {
    "collapsed": false,
    "pycharm": {
     "name": "#%%\n"
    }
   }
  },
  {
   "cell_type": "markdown",
   "source": [
    "Funckje lemmatyzera: zwraca wyrazy zmienione do formy podstawowej"
   ],
   "metadata": {
    "collapsed": false,
    "pycharm": {
     "name": "#%% md\n"
    }
   }
  },
  {
   "cell_type": "code",
   "execution_count": 105,
   "outputs": [],
   "source": [
    "def lemmatizer(mylist):\n",
    "    doc = nlp(\" \".join(mylist))\n",
    "    my_lemma = []\n",
    "    for token in doc:\n",
    "        my_lemma += [token.lemma_]\n",
    "    return my_lemma"
   ],
   "metadata": {
    "collapsed": false,
    "pycharm": {
     "name": "#%%\n"
    }
   }
  },
  {
   "cell_type": "markdown",
   "source": [
    "Funkcja zwracająca listę słów po lemmatyzacji i tokenizacji"
   ],
   "metadata": {
    "collapsed": false,
    "pycharm": {
     "name": "#%% md\n"
    }
   }
  },
  {
   "cell_type": "code",
   "execution_count": 106,
   "outputs": [],
   "source": [
    "def list_matcher(my_lists, emo_list):\n",
    "    result = []\n",
    "    for l in my_lists:\n",
    "        if type(l) == float:  # jeżeli lista nie jest listą tylko cyfrą/Null\n",
    "            result += [False]  # dodajemy że komórka jest pusta\n",
    "        else:\n",
    "            l = lemmatizer(tokenizer(l))\n",
    "            result += [my_matcher(l, emo_list)]\n",
    "    return result"
   ],
   "metadata": {
    "collapsed": false,
    "pycharm": {
     "name": "#%%\n"
    }
   }
  },
  {
   "cell_type": "markdown",
   "source": [
    "Funkcja zwracająca walencję słów z bazy argumentów dot. zdrowia"
   ],
   "metadata": {
    "collapsed": false,
    "pycharm": {
     "name": "#%% md\n"
    }
   }
  },
  {
   "cell_type": "code",
   "execution_count": 107,
   "outputs": [],
   "source": [
    "def word_valence(my_word, emo_df):\n",
    "    return emo_df.loc[emo_df['NAWL_word'] == my_word, 'val_M_all'].iloc[0]"
   ],
   "metadata": {
    "collapsed": false,
    "pycharm": {
     "name": "#%%\n"
    }
   }
  },
  {
   "cell_type": "markdown",
   "source": [
    "Funkcja zwracająca średnią walencję słów w całych zdaniach (dla poszczególnych ADU - Argumentative Discourse Unit)"
   ],
   "metadata": {
    "collapsed": false,
    "pycharm": {
     "name": "#%% md\n"
    }
   }
  },
  {
   "cell_type": "code",
   "execution_count": 108,
   "outputs": [],
   "source": [
    "def sentence_valence(my_sentence, emo_df):\n",
    "    if type(my_sentence) is bool:\n",
    "        return None\n",
    "    elif len(my_sentence) == 0:\n",
    "        return 0\n",
    "    result = []\n",
    "    for word in my_sentence:\n",
    "        result += [word_valence(word, emo_df)]\n",
    "    return mean(result)"
   ],
   "metadata": {
    "collapsed": false,
    "pycharm": {
     "name": "#%%\n"
    }
   }
  },
  {
   "cell_type": "markdown",
   "source": [
    "Zwracanie walencji dla wszystkich ADU w poszczególnych kolumnach z bazy argumentacji, a następnie ich kategoryzacja"
   ],
   "metadata": {
    "collapsed": false,
    "pycharm": {
     "name": "#%% md\n"
    }
   }
  },
  {
   "cell_type": "code",
   "execution_count": 109,
   "outputs": [],
   "source": [
    "def all_sentences_valence(sentences_list: list, emo_df) -> list:\n",
    "    nawl_match = list_matcher(sentences_list, emo_df.NAWL_word)\n",
    "    valences = []\n",
    "    for sentence in nawl_match:\n",
    "        result = sentence_valence(sentence, data)\n",
    "        #lambda -> zamiast robić funkcje to robi ją w jednej linijce (def sign)\n",
    "        sign = lambda x: x and (-1 if x < 0 else 1)\n",
    "        valences += [sign(result) if result is not None else None]\n",
    "        #print(result, end='\\t')\n",
    "    return valences"
   ],
   "metadata": {
    "collapsed": false,
    "pycharm": {
     "name": "#%%\n"
    }
   }
  },
  {
   "cell_type": "markdown",
   "source": [
    "Tworzenie nowych kolumn ze skategoryzowanymi wartościami walencji."
   ],
   "metadata": {
    "collapsed": false,
    "pycharm": {
     "name": "#%% md\n"
    }
   }
  },
  {
   "cell_type": "code",
   "execution_count": 110,
   "outputs": [],
   "source": [
    "argumentacje_df[\"k-cat\"] = all_sentences_valence(argumentacje_df[\"Konkluzja\"], data)\n",
    "argumentacje_df[\"p1-cat\"] = all_sentences_valence(argumentacje_df[\"Przesłanka 1\"], data)\n",
    "argumentacje_df[\"p2-cat\"] = all_sentences_valence(argumentacje_df[\"Przesłanka 2\"], data)\n",
    "argumentacje_df[\"p3-cat\"] = all_sentences_valence(argumentacje_df[\"Przesłanka 3\"], data)\n",
    "argumentacje_df[\"p4-cat\"] = all_sentences_valence(argumentacje_df[\"Przesłanka 4\"], data)\n",
    "argumentacje_df[\"p5-cat\"] = all_sentences_valence(argumentacje_df[\"Przesłanka 5\"], data)\n",
    "argumentacje_df[\"p6-cat\"] = all_sentences_valence(argumentacje_df[\"Przesłanka 6\"], data)\n",
    "argumentacje_df[\"p7-cat\"] = all_sentences_valence(argumentacje_df[\"Przesłanka 7\"], data)\n",
    "argumentacje_df[\"p8-cat\"] = all_sentences_valence(argumentacje_df[\"Przesłanka 8\"], data)"
   ],
   "metadata": {
    "collapsed": false,
    "pycharm": {
     "name": "#%%\n"
    }
   }
  },
  {
   "cell_type": "markdown",
   "source": [
    "Zliczanie poszczególnych ADU o danej wartości zmiennej skategoryzowanej\n",
    "- 0 -> walencja nieokreślona (brak słów emotywnych lub średnia walencja w ADU równa 0)\n",
    "- 1 -> walencja pozytywna (średnia walencja powyżej 0)\n",
    "- -1 -> walencja negatywna (średnia walencja poniżej 0)\n",
    "- NaN -> puste pola"
   ],
   "metadata": {
    "collapsed": false,
    "pycharm": {
     "name": "#%% md\n"
    }
   }
  },
  {
   "cell_type": "code",
   "execution_count": 111,
   "outputs": [
    {
     "name": "stdout",
     "output_type": "stream",
     "text": [
      " 0.0    130\n",
      " 1.0     68\n",
      "-1.0     53\n",
      "Name: k-cat, dtype: int64\n",
      "\n",
      " 1.0    166\n",
      "-1.0     52\n",
      " 0.0     33\n",
      "Name: p1-cat, dtype: int64\n",
      "\n",
      " 1.0    153\n",
      "-1.0     54\n",
      " 0.0     38\n",
      " NaN      6\n",
      "Name: p2-cat, dtype: int64\n",
      "\n",
      " NaN    101\n",
      " 1.0     74\n",
      " 0.0     48\n",
      "-1.0     28\n",
      "Name: p3-cat, dtype: int64\n",
      "\n",
      " NaN    175\n",
      " 1.0     42\n",
      " 0.0     22\n",
      "-1.0     12\n",
      "Name: p4-cat, dtype: int64\n",
      "\n",
      "NaN    247\n",
      "0.0      3\n",
      "1.0      1\n",
      "Name: p8-cat, dtype: int64\n"
     ]
    }
   ],
   "source": [
    "print(argumentacje_df['k-cat'].value_counts(dropna=False), end='\\n\\n')\n",
    "print(argumentacje_df['p1-cat'].value_counts(dropna=False), end='\\n\\n')\n",
    "print(argumentacje_df['p2-cat'].value_counts(dropna=False), end='\\n\\n')\n",
    "print(argumentacje_df['p3-cat'].value_counts(dropna=False), end='\\n\\n')\n",
    "print(argumentacje_df['p4-cat'].value_counts(dropna=False), end='\\n\\n')\n",
    "print(argumentacje_df['p8-cat'].value_counts(dropna=False))"
   ],
   "metadata": {
    "collapsed": false,
    "pycharm": {
     "name": "#%%\n"
    }
   }
  },
  {
   "cell_type": "markdown",
   "source": [
    "## Plik: Analiza porównawcza\n",
    "Wykorzystanie plotly i seaborn do wygenerowania wykresów porównujących zabarwienie emotywne słów sprawdzane obiema metodami (metoda leksykalna i metoda anotacyjna)"
   ],
   "metadata": {
    "collapsed": false,
    "pycharm": {
     "name": "#%% md\n"
    }
   }
  },
  {
   "cell_type": "markdown",
   "source": [
    "Funkcja pomocnicza do `df.apply` mająca na celu tworzenie kolumny z nowymi wartościami skategoryzowanymi dla anotacji"
   ],
   "metadata": {
    "collapsed": false,
    "pycharm": {
     "name": "#%% md\n"
    }
   }
  },
  {
   "cell_type": "code",
   "execution_count": 112,
   "outputs": [],
   "source": [
    "def anotacja(row):\n",
    "    if row['pos'] == 1:\n",
    "        val = 1\n",
    "    elif row['neg'] == 1:\n",
    "        val = -1\n",
    "    elif row['pos'] == 0 and row['neg'] == 0:\n",
    "        val = 0\n",
    "    else:\n",
    "        val = np.nan\n",
    "    return val"
   ],
   "metadata": {
    "collapsed": false,
    "pycharm": {
     "name": "#%%\n"
    }
   }
  },
  {
   "cell_type": "markdown",
   "source": [
    "Funckja wyliczająca współczynnik Kappa-Cohena dla DataFrame'a przedstawiającego tablicę pomyłek"
   ],
   "metadata": {
    "collapsed": false,
    "pycharm": {
     "name": "#%% md\n"
    }
   }
  },
  {
   "cell_type": "code",
   "execution_count": 113,
   "outputs": [],
   "source": [
    "def kappa(df):\n",
    "    tp = df.loc[1, 1]\n",
    "    tn = df.loc[-1, -1]\n",
    "    fp = df.loc[-1, 1]\n",
    "    fn = df.loc[1, -1]\n",
    "    return (2*(tp*tn-fn*fp))/((tp+fp)*(fp+tn)+(tp+fn)*(fn+tn))"
   ],
   "metadata": {
    "collapsed": false,
    "pycharm": {
     "name": "#%%\n"
    }
   }
  },
  {
   "cell_type": "markdown",
   "source": [
    "Przygotowanie do tworzenia wykresów kołowych za pomocą plotly"
   ],
   "metadata": {
    "collapsed": false,
    "pycharm": {
     "name": "#%% md\n"
    }
   }
  },
  {
   "cell_type": "code",
   "execution_count": 114,
   "outputs": [],
   "source": [
    "#przy pie-chart specs type musi być domain  https://plotly.com/python/pie-charts/#pie-charts-in-subplots\n",
    "specs = [[{'type': 'domain'}, {'type': 'domain'}],\n",
    "         [{'type': 'domain'}, {'type': 'domain'}]]\n",
    "subplot_titles = ('NAWL', 'Anotacja',\n",
    "                  'NAWL z pominięciem wartości nieokreślonych', 'Anotacja z pominięciem wartości które<br>zostały nieokreślone w bazie NAWL')"
   ],
   "metadata": {
    "collapsed": false,
    "pycharm": {
     "name": "#%%\n"
    }
   }
  },
  {
   "cell_type": "code",
   "execution_count": 115,
   "outputs": [],
   "source": [
    "nawl_df = argumentacje_df\n",
    "anotacja_df = argumentacje_z_anotacja_df\n",
    "\n",
    "labels_dict = {1: 'Pozytywne', -1: 'Negatywne', 0: 'Nieokreślone'}\n",
    "pie_colours = ('#FF6B6B', '#6BCB77', '#4D96FF')  # czerwony, zielony, niebieski\n",
    "\n",
    "hm_palette = sns.cubehelix_palette(as_cmap=True, reverse=True)\n",
    "\n",
    "fig = make_subplots(rows=2, cols=2, specs=specs,\n",
    "                    horizontal_spacing=0.05, subplot_titles=subplot_titles)"
   ],
   "metadata": {
    "collapsed": false,
    "pycharm": {
     "name": "#%%\n"
    }
   }
  },
  {
   "cell_type": "code",
   "execution_count": 116,
   "outputs": [
    {
     "data": {
      "application/vnd.plotly.v1+json": {
       "data": [
        {
         "insidetextorientation": "horizontal",
         "labels": [
          "Negatywne",
          "Pozytywne",
          "Nieokreślone"
         ],
         "marker": {
          "colors": [
           "#FF6B6B",
           "#6BCB77",
           "#4D96FF"
          ]
         },
         "textinfo": "label+percent+value",
         "textposition": "inside",
         "values": [
          53,
          68,
          130
         ],
         "type": "pie",
         "domain": {
          "x": [
           0.0,
           0.475
          ],
          "y": [
           0.625,
           1.0
          ]
         }
        },
        {
         "insidetextorientation": "horizontal",
         "labels": [
          "Negatywne",
          "Pozytywne"
         ],
         "marker": {
          "colors": [
           "#FF6B6B",
           "#6BCB77",
           "#4D96FF"
          ]
         },
         "textinfo": "label+percent+value",
         "textposition": "inside",
         "values": [
          31.0,
          220.0
         ],
         "type": "pie",
         "domain": {
          "x": [
           0.525,
           1.0
          ],
          "y": [
           0.625,
           1.0
          ]
         }
        },
        {
         "insidetextorientation": "horizontal",
         "labels": [
          "Negatywne",
          "Pozytywne",
          "Nieokreślone"
         ],
         "marker": {
          "colors": [
           "#FF6B6B",
           "#6BCB77",
           "#4D96FF"
          ]
         },
         "textinfo": "label+percent+value",
         "textposition": "inside",
         "values": [
          53.0,
          68.0,
          null
         ],
         "type": "pie",
         "domain": {
          "x": [
           0.0,
           0.475
          ],
          "y": [
           0.0,
           0.375
          ]
         }
        },
        {
         "insidetextorientation": "horizontal",
         "labels": [
          "Negatywne",
          "Pozytywne"
         ],
         "marker": {
          "colors": [
           "#FF6B6B",
           "#6BCB77",
           "#4D96FF"
          ]
         },
         "textinfo": "label+percent+value",
         "textposition": "inside",
         "values": [
          25.0,
          96.0
         ],
         "type": "pie",
         "domain": {
          "x": [
           0.525,
           1.0
          ],
          "y": [
           0.0,
           0.375
          ]
         }
        }
       ],
       "layout": {
        "template": {
         "data": {
          "histogram2dcontour": [
           {
            "type": "histogram2dcontour",
            "colorbar": {
             "outlinewidth": 0,
             "ticks": ""
            },
            "colorscale": [
             [
              0.0,
              "#0d0887"
             ],
             [
              0.1111111111111111,
              "#46039f"
             ],
             [
              0.2222222222222222,
              "#7201a8"
             ],
             [
              0.3333333333333333,
              "#9c179e"
             ],
             [
              0.4444444444444444,
              "#bd3786"
             ],
             [
              0.5555555555555556,
              "#d8576b"
             ],
             [
              0.6666666666666666,
              "#ed7953"
             ],
             [
              0.7777777777777778,
              "#fb9f3a"
             ],
             [
              0.8888888888888888,
              "#fdca26"
             ],
             [
              1.0,
              "#f0f921"
             ]
            ]
           }
          ],
          "choropleth": [
           {
            "type": "choropleth",
            "colorbar": {
             "outlinewidth": 0,
             "ticks": ""
            }
           }
          ],
          "histogram2d": [
           {
            "type": "histogram2d",
            "colorbar": {
             "outlinewidth": 0,
             "ticks": ""
            },
            "colorscale": [
             [
              0.0,
              "#0d0887"
             ],
             [
              0.1111111111111111,
              "#46039f"
             ],
             [
              0.2222222222222222,
              "#7201a8"
             ],
             [
              0.3333333333333333,
              "#9c179e"
             ],
             [
              0.4444444444444444,
              "#bd3786"
             ],
             [
              0.5555555555555556,
              "#d8576b"
             ],
             [
              0.6666666666666666,
              "#ed7953"
             ],
             [
              0.7777777777777778,
              "#fb9f3a"
             ],
             [
              0.8888888888888888,
              "#fdca26"
             ],
             [
              1.0,
              "#f0f921"
             ]
            ]
           }
          ],
          "heatmap": [
           {
            "type": "heatmap",
            "colorbar": {
             "outlinewidth": 0,
             "ticks": ""
            },
            "colorscale": [
             [
              0.0,
              "#0d0887"
             ],
             [
              0.1111111111111111,
              "#46039f"
             ],
             [
              0.2222222222222222,
              "#7201a8"
             ],
             [
              0.3333333333333333,
              "#9c179e"
             ],
             [
              0.4444444444444444,
              "#bd3786"
             ],
             [
              0.5555555555555556,
              "#d8576b"
             ],
             [
              0.6666666666666666,
              "#ed7953"
             ],
             [
              0.7777777777777778,
              "#fb9f3a"
             ],
             [
              0.8888888888888888,
              "#fdca26"
             ],
             [
              1.0,
              "#f0f921"
             ]
            ]
           }
          ],
          "heatmapgl": [
           {
            "type": "heatmapgl",
            "colorbar": {
             "outlinewidth": 0,
             "ticks": ""
            },
            "colorscale": [
             [
              0.0,
              "#0d0887"
             ],
             [
              0.1111111111111111,
              "#46039f"
             ],
             [
              0.2222222222222222,
              "#7201a8"
             ],
             [
              0.3333333333333333,
              "#9c179e"
             ],
             [
              0.4444444444444444,
              "#bd3786"
             ],
             [
              0.5555555555555556,
              "#d8576b"
             ],
             [
              0.6666666666666666,
              "#ed7953"
             ],
             [
              0.7777777777777778,
              "#fb9f3a"
             ],
             [
              0.8888888888888888,
              "#fdca26"
             ],
             [
              1.0,
              "#f0f921"
             ]
            ]
           }
          ],
          "contourcarpet": [
           {
            "type": "contourcarpet",
            "colorbar": {
             "outlinewidth": 0,
             "ticks": ""
            }
           }
          ],
          "contour": [
           {
            "type": "contour",
            "colorbar": {
             "outlinewidth": 0,
             "ticks": ""
            },
            "colorscale": [
             [
              0.0,
              "#0d0887"
             ],
             [
              0.1111111111111111,
              "#46039f"
             ],
             [
              0.2222222222222222,
              "#7201a8"
             ],
             [
              0.3333333333333333,
              "#9c179e"
             ],
             [
              0.4444444444444444,
              "#bd3786"
             ],
             [
              0.5555555555555556,
              "#d8576b"
             ],
             [
              0.6666666666666666,
              "#ed7953"
             ],
             [
              0.7777777777777778,
              "#fb9f3a"
             ],
             [
              0.8888888888888888,
              "#fdca26"
             ],
             [
              1.0,
              "#f0f921"
             ]
            ]
           }
          ],
          "surface": [
           {
            "type": "surface",
            "colorbar": {
             "outlinewidth": 0,
             "ticks": ""
            },
            "colorscale": [
             [
              0.0,
              "#0d0887"
             ],
             [
              0.1111111111111111,
              "#46039f"
             ],
             [
              0.2222222222222222,
              "#7201a8"
             ],
             [
              0.3333333333333333,
              "#9c179e"
             ],
             [
              0.4444444444444444,
              "#bd3786"
             ],
             [
              0.5555555555555556,
              "#d8576b"
             ],
             [
              0.6666666666666666,
              "#ed7953"
             ],
             [
              0.7777777777777778,
              "#fb9f3a"
             ],
             [
              0.8888888888888888,
              "#fdca26"
             ],
             [
              1.0,
              "#f0f921"
             ]
            ]
           }
          ],
          "mesh3d": [
           {
            "type": "mesh3d",
            "colorbar": {
             "outlinewidth": 0,
             "ticks": ""
            }
           }
          ],
          "scatter": [
           {
            "marker": {
             "line": {
              "color": "#283442"
             }
            },
            "type": "scatter"
           }
          ],
          "parcoords": [
           {
            "type": "parcoords",
            "line": {
             "colorbar": {
              "outlinewidth": 0,
              "ticks": ""
             }
            }
           }
          ],
          "scatterpolargl": [
           {
            "type": "scatterpolargl",
            "marker": {
             "colorbar": {
              "outlinewidth": 0,
              "ticks": ""
             }
            }
           }
          ],
          "bar": [
           {
            "error_x": {
             "color": "#f2f5fa"
            },
            "error_y": {
             "color": "#f2f5fa"
            },
            "marker": {
             "line": {
              "color": "rgb(17,17,17)",
              "width": 0.5
             },
             "pattern": {
              "fillmode": "overlay",
              "size": 10,
              "solidity": 0.2
             }
            },
            "type": "bar"
           }
          ],
          "scattergeo": [
           {
            "type": "scattergeo",
            "marker": {
             "colorbar": {
              "outlinewidth": 0,
              "ticks": ""
             }
            }
           }
          ],
          "scatterpolar": [
           {
            "type": "scatterpolar",
            "marker": {
             "colorbar": {
              "outlinewidth": 0,
              "ticks": ""
             }
            }
           }
          ],
          "histogram": [
           {
            "marker": {
             "pattern": {
              "fillmode": "overlay",
              "size": 10,
              "solidity": 0.2
             }
            },
            "type": "histogram"
           }
          ],
          "scattergl": [
           {
            "marker": {
             "line": {
              "color": "#283442"
             }
            },
            "type": "scattergl"
           }
          ],
          "scatter3d": [
           {
            "type": "scatter3d",
            "line": {
             "colorbar": {
              "outlinewidth": 0,
              "ticks": ""
             }
            },
            "marker": {
             "colorbar": {
              "outlinewidth": 0,
              "ticks": ""
             }
            }
           }
          ],
          "scattermapbox": [
           {
            "type": "scattermapbox",
            "marker": {
             "colorbar": {
              "outlinewidth": 0,
              "ticks": ""
             }
            }
           }
          ],
          "scatterternary": [
           {
            "type": "scatterternary",
            "marker": {
             "colorbar": {
              "outlinewidth": 0,
              "ticks": ""
             }
            }
           }
          ],
          "scattercarpet": [
           {
            "type": "scattercarpet",
            "marker": {
             "colorbar": {
              "outlinewidth": 0,
              "ticks": ""
             }
            }
           }
          ],
          "carpet": [
           {
            "aaxis": {
             "endlinecolor": "#A2B1C6",
             "gridcolor": "#506784",
             "linecolor": "#506784",
             "minorgridcolor": "#506784",
             "startlinecolor": "#A2B1C6"
            },
            "baxis": {
             "endlinecolor": "#A2B1C6",
             "gridcolor": "#506784",
             "linecolor": "#506784",
             "minorgridcolor": "#506784",
             "startlinecolor": "#A2B1C6"
            },
            "type": "carpet"
           }
          ],
          "table": [
           {
            "cells": {
             "fill": {
              "color": "#506784"
             },
             "line": {
              "color": "rgb(17,17,17)"
             }
            },
            "header": {
             "fill": {
              "color": "#2a3f5f"
             },
             "line": {
              "color": "rgb(17,17,17)"
             }
            },
            "type": "table"
           }
          ],
          "barpolar": [
           {
            "marker": {
             "line": {
              "color": "rgb(17,17,17)",
              "width": 0.5
             },
             "pattern": {
              "fillmode": "overlay",
              "size": 10,
              "solidity": 0.2
             }
            },
            "type": "barpolar"
           }
          ],
          "pie": [
           {
            "automargin": true,
            "type": "pie"
           }
          ]
         },
         "layout": {
          "autotypenumbers": "strict",
          "colorway": [
           "#636efa",
           "#EF553B",
           "#00cc96",
           "#ab63fa",
           "#FFA15A",
           "#19d3f3",
           "#FF6692",
           "#B6E880",
           "#FF97FF",
           "#FECB52"
          ],
          "font": {
           "color": "#f2f5fa"
          },
          "hovermode": "closest",
          "hoverlabel": {
           "align": "left"
          },
          "paper_bgcolor": "rgb(17,17,17)",
          "plot_bgcolor": "rgb(17,17,17)",
          "polar": {
           "bgcolor": "rgb(17,17,17)",
           "angularaxis": {
            "gridcolor": "#506784",
            "linecolor": "#506784",
            "ticks": ""
           },
           "radialaxis": {
            "gridcolor": "#506784",
            "linecolor": "#506784",
            "ticks": ""
           }
          },
          "ternary": {
           "bgcolor": "rgb(17,17,17)",
           "aaxis": {
            "gridcolor": "#506784",
            "linecolor": "#506784",
            "ticks": ""
           },
           "baxis": {
            "gridcolor": "#506784",
            "linecolor": "#506784",
            "ticks": ""
           },
           "caxis": {
            "gridcolor": "#506784",
            "linecolor": "#506784",
            "ticks": ""
           }
          },
          "coloraxis": {
           "colorbar": {
            "outlinewidth": 0,
            "ticks": ""
           }
          },
          "colorscale": {
           "sequential": [
            [
             0.0,
             "#0d0887"
            ],
            [
             0.1111111111111111,
             "#46039f"
            ],
            [
             0.2222222222222222,
             "#7201a8"
            ],
            [
             0.3333333333333333,
             "#9c179e"
            ],
            [
             0.4444444444444444,
             "#bd3786"
            ],
            [
             0.5555555555555556,
             "#d8576b"
            ],
            [
             0.6666666666666666,
             "#ed7953"
            ],
            [
             0.7777777777777778,
             "#fb9f3a"
            ],
            [
             0.8888888888888888,
             "#fdca26"
            ],
            [
             1.0,
             "#f0f921"
            ]
           ],
           "sequentialminus": [
            [
             0.0,
             "#0d0887"
            ],
            [
             0.1111111111111111,
             "#46039f"
            ],
            [
             0.2222222222222222,
             "#7201a8"
            ],
            [
             0.3333333333333333,
             "#9c179e"
            ],
            [
             0.4444444444444444,
             "#bd3786"
            ],
            [
             0.5555555555555556,
             "#d8576b"
            ],
            [
             0.6666666666666666,
             "#ed7953"
            ],
            [
             0.7777777777777778,
             "#fb9f3a"
            ],
            [
             0.8888888888888888,
             "#fdca26"
            ],
            [
             1.0,
             "#f0f921"
            ]
           ],
           "diverging": [
            [
             0,
             "#8e0152"
            ],
            [
             0.1,
             "#c51b7d"
            ],
            [
             0.2,
             "#de77ae"
            ],
            [
             0.3,
             "#f1b6da"
            ],
            [
             0.4,
             "#fde0ef"
            ],
            [
             0.5,
             "#f7f7f7"
            ],
            [
             0.6,
             "#e6f5d0"
            ],
            [
             0.7,
             "#b8e186"
            ],
            [
             0.8,
             "#7fbc41"
            ],
            [
             0.9,
             "#4d9221"
            ],
            [
             1,
             "#276419"
            ]
           ]
          },
          "xaxis": {
           "gridcolor": "#283442",
           "linecolor": "#506784",
           "ticks": "",
           "title": {
            "standoff": 15
           },
           "zerolinecolor": "#283442",
           "automargin": true,
           "zerolinewidth": 2
          },
          "yaxis": {
           "gridcolor": "#283442",
           "linecolor": "#506784",
           "ticks": "",
           "title": {
            "standoff": 15
           },
           "zerolinecolor": "#283442",
           "automargin": true,
           "zerolinewidth": 2
          },
          "scene": {
           "xaxis": {
            "backgroundcolor": "rgb(17,17,17)",
            "gridcolor": "#506784",
            "linecolor": "#506784",
            "showbackground": true,
            "ticks": "",
            "zerolinecolor": "#C8D4E3",
            "gridwidth": 2
           },
           "yaxis": {
            "backgroundcolor": "rgb(17,17,17)",
            "gridcolor": "#506784",
            "linecolor": "#506784",
            "showbackground": true,
            "ticks": "",
            "zerolinecolor": "#C8D4E3",
            "gridwidth": 2
           },
           "zaxis": {
            "backgroundcolor": "rgb(17,17,17)",
            "gridcolor": "#506784",
            "linecolor": "#506784",
            "showbackground": true,
            "ticks": "",
            "zerolinecolor": "#C8D4E3",
            "gridwidth": 2
           }
          },
          "shapedefaults": {
           "line": {
            "color": "#f2f5fa"
           }
          },
          "annotationdefaults": {
           "arrowcolor": "#f2f5fa",
           "arrowhead": 0,
           "arrowwidth": 1
          },
          "geo": {
           "bgcolor": "rgb(17,17,17)",
           "landcolor": "rgb(17,17,17)",
           "subunitcolor": "#506784",
           "showland": true,
           "showlakes": true,
           "lakecolor": "rgb(17,17,17)"
          },
          "title": {
           "x": 0.05
          },
          "updatemenudefaults": {
           "bgcolor": "#506784",
           "borderwidth": 0
          },
          "sliderdefaults": {
           "bgcolor": "#C8D4E3",
           "borderwidth": 1,
           "bordercolor": "rgb(17,17,17)",
           "tickwidth": 0
          },
          "mapbox": {
           "style": "dark"
          }
         }
        },
        "annotations": [
         {
          "font": {
           "size": 16
          },
          "showarrow": false,
          "text": "NAWL",
          "x": 0.2375,
          "xanchor": "center",
          "xref": "paper",
          "y": 1.0,
          "yanchor": "bottom",
          "yref": "paper"
         },
         {
          "font": {
           "size": 16
          },
          "showarrow": false,
          "text": "Anotacja",
          "x": 0.7625,
          "xanchor": "center",
          "xref": "paper",
          "y": 1.0,
          "yanchor": "bottom",
          "yref": "paper"
         },
         {
          "font": {
           "size": 16
          },
          "showarrow": false,
          "text": "NAWL z pominięciem wartości nieokreślonych",
          "x": 0.2375,
          "xanchor": "center",
          "xref": "paper",
          "y": 0.375,
          "yanchor": "bottom",
          "yref": "paper"
         },
         {
          "font": {
           "size": 16
          },
          "showarrow": false,
          "text": "Anotacja z pominięciem wartości które<br>zostały nieokreślone w bazie NAWL",
          "x": 0.7625,
          "xanchor": "center",
          "xref": "paper",
          "y": 0.375,
          "yanchor": "bottom",
          "yref": "paper"
         }
        ],
        "title": {
         "text": "Pos_sentiment_K"
        }
       },
       "config": {
        "plotlyServerURL": "https://plot.ly"
       }
      },
      "text/html": "<div>                            <div id=\"fd0c8f76-8f27-44eb-8e05-67d703c7442f\" class=\"plotly-graph-div\" style=\"height:525px; width:100%;\"></div>            <script type=\"text/javascript\">                require([\"plotly\"], function(Plotly) {                    window.PLOTLYENV=window.PLOTLYENV || {};                                    if (document.getElementById(\"fd0c8f76-8f27-44eb-8e05-67d703c7442f\")) {                    Plotly.newPlot(                        \"fd0c8f76-8f27-44eb-8e05-67d703c7442f\",                        [{\"insidetextorientation\":\"horizontal\",\"labels\":[\"Negatywne\",\"Pozytywne\",\"Nieokre\\u015blone\"],\"marker\":{\"colors\":[\"#FF6B6B\",\"#6BCB77\",\"#4D96FF\"]},\"textinfo\":\"label+percent+value\",\"textposition\":\"inside\",\"values\":[53,68,130],\"type\":\"pie\",\"domain\":{\"x\":[0.0,0.475],\"y\":[0.625,1.0]}},{\"insidetextorientation\":\"horizontal\",\"labels\":[\"Negatywne\",\"Pozytywne\"],\"marker\":{\"colors\":[\"#FF6B6B\",\"#6BCB77\",\"#4D96FF\"]},\"textinfo\":\"label+percent+value\",\"textposition\":\"inside\",\"values\":[31.0,220.0],\"type\":\"pie\",\"domain\":{\"x\":[0.525,1.0],\"y\":[0.625,1.0]}},{\"insidetextorientation\":\"horizontal\",\"labels\":[\"Negatywne\",\"Pozytywne\",\"Nieokre\\u015blone\"],\"marker\":{\"colors\":[\"#FF6B6B\",\"#6BCB77\",\"#4D96FF\"]},\"textinfo\":\"label+percent+value\",\"textposition\":\"inside\",\"values\":[53.0,68.0,null],\"type\":\"pie\",\"domain\":{\"x\":[0.0,0.475],\"y\":[0.0,0.375]}},{\"insidetextorientation\":\"horizontal\",\"labels\":[\"Negatywne\",\"Pozytywne\"],\"marker\":{\"colors\":[\"#FF6B6B\",\"#6BCB77\",\"#4D96FF\"]},\"textinfo\":\"label+percent+value\",\"textposition\":\"inside\",\"values\":[25.0,96.0],\"type\":\"pie\",\"domain\":{\"x\":[0.525,1.0],\"y\":[0.0,0.375]}}],                        {\"template\":{\"data\":{\"histogram2dcontour\":[{\"type\":\"histogram2dcontour\",\"colorbar\":{\"outlinewidth\":0,\"ticks\":\"\"},\"colorscale\":[[0.0,\"#0d0887\"],[0.1111111111111111,\"#46039f\"],[0.2222222222222222,\"#7201a8\"],[0.3333333333333333,\"#9c179e\"],[0.4444444444444444,\"#bd3786\"],[0.5555555555555556,\"#d8576b\"],[0.6666666666666666,\"#ed7953\"],[0.7777777777777778,\"#fb9f3a\"],[0.8888888888888888,\"#fdca26\"],[1.0,\"#f0f921\"]]}],\"choropleth\":[{\"type\":\"choropleth\",\"colorbar\":{\"outlinewidth\":0,\"ticks\":\"\"}}],\"histogram2d\":[{\"type\":\"histogram2d\",\"colorbar\":{\"outlinewidth\":0,\"ticks\":\"\"},\"colorscale\":[[0.0,\"#0d0887\"],[0.1111111111111111,\"#46039f\"],[0.2222222222222222,\"#7201a8\"],[0.3333333333333333,\"#9c179e\"],[0.4444444444444444,\"#bd3786\"],[0.5555555555555556,\"#d8576b\"],[0.6666666666666666,\"#ed7953\"],[0.7777777777777778,\"#fb9f3a\"],[0.8888888888888888,\"#fdca26\"],[1.0,\"#f0f921\"]]}],\"heatmap\":[{\"type\":\"heatmap\",\"colorbar\":{\"outlinewidth\":0,\"ticks\":\"\"},\"colorscale\":[[0.0,\"#0d0887\"],[0.1111111111111111,\"#46039f\"],[0.2222222222222222,\"#7201a8\"],[0.3333333333333333,\"#9c179e\"],[0.4444444444444444,\"#bd3786\"],[0.5555555555555556,\"#d8576b\"],[0.6666666666666666,\"#ed7953\"],[0.7777777777777778,\"#fb9f3a\"],[0.8888888888888888,\"#fdca26\"],[1.0,\"#f0f921\"]]}],\"heatmapgl\":[{\"type\":\"heatmapgl\",\"colorbar\":{\"outlinewidth\":0,\"ticks\":\"\"},\"colorscale\":[[0.0,\"#0d0887\"],[0.1111111111111111,\"#46039f\"],[0.2222222222222222,\"#7201a8\"],[0.3333333333333333,\"#9c179e\"],[0.4444444444444444,\"#bd3786\"],[0.5555555555555556,\"#d8576b\"],[0.6666666666666666,\"#ed7953\"],[0.7777777777777778,\"#fb9f3a\"],[0.8888888888888888,\"#fdca26\"],[1.0,\"#f0f921\"]]}],\"contourcarpet\":[{\"type\":\"contourcarpet\",\"colorbar\":{\"outlinewidth\":0,\"ticks\":\"\"}}],\"contour\":[{\"type\":\"contour\",\"colorbar\":{\"outlinewidth\":0,\"ticks\":\"\"},\"colorscale\":[[0.0,\"#0d0887\"],[0.1111111111111111,\"#46039f\"],[0.2222222222222222,\"#7201a8\"],[0.3333333333333333,\"#9c179e\"],[0.4444444444444444,\"#bd3786\"],[0.5555555555555556,\"#d8576b\"],[0.6666666666666666,\"#ed7953\"],[0.7777777777777778,\"#fb9f3a\"],[0.8888888888888888,\"#fdca26\"],[1.0,\"#f0f921\"]]}],\"surface\":[{\"type\":\"surface\",\"colorbar\":{\"outlinewidth\":0,\"ticks\":\"\"},\"colorscale\":[[0.0,\"#0d0887\"],[0.1111111111111111,\"#46039f\"],[0.2222222222222222,\"#7201a8\"],[0.3333333333333333,\"#9c179e\"],[0.4444444444444444,\"#bd3786\"],[0.5555555555555556,\"#d8576b\"],[0.6666666666666666,\"#ed7953\"],[0.7777777777777778,\"#fb9f3a\"],[0.8888888888888888,\"#fdca26\"],[1.0,\"#f0f921\"]]}],\"mesh3d\":[{\"type\":\"mesh3d\",\"colorbar\":{\"outlinewidth\":0,\"ticks\":\"\"}}],\"scatter\":[{\"marker\":{\"line\":{\"color\":\"#283442\"}},\"type\":\"scatter\"}],\"parcoords\":[{\"type\":\"parcoords\",\"line\":{\"colorbar\":{\"outlinewidth\":0,\"ticks\":\"\"}}}],\"scatterpolargl\":[{\"type\":\"scatterpolargl\",\"marker\":{\"colorbar\":{\"outlinewidth\":0,\"ticks\":\"\"}}}],\"bar\":[{\"error_x\":{\"color\":\"#f2f5fa\"},\"error_y\":{\"color\":\"#f2f5fa\"},\"marker\":{\"line\":{\"color\":\"rgb(17,17,17)\",\"width\":0.5},\"pattern\":{\"fillmode\":\"overlay\",\"size\":10,\"solidity\":0.2}},\"type\":\"bar\"}],\"scattergeo\":[{\"type\":\"scattergeo\",\"marker\":{\"colorbar\":{\"outlinewidth\":0,\"ticks\":\"\"}}}],\"scatterpolar\":[{\"type\":\"scatterpolar\",\"marker\":{\"colorbar\":{\"outlinewidth\":0,\"ticks\":\"\"}}}],\"histogram\":[{\"marker\":{\"pattern\":{\"fillmode\":\"overlay\",\"size\":10,\"solidity\":0.2}},\"type\":\"histogram\"}],\"scattergl\":[{\"marker\":{\"line\":{\"color\":\"#283442\"}},\"type\":\"scattergl\"}],\"scatter3d\":[{\"type\":\"scatter3d\",\"line\":{\"colorbar\":{\"outlinewidth\":0,\"ticks\":\"\"}},\"marker\":{\"colorbar\":{\"outlinewidth\":0,\"ticks\":\"\"}}}],\"scattermapbox\":[{\"type\":\"scattermapbox\",\"marker\":{\"colorbar\":{\"outlinewidth\":0,\"ticks\":\"\"}}}],\"scatterternary\":[{\"type\":\"scatterternary\",\"marker\":{\"colorbar\":{\"outlinewidth\":0,\"ticks\":\"\"}}}],\"scattercarpet\":[{\"type\":\"scattercarpet\",\"marker\":{\"colorbar\":{\"outlinewidth\":0,\"ticks\":\"\"}}}],\"carpet\":[{\"aaxis\":{\"endlinecolor\":\"#A2B1C6\",\"gridcolor\":\"#506784\",\"linecolor\":\"#506784\",\"minorgridcolor\":\"#506784\",\"startlinecolor\":\"#A2B1C6\"},\"baxis\":{\"endlinecolor\":\"#A2B1C6\",\"gridcolor\":\"#506784\",\"linecolor\":\"#506784\",\"minorgridcolor\":\"#506784\",\"startlinecolor\":\"#A2B1C6\"},\"type\":\"carpet\"}],\"table\":[{\"cells\":{\"fill\":{\"color\":\"#506784\"},\"line\":{\"color\":\"rgb(17,17,17)\"}},\"header\":{\"fill\":{\"color\":\"#2a3f5f\"},\"line\":{\"color\":\"rgb(17,17,17)\"}},\"type\":\"table\"}],\"barpolar\":[{\"marker\":{\"line\":{\"color\":\"rgb(17,17,17)\",\"width\":0.5},\"pattern\":{\"fillmode\":\"overlay\",\"size\":10,\"solidity\":0.2}},\"type\":\"barpolar\"}],\"pie\":[{\"automargin\":true,\"type\":\"pie\"}]},\"layout\":{\"autotypenumbers\":\"strict\",\"colorway\":[\"#636efa\",\"#EF553B\",\"#00cc96\",\"#ab63fa\",\"#FFA15A\",\"#19d3f3\",\"#FF6692\",\"#B6E880\",\"#FF97FF\",\"#FECB52\"],\"font\":{\"color\":\"#f2f5fa\"},\"hovermode\":\"closest\",\"hoverlabel\":{\"align\":\"left\"},\"paper_bgcolor\":\"rgb(17,17,17)\",\"plot_bgcolor\":\"rgb(17,17,17)\",\"polar\":{\"bgcolor\":\"rgb(17,17,17)\",\"angularaxis\":{\"gridcolor\":\"#506784\",\"linecolor\":\"#506784\",\"ticks\":\"\"},\"radialaxis\":{\"gridcolor\":\"#506784\",\"linecolor\":\"#506784\",\"ticks\":\"\"}},\"ternary\":{\"bgcolor\":\"rgb(17,17,17)\",\"aaxis\":{\"gridcolor\":\"#506784\",\"linecolor\":\"#506784\",\"ticks\":\"\"},\"baxis\":{\"gridcolor\":\"#506784\",\"linecolor\":\"#506784\",\"ticks\":\"\"},\"caxis\":{\"gridcolor\":\"#506784\",\"linecolor\":\"#506784\",\"ticks\":\"\"}},\"coloraxis\":{\"colorbar\":{\"outlinewidth\":0,\"ticks\":\"\"}},\"colorscale\":{\"sequential\":[[0.0,\"#0d0887\"],[0.1111111111111111,\"#46039f\"],[0.2222222222222222,\"#7201a8\"],[0.3333333333333333,\"#9c179e\"],[0.4444444444444444,\"#bd3786\"],[0.5555555555555556,\"#d8576b\"],[0.6666666666666666,\"#ed7953\"],[0.7777777777777778,\"#fb9f3a\"],[0.8888888888888888,\"#fdca26\"],[1.0,\"#f0f921\"]],\"sequentialminus\":[[0.0,\"#0d0887\"],[0.1111111111111111,\"#46039f\"],[0.2222222222222222,\"#7201a8\"],[0.3333333333333333,\"#9c179e\"],[0.4444444444444444,\"#bd3786\"],[0.5555555555555556,\"#d8576b\"],[0.6666666666666666,\"#ed7953\"],[0.7777777777777778,\"#fb9f3a\"],[0.8888888888888888,\"#fdca26\"],[1.0,\"#f0f921\"]],\"diverging\":[[0,\"#8e0152\"],[0.1,\"#c51b7d\"],[0.2,\"#de77ae\"],[0.3,\"#f1b6da\"],[0.4,\"#fde0ef\"],[0.5,\"#f7f7f7\"],[0.6,\"#e6f5d0\"],[0.7,\"#b8e186\"],[0.8,\"#7fbc41\"],[0.9,\"#4d9221\"],[1,\"#276419\"]]},\"xaxis\":{\"gridcolor\":\"#283442\",\"linecolor\":\"#506784\",\"ticks\":\"\",\"title\":{\"standoff\":15},\"zerolinecolor\":\"#283442\",\"automargin\":true,\"zerolinewidth\":2},\"yaxis\":{\"gridcolor\":\"#283442\",\"linecolor\":\"#506784\",\"ticks\":\"\",\"title\":{\"standoff\":15},\"zerolinecolor\":\"#283442\",\"automargin\":true,\"zerolinewidth\":2},\"scene\":{\"xaxis\":{\"backgroundcolor\":\"rgb(17,17,17)\",\"gridcolor\":\"#506784\",\"linecolor\":\"#506784\",\"showbackground\":true,\"ticks\":\"\",\"zerolinecolor\":\"#C8D4E3\",\"gridwidth\":2},\"yaxis\":{\"backgroundcolor\":\"rgb(17,17,17)\",\"gridcolor\":\"#506784\",\"linecolor\":\"#506784\",\"showbackground\":true,\"ticks\":\"\",\"zerolinecolor\":\"#C8D4E3\",\"gridwidth\":2},\"zaxis\":{\"backgroundcolor\":\"rgb(17,17,17)\",\"gridcolor\":\"#506784\",\"linecolor\":\"#506784\",\"showbackground\":true,\"ticks\":\"\",\"zerolinecolor\":\"#C8D4E3\",\"gridwidth\":2}},\"shapedefaults\":{\"line\":{\"color\":\"#f2f5fa\"}},\"annotationdefaults\":{\"arrowcolor\":\"#f2f5fa\",\"arrowhead\":0,\"arrowwidth\":1},\"geo\":{\"bgcolor\":\"rgb(17,17,17)\",\"landcolor\":\"rgb(17,17,17)\",\"subunitcolor\":\"#506784\",\"showland\":true,\"showlakes\":true,\"lakecolor\":\"rgb(17,17,17)\"},\"title\":{\"x\":0.05},\"updatemenudefaults\":{\"bgcolor\":\"#506784\",\"borderwidth\":0},\"sliderdefaults\":{\"bgcolor\":\"#C8D4E3\",\"borderwidth\":1,\"bordercolor\":\"rgb(17,17,17)\",\"tickwidth\":0},\"mapbox\":{\"style\":\"dark\"}}},\"annotations\":[{\"font\":{\"size\":16},\"showarrow\":false,\"text\":\"NAWL\",\"x\":0.2375,\"xanchor\":\"center\",\"xref\":\"paper\",\"y\":1.0,\"yanchor\":\"bottom\",\"yref\":\"paper\"},{\"font\":{\"size\":16},\"showarrow\":false,\"text\":\"Anotacja\",\"x\":0.7625,\"xanchor\":\"center\",\"xref\":\"paper\",\"y\":1.0,\"yanchor\":\"bottom\",\"yref\":\"paper\"},{\"font\":{\"size\":16},\"showarrow\":false,\"text\":\"NAWL z pomini\\u0119ciem warto\\u015bci nieokre\\u015blonych\",\"x\":0.2375,\"xanchor\":\"center\",\"xref\":\"paper\",\"y\":0.375,\"yanchor\":\"bottom\",\"yref\":\"paper\"},{\"font\":{\"size\":16},\"showarrow\":false,\"text\":\"Anotacja z pomini\\u0119ciem warto\\u015bci kt\\u00f3re<br>zosta\\u0142y nieokre\\u015blone w bazie NAWL\",\"x\":0.7625,\"xanchor\":\"center\",\"xref\":\"paper\",\"y\":0.375,\"yanchor\":\"bottom\",\"yref\":\"paper\"}],\"title\":{\"text\":\"Pos_sentiment_K\"}},                        {\"responsive\": true}                    ).then(function(){\n                            \nvar gd = document.getElementById('fd0c8f76-8f27-44eb-8e05-67d703c7442f');\nvar x = new MutationObserver(function (mutations, observer) {{\n        var display = window.getComputedStyle(gd).display;\n        if (!display || display === 'none') {{\n            console.log([gd, 'removed!']);\n            Plotly.purge(gd);\n            observer.disconnect();\n        }}\n}});\n\n// Listen for the removal of the full notebook cells\nvar notebookContainer = gd.closest('#notebook-container');\nif (notebookContainer) {{\n    x.observe(notebookContainer, {childList: true});\n}}\n\n// Listen for the clearing of the current output cell\nvar outputEl = gd.closest('.output');\nif (outputEl) {{\n    x.observe(outputEl, {childList: true});\n}}\n\n                        })                };                });            </script>        </div>"
     },
     "metadata": {},
     "output_type": "display_data"
    },
    {
     "name": "stdout",
     "output_type": "stream",
     "text": [
      "Kappa k-cat i k-anot: -0.319\n"
     ]
    },
    {
     "data": {
      "text/plain": "<Figure size 432x288 with 2 Axes>",
      "image/png": "[encoded data removed]"
     },
     "metadata": {},
     "output_type": "display_data"
    },
    {
     "data": {
      "application/vnd.plotly.v1+json": {
       "data": [
        {
         "insidetextorientation": "horizontal",
         "labels": [
          "Negatywne",
          "Pozytywne",
          "Nieokreślone"
         ],
         "marker": {
          "colors": [
           "#FF6B6B",
           "#6BCB77",
           "#4D96FF"
          ]
         },
         "textinfo": "label+percent+value",
         "textposition": "inside",
         "values": [
          53,
          68,
          130
         ],
         "type": "pie",
         "domain": {
          "x": [
           0.0,
           0.475
          ],
          "y": [
           0.625,
           1.0
          ]
         }
        },
        {
         "insidetextorientation": "horizontal",
         "labels": [
          "Negatywne",
          "Pozytywne"
         ],
         "marker": {
          "colors": [
           "#FF6B6B",
           "#6BCB77",
           "#4D96FF"
          ]
         },
         "textinfo": "label+percent+value",
         "textposition": "inside",
         "values": [
          31.0,
          220.0
         ],
         "type": "pie",
         "domain": {
          "x": [
           0.525,
           1.0
          ],
          "y": [
           0.625,
           1.0
          ]
         }
        },
        {
         "insidetextorientation": "horizontal",
         "labels": [
          "Negatywne",
          "Pozytywne",
          "Nieokreślone"
         ],
         "marker": {
          "colors": [
           "#FF6B6B",
           "#6BCB77",
           "#4D96FF"
          ]
         },
         "textinfo": "label+percent+value",
         "textposition": "inside",
         "values": [
          53.0,
          68.0,
          null
         ],
         "type": "pie",
         "domain": {
          "x": [
           0.0,
           0.475
          ],
          "y": [
           0.0,
           0.375
          ]
         }
        },
        {
         "insidetextorientation": "horizontal",
         "labels": [
          "Negatywne",
          "Pozytywne"
         ],
         "marker": {
          "colors": [
           "#FF6B6B",
           "#6BCB77",
           "#4D96FF"
          ]
         },
         "textinfo": "label+percent+value",
         "textposition": "inside",
         "values": [
          25.0,
          96.0
         ],
         "type": "pie",
         "domain": {
          "x": [
           0.525,
           1.0
          ],
          "y": [
           0.0,
           0.375
          ]
         }
        },
        {
         "insidetextorientation": "horizontal",
         "labels": [
          "Negatywne",
          "Pozytywne",
          "Nieokreślone"
         ],
         "marker": {
          "colors": [
           "#FF6B6B",
           "#6BCB77",
           "#4D96FF"
          ]
         },
         "textinfo": "label+percent+value",
         "textposition": "inside",
         "values": [
          52,
          166,
          33
         ],
         "type": "pie",
         "domain": {
          "x": [
           0.0,
           0.475
          ],
          "y": [
           0.625,
           1.0
          ]
         }
        },
        {
         "insidetextorientation": "horizontal",
         "labels": [
          "Negatywne",
          "Pozytywne"
         ],
         "marker": {
          "colors": [
           "#FF6B6B",
           "#6BCB77",
           "#4D96FF"
          ]
         },
         "textinfo": "label+percent+value",
         "textposition": "inside",
         "values": [
          115.0,
          136.0
         ],
         "type": "pie",
         "domain": {
          "x": [
           0.525,
           1.0
          ],
          "y": [
           0.625,
           1.0
          ]
         }
        },
        {
         "insidetextorientation": "horizontal",
         "labels": [
          "Negatywne",
          "Pozytywne",
          "Nieokreślone"
         ],
         "marker": {
          "colors": [
           "#FF6B6B",
           "#6BCB77",
           "#4D96FF"
          ]
         },
         "textinfo": "label+percent+value",
         "textposition": "inside",
         "values": [
          52.0,
          166.0,
          null
         ],
         "type": "pie",
         "domain": {
          "x": [
           0.0,
           0.475
          ],
          "y": [
           0.0,
           0.375
          ]
         }
        },
        {
         "insidetextorientation": "horizontal",
         "labels": [
          "Negatywne",
          "Pozytywne"
         ],
         "marker": {
          "colors": [
           "#FF6B6B",
           "#6BCB77",
           "#4D96FF"
          ]
         },
         "textinfo": "label+percent+value",
         "textposition": "inside",
         "values": [
          104.0,
          114.0
         ],
         "type": "pie",
         "domain": {
          "x": [
           0.525,
           1.0
          ],
          "y": [
           0.0,
           0.375
          ]
         }
        }
       ],
       "layout": {
        "template": {
         "data": {
          "histogram2dcontour": [
           {
            "type": "histogram2dcontour",
            "colorbar": {
             "outlinewidth": 0,
             "ticks": ""
            },
            "colorscale": [
             [
              0.0,
              "#0d0887"
             ],
             [
              0.1111111111111111,
              "#46039f"
             ],
             [
              0.2222222222222222,
              "#7201a8"
             ],
             [
              0.3333333333333333,
              "#9c179e"
             ],
             [
              0.4444444444444444,
              "#bd3786"
             ],
             [
              0.5555555555555556,
              "#d8576b"
             ],
             [
              0.6666666666666666,
              "#ed7953"
             ],
             [
              0.7777777777777778,
              "#fb9f3a"
             ],
             [
              0.8888888888888888,
              "#fdca26"
             ],
             [
              1.0,
              "#f0f921"
             ]
            ]
           }
          ],
          "choropleth": [
           {
            "type": "choropleth",
            "colorbar": {
             "outlinewidth": 0,
             "ticks": ""
            }
           }
          ],
          "histogram2d": [
           {
            "type": "histogram2d",
            "colorbar": {
             "outlinewidth": 0,
             "ticks": ""
            },
            "colorscale": [
             [
              0.0,
              "#0d0887"
             ],
             [
              0.1111111111111111,
              "#46039f"
             ],
             [
              0.2222222222222222,
              "#7201a8"
             ],
             [
              0.3333333333333333,
              "#9c179e"
             ],
             [
              0.4444444444444444,
              "#bd3786"
             ],
             [
              0.5555555555555556,
              "#d8576b"
             ],
             [
              0.6666666666666666,
              "#ed7953"
             ],
             [
              0.7777777777777778,
              "#fb9f3a"
             ],
             [
              0.8888888888888888,
              "#fdca26"
             ],
             [
              1.0,
              "#f0f921"
             ]
            ]
           }
          ],
          "heatmap": [
           {
            "type": "heatmap",
            "colorbar": {
             "outlinewidth": 0,
             "ticks": ""
            },
            "colorscale": [
             [
              0.0,
              "#0d0887"
             ],
             [
              0.1111111111111111,
              "#46039f"
             ],
             [
              0.2222222222222222,
              "#7201a8"
             ],
             [
              0.3333333333333333,
              "#9c179e"
             ],
             [
              0.4444444444444444,
              "#bd3786"
             ],
             [
              0.5555555555555556,
              "#d8576b"
             ],
             [
              0.6666666666666666,
              "#ed7953"
             ],
             [
              0.7777777777777778,
              "#fb9f3a"
             ],
             [
              0.8888888888888888,
              "#fdca26"
             ],
             [
              1.0,
              "#f0f921"
             ]
            ]
           }
          ],
          "heatmapgl": [
           {
            "type": "heatmapgl",
            "colorbar": {
             "outlinewidth": 0,
             "ticks": ""
            },
            "colorscale": [
             [
              0.0,
              "#0d0887"
             ],
             [
              0.1111111111111111,
              "#46039f"
             ],
             [
              0.2222222222222222,
              "#7201a8"
             ],
             [
              0.3333333333333333,
              "#9c179e"
             ],
             [
              0.4444444444444444,
              "#bd3786"
             ],
             [
              0.5555555555555556,
              "#d8576b"
             ],
             [
              0.6666666666666666,
              "#ed7953"
             ],
             [
              0.7777777777777778,
              "#fb9f3a"
             ],
             [
              0.8888888888888888,
              "#fdca26"
             ],
             [
              1.0,
              "#f0f921"
             ]
            ]
           }
          ],
          "contourcarpet": [
           {
            "type": "contourcarpet",
            "colorbar": {
             "outlinewidth": 0,
             "ticks": ""
            }
           }
          ],
          "contour": [
           {
            "type": "contour",
            "colorbar": {
             "outlinewidth": 0,
             "ticks": ""
            },
            "colorscale": [
             [
              0.0,
              "#0d0887"
             ],
             [
              0.1111111111111111,
              "#46039f"
             ],
             [
              0.2222222222222222,
              "#7201a8"
             ],
             [
              0.3333333333333333,
              "#9c179e"
             ],
             [
              0.4444444444444444,
              "#bd3786"
             ],
             [
              0.5555555555555556,
              "#d8576b"
             ],
             [
              0.6666666666666666,
              "#ed7953"
             ],
             [
              0.7777777777777778,
              "#fb9f3a"
             ],
             [
              0.8888888888888888,
              "#fdca26"
             ],
             [
              1.0,
              "#f0f921"
             ]
            ]
           }
          ],
          "surface": [
           {
            "type": "surface",
            "colorbar": {
             "outlinewidth": 0,
             "ticks": ""
            },
            "colorscale": [
             [
              0.0,
              "#0d0887"
             ],
             [
              0.1111111111111111,
              "#46039f"
             ],
             [
              0.2222222222222222,
              "#7201a8"
             ],
             [
              0.3333333333333333,
              "#9c179e"
             ],
             [
              0.4444444444444444,
              "#bd3786"
             ],
             [
              0.5555555555555556,
              "#d8576b"
             ],
             [
              0.6666666666666666,
              "#ed7953"
             ],
             [
              0.7777777777777778,
              "#fb9f3a"
             ],
             [
              0.8888888888888888,
              "#fdca26"
             ],
             [
              1.0,
              "#f0f921"
             ]
            ]
           }
          ],
          "mesh3d": [
           {
            "type": "mesh3d",
            "colorbar": {
             "outlinewidth": 0,
             "ticks": ""
            }
           }
          ],
          "scatter": [
           {
            "marker": {
             "line": {
              "color": "#283442"
             }
            },
            "type": "scatter"
           }
          ],
          "parcoords": [
           {
            "type": "parcoords",
            "line": {
             "colorbar": {
              "outlinewidth": 0,
              "ticks": ""
             }
            }
           }
          ],
          "scatterpolargl": [
           {
            "type": "scatterpolargl",
            "marker": {
             "colorbar": {
              "outlinewidth": 0,
              "ticks": ""
             }
            }
           }
          ],
          "bar": [
           {
            "error_x": {
             "color": "#f2f5fa"
            },
            "error_y": {
             "color": "#f2f5fa"
            },
            "marker": {
             "line": {
              "color": "rgb(17,17,17)",
              "width": 0.5
             },
             "pattern": {
              "fillmode": "overlay",
              "size": 10,
              "solidity": 0.2
             }
            },
            "type": "bar"
           }
          ],
          "scattergeo": [
           {
            "type": "scattergeo",
            "marker": {
             "colorbar": {
              "outlinewidth": 0,
              "ticks": ""
             }
            }
           }
          ],
          "scatterpolar": [
           {
            "type": "scatterpolar",
            "marker": {
             "colorbar": {
              "outlinewidth": 0,
              "ticks": ""
             }
            }
           }
          ],
          "histogram": [
           {
            "marker": {
             "pattern": {
              "fillmode": "overlay",
              "size": 10,
              "solidity": 0.2
             }
            },
            "type": "histogram"
           }
          ],
          "scattergl": [
           {
            "marker": {
             "line": {
              "color": "#283442"
             }
            },
            "type": "scattergl"
           }
          ],
          "scatter3d": [
           {
            "type": "scatter3d",
            "line": {
             "colorbar": {
              "outlinewidth": 0,
              "ticks": ""
             }
            },
            "marker": {
             "colorbar": {
              "outlinewidth": 0,
              "ticks": ""
             }
            }
           }
          ],
          "scattermapbox": [
           {
            "type": "scattermapbox",
            "marker": {
             "colorbar": {
              "outlinewidth": 0,
              "ticks": ""
             }
            }
           }
          ],
          "scatterternary": [
           {
            "type": "scatterternary",
            "marker": {
             "colorbar": {
              "outlinewidth": 0,
              "ticks": ""
             }
            }
           }
          ],
          "scattercarpet": [
           {
            "type": "scattercarpet",
            "marker": {
             "colorbar": {
              "outlinewidth": 0,
              "ticks": ""
             }
            }
           }
          ],
          "carpet": [
           {
            "aaxis": {
             "endlinecolor": "#A2B1C6",
             "gridcolor": "#506784",
             "linecolor": "#506784",
             "minorgridcolor": "#506784",
             "startlinecolor": "#A2B1C6"
            },
            "baxis": {
             "endlinecolor": "#A2B1C6",
             "gridcolor": "#506784",
             "linecolor": "#506784",
             "minorgridcolor": "#506784",
             "startlinecolor": "#A2B1C6"
            },
            "type": "carpet"
           }
          ],
          "table": [
           {
            "cells": {
             "fill": {
              "color": "#506784"
             },
             "line": {
              "color": "rgb(17,17,17)"
             }
            },
            "header": {
             "fill": {
              "color": "#2a3f5f"
             },
             "line": {
              "color": "rgb(17,17,17)"
             }
            },
            "type": "table"
           }
          ],
          "barpolar": [
           {
            "marker": {
             "line": {
              "color": "rgb(17,17,17)",
              "width": 0.5
             },
             "pattern": {
              "fillmode": "overlay",
              "size": 10,
              "solidity": 0.2
             }
            },
            "type": "barpolar"
           }
          ],
          "pie": [
           {
            "automargin": true,
            "type": "pie"
           }
          ]
         },
         "layout": {
          "autotypenumbers": "strict",
          "colorway": [
           "#636efa",
           "#EF553B",
           "#00cc96",
           "#ab63fa",
           "#FFA15A",
           "#19d3f3",
           "#FF6692",
           "#B6E880",
           "#FF97FF",
           "#FECB52"
          ],
          "font": {
           "color": "#f2f5fa"
          },
          "hovermode": "closest",
          "hoverlabel": {
           "align": "left"
          },
          "paper_bgcolor": "rgb(17,17,17)",
          "plot_bgcolor": "rgb(17,17,17)",
          "polar": {
           "bgcolor": "rgb(17,17,17)",
           "angularaxis": {
            "gridcolor": "#506784",
            "linecolor": "#506784",
            "ticks": ""
           },
           "radialaxis": {
            "gridcolor": "#506784",
            "linecolor": "#506784",
            "ticks": ""
           }
          },
          "ternary": {
           "bgcolor": "rgb(17,17,17)",
           "aaxis": {
            "gridcolor": "#506784",
            "linecolor": "#506784",
            "ticks": ""
           },
           "baxis": {
            "gridcolor": "#506784",
            "linecolor": "#506784",
            "ticks": ""
           },
           "caxis": {
            "gridcolor": "#506784",
            "linecolor": "#506784",
            "ticks": ""
           }
          },
          "coloraxis": {
           "colorbar": {
            "outlinewidth": 0,
            "ticks": ""
           }
          },
          "colorscale": {
           "sequential": [
            [
             0.0,
             "#0d0887"
            ],
            [
             0.1111111111111111,
             "#46039f"
            ],
            [
             0.2222222222222222,
             "#7201a8"
            ],
            [
             0.3333333333333333,
             "#9c179e"
            ],
            [
             0.4444444444444444,
             "#bd3786"
            ],
            [
             0.5555555555555556,
             "#d8576b"
            ],
            [
             0.6666666666666666,
             "#ed7953"
            ],
            [
             0.7777777777777778,
             "#fb9f3a"
            ],
            [
             0.8888888888888888,
             "#fdca26"
            ],
            [
             1.0,
             "#f0f921"
            ]
           ],
           "sequentialminus": [
            [
             0.0,
             "#0d0887"
            ],
            [
             0.1111111111111111,
             "#46039f"
            ],
            [
             0.2222222222222222,
             "#7201a8"
            ],
            [
             0.3333333333333333,
             "#9c179e"
            ],
            [
             0.4444444444444444,
             "#bd3786"
            ],
            [
             0.5555555555555556,
             "#d8576b"
            ],
            [
             0.6666666666666666,
             "#ed7953"
            ],
            [
             0.7777777777777778,
             "#fb9f3a"
            ],
            [
             0.8888888888888888,
             "#fdca26"
            ],
            [
             1.0,
             "#f0f921"
            ]
           ],
           "diverging": [
            [
             0,
             "#8e0152"
            ],
            [
             0.1,
             "#c51b7d"
            ],
            [
             0.2,
             "#de77ae"
            ],
            [
             0.3,
             "#f1b6da"
            ],
            [
             0.4,
             "#fde0ef"
            ],
            [
             0.5,
             "#f7f7f7"
            ],
            [
             0.6,
             "#e6f5d0"
            ],
            [
             0.7,
             "#b8e186"
            ],
            [
             0.8,
             "#7fbc41"
            ],
            [
             0.9,
             "#4d9221"
            ],
            [
             1,
             "#276419"
            ]
           ]
          },
          "xaxis": {
           "gridcolor": "#283442",
           "linecolor": "#506784",
           "ticks": "",
           "title": {
            "standoff": 15
           },
           "zerolinecolor": "#283442",
           "automargin": true,
           "zerolinewidth": 2
          },
          "yaxis": {
           "gridcolor": "#283442",
           "linecolor": "#506784",
           "ticks": "",
           "title": {
            "standoff": 15
           },
           "zerolinecolor": "#283442",
           "automargin": true,
           "zerolinewidth": 2
          },
          "scene": {
           "xaxis": {
            "backgroundcolor": "rgb(17,17,17)",
            "gridcolor": "#506784",
            "linecolor": "#506784",
            "showbackground": true,
            "ticks": "",
            "zerolinecolor": "#C8D4E3",
            "gridwidth": 2
           },
           "yaxis": {
            "backgroundcolor": "rgb(17,17,17)",
            "gridcolor": "#506784",
            "linecolor": "#506784",
            "showbackground": true,
            "ticks": "",
            "zerolinecolor": "#C8D4E3",
            "gridwidth": 2
           },
           "zaxis": {
            "backgroundcolor": "rgb(17,17,17)",
            "gridcolor": "#506784",
            "linecolor": "#506784",
            "showbackground": true,
            "ticks": "",
            "zerolinecolor": "#C8D4E3",
            "gridwidth": 2
           }
          },
          "shapedefaults": {
           "line": {
            "color": "#f2f5fa"
           }
          },
          "annotationdefaults": {
           "arrowcolor": "#f2f5fa",
           "arrowhead": 0,
           "arrowwidth": 1
          },
          "geo": {
           "bgcolor": "rgb(17,17,17)",
           "landcolor": "rgb(17,17,17)",
           "subunitcolor": "#506784",
           "showland": true,
           "showlakes": true,
           "lakecolor": "rgb(17,17,17)"
          },
          "title": {
           "x": 0.05
          },
          "updatemenudefaults": {
           "bgcolor": "#506784",
           "borderwidth": 0
          },
          "sliderdefaults": {
           "bgcolor": "#C8D4E3",
           "borderwidth": 1,
           "bordercolor": "rgb(17,17,17)",
           "tickwidth": 0
          },
          "mapbox": {
           "style": "dark"
          }
         }
        },
        "annotations": [
         {
          "font": {
           "size": 16
          },
          "showarrow": false,
          "text": "NAWL",
          "x": 0.2375,
          "xanchor": "center",
          "xref": "paper",
          "y": 1.0,
          "yanchor": "bottom",
          "yref": "paper"
         },
         {
          "font": {
           "size": 16
          },
          "showarrow": false,
          "text": "Anotacja",
          "x": 0.7625,
          "xanchor": "center",
          "xref": "paper",
          "y": 1.0,
          "yanchor": "bottom",
          "yref": "paper"
         },
         {
          "font": {
           "size": 16
          },
          "showarrow": false,
          "text": "NAWL z pominięciem wartości nieokreślonych",
          "x": 0.2375,
          "xanchor": "center",
          "xref": "paper",
          "y": 0.375,
          "yanchor": "bottom",
          "yref": "paper"
         },
         {
          "font": {
           "size": 16
          },
          "showarrow": false,
          "text": "Anotacja z pominięciem wartości które<br>zostały nieokreślone w bazie NAWL",
          "x": 0.7625,
          "xanchor": "center",
          "xref": "paper",
          "y": 0.375,
          "yanchor": "bottom",
          "yref": "paper"
         }
        ],
        "title": {
         "text": "Pos_sentiment_1"
        }
       },
       "config": {
        "plotlyServerURL": "https://plot.ly"
       }
      },
      "text/html": "<div>                            <div id=\"263ee52d-7ea3-4329-a672-08cb26133423\" class=\"plotly-graph-div\" style=\"height:525px; width:100%;\"></div>            <script type=\"text/javascript\">                require([\"plotly\"], function(Plotly) {                    window.PLOTLYENV=window.PLOTLYENV || {};                                    if (document.getElementById(\"263ee52d-7ea3-4329-a672-08cb26133423\")) {                    Plotly.newPlot(                        \"263ee52d-7ea3-4329-a672-08cb26133423\",                        [{\"insidetextorientation\":\"horizontal\",\"labels\":[\"Negatywne\",\"Pozytywne\",\"Nieokre\\u015blone\"],\"marker\":{\"colors\":[\"#FF6B6B\",\"#6BCB77\",\"#4D96FF\"]},\"textinfo\":\"label+percent+value\",\"textposition\":\"inside\",\"values\":[53,68,130],\"type\":\"pie\",\"domain\":{\"x\":[0.0,0.475],\"y\":[0.625,1.0]}},{\"insidetextorientation\":\"horizontal\",\"labels\":[\"Negatywne\",\"Pozytywne\"],\"marker\":{\"colors\":[\"#FF6B6B\",\"#6BCB77\",\"#4D96FF\"]},\"textinfo\":\"label+percent+value\",\"textposition\":\"inside\",\"values\":[31.0,220.0],\"type\":\"pie\",\"domain\":{\"x\":[0.525,1.0],\"y\":[0.625,1.0]}},{\"insidetextorientation\":\"horizontal\",\"labels\":[\"Negatywne\",\"Pozytywne\",\"Nieokre\\u015blone\"],\"marker\":{\"colors\":[\"#FF6B6B\",\"#6BCB77\",\"#4D96FF\"]},\"textinfo\":\"label+percent+value\",\"textposition\":\"inside\",\"values\":[53.0,68.0,null],\"type\":\"pie\",\"domain\":{\"x\":[0.0,0.475],\"y\":[0.0,0.375]}},{\"insidetextorientation\":\"horizontal\",\"labels\":[\"Negatywne\",\"Pozytywne\"],\"marker\":{\"colors\":[\"#FF6B6B\",\"#6BCB77\",\"#4D96FF\"]},\"textinfo\":\"label+percent+value\",\"textposition\":\"inside\",\"values\":[25.0,96.0],\"type\":\"pie\",\"domain\":{\"x\":[0.525,1.0],\"y\":[0.0,0.375]}},{\"insidetextorientation\":\"horizontal\",\"labels\":[\"Negatywne\",\"Pozytywne\",\"Nieokre\\u015blone\"],\"marker\":{\"colors\":[\"#FF6B6B\",\"#6BCB77\",\"#4D96FF\"]},\"textinfo\":\"label+percent+value\",\"textposition\":\"inside\",\"values\":[52,166,33],\"type\":\"pie\",\"domain\":{\"x\":[0.0,0.475],\"y\":[0.625,1.0]}},{\"insidetextorientation\":\"horizontal\",\"labels\":[\"Negatywne\",\"Pozytywne\"],\"marker\":{\"colors\":[\"#FF6B6B\",\"#6BCB77\",\"#4D96FF\"]},\"textinfo\":\"label+percent+value\",\"textposition\":\"inside\",\"values\":[115.0,136.0],\"type\":\"pie\",\"domain\":{\"x\":[0.525,1.0],\"y\":[0.625,1.0]}},{\"insidetextorientation\":\"horizontal\",\"labels\":[\"Negatywne\",\"Pozytywne\",\"Nieokre\\u015blone\"],\"marker\":{\"colors\":[\"#FF6B6B\",\"#6BCB77\",\"#4D96FF\"]},\"textinfo\":\"label+percent+value\",\"textposition\":\"inside\",\"values\":[52.0,166.0,null],\"type\":\"pie\",\"domain\":{\"x\":[0.0,0.475],\"y\":[0.0,0.375]}},{\"insidetextorientation\":\"horizontal\",\"labels\":[\"Negatywne\",\"Pozytywne\"],\"marker\":{\"colors\":[\"#FF6B6B\",\"#6BCB77\",\"#4D96FF\"]},\"textinfo\":\"label+percent+value\",\"textposition\":\"inside\",\"values\":[104.0,114.0],\"type\":\"pie\",\"domain\":{\"x\":[0.525,1.0],\"y\":[0.0,0.375]}}],                        {\"template\":{\"data\":{\"histogram2dcontour\":[{\"type\":\"histogram2dcontour\",\"colorbar\":{\"outlinewidth\":0,\"ticks\":\"\"},\"colorscale\":[[0.0,\"#0d0887\"],[0.1111111111111111,\"#46039f\"],[0.2222222222222222,\"#7201a8\"],[0.3333333333333333,\"#9c179e\"],[0.4444444444444444,\"#bd3786\"],[0.5555555555555556,\"#d8576b\"],[0.6666666666666666,\"#ed7953\"],[0.7777777777777778,\"#fb9f3a\"],[0.8888888888888888,\"#fdca26\"],[1.0,\"#f0f921\"]]}],\"choropleth\":[{\"type\":\"choropleth\",\"colorbar\":{\"outlinewidth\":0,\"ticks\":\"\"}}],\"histogram2d\":[{\"type\":\"histogram2d\",\"colorbar\":{\"outlinewidth\":0,\"ticks\":\"\"},\"colorscale\":[[0.0,\"#0d0887\"],[0.1111111111111111,\"#46039f\"],[0.2222222222222222,\"#7201a8\"],[0.3333333333333333,\"#9c179e\"],[0.4444444444444444,\"#bd3786\"],[0.5555555555555556,\"#d8576b\"],[0.6666666666666666,\"#ed7953\"],[0.7777777777777778,\"#fb9f3a\"],[0.8888888888888888,\"#fdca26\"],[1.0,\"#f0f921\"]]}],\"heatmap\":[{\"type\":\"heatmap\",\"colorbar\":{\"outlinewidth\":0,\"ticks\":\"\"},\"colorscale\":[[0.0,\"#0d0887\"],[0.1111111111111111,\"#46039f\"],[0.2222222222222222,\"#7201a8\"],[0.3333333333333333,\"#9c179e\"],[0.4444444444444444,\"#bd3786\"],[0.5555555555555556,\"#d8576b\"],[0.6666666666666666,\"#ed7953\"],[0.7777777777777778,\"#fb9f3a\"],[0.8888888888888888,\"#fdca26\"],[1.0,\"#f0f921\"]]}],\"heatmapgl\":[{\"type\":\"heatmapgl\",\"colorbar\":{\"outlinewidth\":0,\"ticks\":\"\"},\"colorscale\":[[0.0,\"#0d0887\"],[0.1111111111111111,\"#46039f\"],[0.2222222222222222,\"#7201a8\"],[0.3333333333333333,\"#9c179e\"],[0.4444444444444444,\"#bd3786\"],[0.5555555555555556,\"#d8576b\"],[0.6666666666666666,\"#ed7953\"],[0.7777777777777778,\"#fb9f3a\"],[0.8888888888888888,\"#fdca26\"],[1.0,\"#f0f921\"]]}],\"contourcarpet\":[{\"type\":\"contourcarpet\",\"colorbar\":{\"outlinewidth\":0,\"ticks\":\"\"}}],\"contour\":[{\"type\":\"contour\",\"colorbar\":{\"outlinewidth\":0,\"ticks\":\"\"},\"colorscale\":[[0.0,\"#0d0887\"],[0.1111111111111111,\"#46039f\"],[0.2222222222222222,\"#7201a8\"],[0.3333333333333333,\"#9c179e\"],[0.4444444444444444,\"#bd3786\"],[0.5555555555555556,\"#d8576b\"],[0.6666666666666666,\"#ed7953\"],[0.7777777777777778,\"#fb9f3a\"],[0.8888888888888888,\"#fdca26\"],[1.0,\"#f0f921\"]]}],\"surface\":[{\"type\":\"surface\",\"colorbar\":{\"outlinewidth\":0,\"ticks\":\"\"},\"colorscale\":[[0.0,\"#0d0887\"],[0.1111111111111111,\"#46039f\"],[0.2222222222222222,\"#7201a8\"],[0.3333333333333333,\"#9c179e\"],[0.4444444444444444,\"#bd3786\"],[0.5555555555555556,\"#d8576b\"],[0.6666666666666666,\"#ed7953\"],[0.7777777777777778,\"#fb9f3a\"],[0.8888888888888888,\"#fdca26\"],[1.0,\"#f0f921\"]]}],\"mesh3d\":[{\"type\":\"mesh3d\",\"colorbar\":{\"outlinewidth\":0,\"ticks\":\"\"}}],\"scatter\":[{\"marker\":{\"line\":{\"color\":\"#283442\"}},\"type\":\"scatter\"}],\"parcoords\":[{\"type\":\"parcoords\",\"line\":{\"colorbar\":{\"outlinewidth\":0,\"ticks\":\"\"}}}],\"scatterpolargl\":[{\"type\":\"scatterpolargl\",\"marker\":{\"colorbar\":{\"outlinewidth\":0,\"ticks\":\"\"}}}],\"bar\":[{\"error_x\":{\"color\":\"#f2f5fa\"},\"error_y\":{\"color\":\"#f2f5fa\"},\"marker\":{\"line\":{\"color\":\"rgb(17,17,17)\",\"width\":0.5},\"pattern\":{\"fillmode\":\"overlay\",\"size\":10,\"solidity\":0.2}},\"type\":\"bar\"}],\"scattergeo\":[{\"type\":\"scattergeo\",\"marker\":{\"colorbar\":{\"outlinewidth\":0,\"ticks\":\"\"}}}],\"scatterpolar\":[{\"type\":\"scatterpolar\",\"marker\":{\"colorbar\":{\"outlinewidth\":0,\"ticks\":\"\"}}}],\"histogram\":[{\"marker\":{\"pattern\":{\"fillmode\":\"overlay\",\"size\":10,\"solidity\":0.2}},\"type\":\"histogram\"}],\"scattergl\":[{\"marker\":{\"line\":{\"color\":\"#283442\"}},\"type\":\"scattergl\"}],\"scatter3d\":[{\"type\":\"scatter3d\",\"line\":{\"colorbar\":{\"outlinewidth\":0,\"ticks\":\"\"}},\"marker\":{\"colorbar\":{\"outlinewidth\":0,\"ticks\":\"\"}}}],\"scattermapbox\":[{\"type\":\"scattermapbox\",\"marker\":{\"colorbar\":{\"outlinewidth\":0,\"ticks\":\"\"}}}],\"scatterternary\":[{\"type\":\"scatterternary\",\"marker\":{\"colorbar\":{\"outlinewidth\":0,\"ticks\":\"\"}}}],\"scattercarpet\":[{\"type\":\"scattercarpet\",\"marker\":{\"colorbar\":{\"outlinewidth\":0,\"ticks\":\"\"}}}],\"carpet\":[{\"aaxis\":{\"endlinecolor\":\"#A2B1C6\",\"gridcolor\":\"#506784\",\"linecolor\":\"#506784\",\"minorgridcolor\":\"#506784\",\"startlinecolor\":\"#A2B1C6\"},\"baxis\":{\"endlinecolor\":\"#A2B1C6\",\"gridcolor\":\"#506784\",\"linecolor\":\"#506784\",\"minorgridcolor\":\"#506784\",\"startlinecolor\":\"#A2B1C6\"},\"type\":\"carpet\"}],\"table\":[{\"cells\":{\"fill\":{\"color\":\"#506784\"},\"line\":{\"color\":\"rgb(17,17,17)\"}},\"header\":{\"fill\":{\"color\":\"#2a3f5f\"},\"line\":{\"color\":\"rgb(17,17,17)\"}},\"type\":\"table\"}],\"barpolar\":[{\"marker\":{\"line\":{\"color\":\"rgb(17,17,17)\",\"width\":0.5},\"pattern\":{\"fillmode\":\"overlay\",\"size\":10,\"solidity\":0.2}},\"type\":\"barpolar\"}],\"pie\":[{\"automargin\":true,\"type\":\"pie\"}]},\"layout\":{\"autotypenumbers\":\"strict\",\"colorway\":[\"#636efa\",\"#EF553B\",\"#00cc96\",\"#ab63fa\",\"#FFA15A\",\"#19d3f3\",\"#FF6692\",\"#B6E880\",\"#FF97FF\",\"#FECB52\"],\"font\":{\"color\":\"#f2f5fa\"},\"hovermode\":\"closest\",\"hoverlabel\":{\"align\":\"left\"},\"paper_bgcolor\":\"rgb(17,17,17)\",\"plot_bgcolor\":\"rgb(17,17,17)\",\"polar\":{\"bgcolor\":\"rgb(17,17,17)\",\"angularaxis\":{\"gridcolor\":\"#506784\",\"linecolor\":\"#506784\",\"ticks\":\"\"},\"radialaxis\":{\"gridcolor\":\"#506784\",\"linecolor\":\"#506784\",\"ticks\":\"\"}},\"ternary\":{\"bgcolor\":\"rgb(17,17,17)\",\"aaxis\":{\"gridcolor\":\"#506784\",\"linecolor\":\"#506784\",\"ticks\":\"\"},\"baxis\":{\"gridcolor\":\"#506784\",\"linecolor\":\"#506784\",\"ticks\":\"\"},\"caxis\":{\"gridcolor\":\"#506784\",\"linecolor\":\"#506784\",\"ticks\":\"\"}},\"coloraxis\":{\"colorbar\":{\"outlinewidth\":0,\"ticks\":\"\"}},\"colorscale\":{\"sequential\":[[0.0,\"#0d0887\"],[0.1111111111111111,\"#46039f\"],[0.2222222222222222,\"#7201a8\"],[0.3333333333333333,\"#9c179e\"],[0.4444444444444444,\"#bd3786\"],[0.5555555555555556,\"#d8576b\"],[0.6666666666666666,\"#ed7953\"],[0.7777777777777778,\"#fb9f3a\"],[0.8888888888888888,\"#fdca26\"],[1.0,\"#f0f921\"]],\"sequentialminus\":[[0.0,\"#0d0887\"],[0.1111111111111111,\"#46039f\"],[0.2222222222222222,\"#7201a8\"],[0.3333333333333333,\"#9c179e\"],[0.4444444444444444,\"#bd3786\"],[0.5555555555555556,\"#d8576b\"],[0.6666666666666666,\"#ed7953\"],[0.7777777777777778,\"#fb9f3a\"],[0.8888888888888888,\"#fdca26\"],[1.0,\"#f0f921\"]],\"diverging\":[[0,\"#8e0152\"],[0.1,\"#c51b7d\"],[0.2,\"#de77ae\"],[0.3,\"#f1b6da\"],[0.4,\"#fde0ef\"],[0.5,\"#f7f7f7\"],[0.6,\"#e6f5d0\"],[0.7,\"#b8e186\"],[0.8,\"#7fbc41\"],[0.9,\"#4d9221\"],[1,\"#276419\"]]},\"xaxis\":{\"gridcolor\":\"#283442\",\"linecolor\":\"#506784\",\"ticks\":\"\",\"title\":{\"standoff\":15},\"zerolinecolor\":\"#283442\",\"automargin\":true,\"zerolinewidth\":2},\"yaxis\":{\"gridcolor\":\"#283442\",\"linecolor\":\"#506784\",\"ticks\":\"\",\"title\":{\"standoff\":15},\"zerolinecolor\":\"#283442\",\"automargin\":true,\"zerolinewidth\":2},\"scene\":{\"xaxis\":{\"backgroundcolor\":\"rgb(17,17,17)\",\"gridcolor\":\"#506784\",\"linecolor\":\"#506784\",\"showbackground\":true,\"ticks\":\"\",\"zerolinecolor\":\"#C8D4E3\",\"gridwidth\":2},\"yaxis\":{\"backgroundcolor\":\"rgb(17,17,17)\",\"gridcolor\":\"#506784\",\"linecolor\":\"#506784\",\"showbackground\":true,\"ticks\":\"\",\"zerolinecolor\":\"#C8D4E3\",\"gridwidth\":2},\"zaxis\":{\"backgroundcolor\":\"rgb(17,17,17)\",\"gridcolor\":\"#506784\",\"linecolor\":\"#506784\",\"showbackground\":true,\"ticks\":\"\",\"zerolinecolor\":\"#C8D4E3\",\"gridwidth\":2}},\"shapedefaults\":{\"line\":{\"color\":\"#f2f5fa\"}},\"annotationdefaults\":{\"arrowcolor\":\"#f2f5fa\",\"arrowhead\":0,\"arrowwidth\":1},\"geo\":{\"bgcolor\":\"rgb(17,17,17)\",\"landcolor\":\"rgb(17,17,17)\",\"subunitcolor\":\"#506784\",\"showland\":true,\"showlakes\":true,\"lakecolor\":\"rgb(17,17,17)\"},\"title\":{\"x\":0.05},\"updatemenudefaults\":{\"bgcolor\":\"#506784\",\"borderwidth\":0},\"sliderdefaults\":{\"bgcolor\":\"#C8D4E3\",\"borderwidth\":1,\"bordercolor\":\"rgb(17,17,17)\",\"tickwidth\":0},\"mapbox\":{\"style\":\"dark\"}}},\"annotations\":[{\"font\":{\"size\":16},\"showarrow\":false,\"text\":\"NAWL\",\"x\":0.2375,\"xanchor\":\"center\",\"xref\":\"paper\",\"y\":1.0,\"yanchor\":\"bottom\",\"yref\":\"paper\"},{\"font\":{\"size\":16},\"showarrow\":false,\"text\":\"Anotacja\",\"x\":0.7625,\"xanchor\":\"center\",\"xref\":\"paper\",\"y\":1.0,\"yanchor\":\"bottom\",\"yref\":\"paper\"},{\"font\":{\"size\":16},\"showarrow\":false,\"text\":\"NAWL z pomini\\u0119ciem warto\\u015bci nieokre\\u015blonych\",\"x\":0.2375,\"xanchor\":\"center\",\"xref\":\"paper\",\"y\":0.375,\"yanchor\":\"bottom\",\"yref\":\"paper\"},{\"font\":{\"size\":16},\"showarrow\":false,\"text\":\"Anotacja z pomini\\u0119ciem warto\\u015bci kt\\u00f3re<br>zosta\\u0142y nieokre\\u015blone w bazie NAWL\",\"x\":0.7625,\"xanchor\":\"center\",\"xref\":\"paper\",\"y\":0.375,\"yanchor\":\"bottom\",\"yref\":\"paper\"}],\"title\":{\"text\":\"Pos_sentiment_1\"}},                        {\"responsive\": true}                    ).then(function(){\n                            \nvar gd = document.getElementById('263ee52d-7ea3-4329-a672-08cb26133423');\nvar x = new MutationObserver(function (mutations, observer) {{\n        var display = window.getComputedStyle(gd).display;\n        if (!display || display === 'none') {{\n            console.log([gd, 'removed!']);\n            Plotly.purge(gd);\n            observer.disconnect();\n        }}\n}});\n\n// Listen for the removal of the full notebook cells\nvar notebookContainer = gd.closest('#notebook-container');\nif (notebookContainer) {{\n    x.observe(notebookContainer, {childList: true});\n}}\n\n// Listen for the clearing of the current output cell\nvar outputEl = gd.closest('.output');\nif (outputEl) {{\n    x.observe(outputEl, {childList: true});\n}}\n\n                        })                };                });            </script>        </div>"
     },
     "metadata": {},
     "output_type": "display_data"
    },
    {
     "name": "stdout",
     "output_type": "stream",
     "text": [
      "Kappa p1-cat i p1-anot: 0.173\n"
     ]
    },
    {
     "data": {
      "text/plain": "<Figure size 432x288 with 2 Axes>",
      "image/png": "[encoded data removed]"
     },
     "metadata": {},
     "output_type": "display_data"
    },
    {
     "data": {
      "application/vnd.plotly.v1+json": {
       "data": [
        {
         "insidetextorientation": "horizontal",
         "labels": [
          "Negatywne",
          "Pozytywne",
          "Nieokreślone"
         ],
         "marker": {
          "colors": [
           "#FF6B6B",
           "#6BCB77",
           "#4D96FF"
          ]
         },
         "textinfo": "label+percent+value",
         "textposition": "inside",
         "values": [
          53,
          68,
          130
         ],
         "type": "pie",
         "domain": {
          "x": [
           0.0,
           0.475
          ],
          "y": [
           0.625,
           1.0
          ]
         }
        },
        {
         "insidetextorientation": "horizontal",
         "labels": [
          "Negatywne",
          "Pozytywne"
         ],
         "marker": {
          "colors": [
           "#FF6B6B",
           "#6BCB77",
           "#4D96FF"
          ]
         },
         "textinfo": "label+percent+value",
         "textposition": "inside",
         "values": [
          31.0,
          220.0
         ],
         "type": "pie",
         "domain": {
          "x": [
           0.525,
           1.0
          ],
          "y": [
           0.625,
           1.0
          ]
         }
        },
        {
         "insidetextorientation": "horizontal",
         "labels": [
          "Negatywne",
          "Pozytywne",
          "Nieokreślone"
         ],
         "marker": {
          "colors": [
           "#FF6B6B",
           "#6BCB77",
           "#4D96FF"
          ]
         },
         "textinfo": "label+percent+value",
         "textposition": "inside",
         "values": [
          53.0,
          68.0,
          null
         ],
         "type": "pie",
         "domain": {
          "x": [
           0.0,
           0.475
          ],
          "y": [
           0.0,
           0.375
          ]
         }
        },
        {
         "insidetextorientation": "horizontal",
         "labels": [
          "Negatywne",
          "Pozytywne"
         ],
         "marker": {
          "colors": [
           "#FF6B6B",
           "#6BCB77",
           "#4D96FF"
          ]
         },
         "textinfo": "label+percent+value",
         "textposition": "inside",
         "values": [
          25.0,
          96.0
         ],
         "type": "pie",
         "domain": {
          "x": [
           0.525,
           1.0
          ],
          "y": [
           0.0,
           0.375
          ]
         }
        },
        {
         "insidetextorientation": "horizontal",
         "labels": [
          "Negatywne",
          "Pozytywne",
          "Nieokreślone"
         ],
         "marker": {
          "colors": [
           "#FF6B6B",
           "#6BCB77",
           "#4D96FF"
          ]
         },
         "textinfo": "label+percent+value",
         "textposition": "inside",
         "values": [
          52,
          166,
          33
         ],
         "type": "pie",
         "domain": {
          "x": [
           0.0,
           0.475
          ],
          "y": [
           0.625,
           1.0
          ]
         }
        },
        {
         "insidetextorientation": "horizontal",
         "labels": [
          "Negatywne",
          "Pozytywne"
         ],
         "marker": {
          "colors": [
           "#FF6B6B",
           "#6BCB77",
           "#4D96FF"
          ]
         },
         "textinfo": "label+percent+value",
         "textposition": "inside",
         "values": [
          115.0,
          136.0
         ],
         "type": "pie",
         "domain": {
          "x": [
           0.525,
           1.0
          ],
          "y": [
           0.625,
           1.0
          ]
         }
        },
        {
         "insidetextorientation": "horizontal",
         "labels": [
          "Negatywne",
          "Pozytywne",
          "Nieokreślone"
         ],
         "marker": {
          "colors": [
           "#FF6B6B",
           "#6BCB77",
           "#4D96FF"
          ]
         },
         "textinfo": "label+percent+value",
         "textposition": "inside",
         "values": [
          52.0,
          166.0,
          null
         ],
         "type": "pie",
         "domain": {
          "x": [
           0.0,
           0.475
          ],
          "y": [
           0.0,
           0.375
          ]
         }
        },
        {
         "insidetextorientation": "horizontal",
         "labels": [
          "Negatywne",
          "Pozytywne"
         ],
         "marker": {
          "colors": [
           "#FF6B6B",
           "#6BCB77",
           "#4D96FF"
          ]
         },
         "textinfo": "label+percent+value",
         "textposition": "inside",
         "values": [
          104.0,
          114.0
         ],
         "type": "pie",
         "domain": {
          "x": [
           0.525,
           1.0
          ],
          "y": [
           0.0,
           0.375
          ]
         }
        },
        {
         "insidetextorientation": "horizontal",
         "labels": [
          "Negatywne",
          "Pozytywne",
          "Nieokreślone"
         ],
         "marker": {
          "colors": [
           "#FF6B6B",
           "#6BCB77",
           "#4D96FF"
          ]
         },
         "textinfo": "label+percent+value",
         "textposition": "inside",
         "values": [
          54,
          153,
          38
         ],
         "type": "pie",
         "domain": {
          "x": [
           0.0,
           0.475
          ],
          "y": [
           0.625,
           1.0
          ]
         }
        },
        {
         "insidetextorientation": "horizontal",
         "labels": [
          "Negatywne",
          "Pozytywne"
         ],
         "marker": {
          "colors": [
           "#FF6B6B",
           "#6BCB77",
           "#4D96FF"
          ]
         },
         "textinfo": "label+percent+value",
         "textposition": "inside",
         "values": [
          106,
          137
         ],
         "type": "pie",
         "domain": {
          "x": [
           0.525,
           1.0
          ],
          "y": [
           0.625,
           1.0
          ]
         }
        },
        {
         "insidetextorientation": "horizontal",
         "labels": [
          "Negatywne",
          "Pozytywne",
          "Nieokreślone"
         ],
         "marker": {
          "colors": [
           "#FF6B6B",
           "#6BCB77",
           "#4D96FF"
          ]
         },
         "textinfo": "label+percent+value",
         "textposition": "inside",
         "values": [
          54.0,
          153.0,
          null
         ],
         "type": "pie",
         "domain": {
          "x": [
           0.0,
           0.475
          ],
          "y": [
           0.0,
           0.375
          ]
         }
        },
        {
         "insidetextorientation": "horizontal",
         "labels": [
          "Negatywne",
          "Pozytywne"
         ],
         "marker": {
          "colors": [
           "#FF6B6B",
           "#6BCB77",
           "#4D96FF"
          ]
         },
         "textinfo": "label+percent+value",
         "textposition": "inside",
         "values": [
          95,
          112
         ],
         "type": "pie",
         "domain": {
          "x": [
           0.525,
           1.0
          ],
          "y": [
           0.0,
           0.375
          ]
         }
        }
       ],
       "layout": {
        "template": {
         "data": {
          "histogram2dcontour": [
           {
            "type": "histogram2dcontour",
            "colorbar": {
             "outlinewidth": 0,
             "ticks": ""
            },
            "colorscale": [
             [
              0.0,
              "#0d0887"
             ],
             [
              0.1111111111111111,
              "#46039f"
             ],
             [
              0.2222222222222222,
              "#7201a8"
             ],
             [
              0.3333333333333333,
              "#9c179e"
             ],
             [
              0.4444444444444444,
              "#bd3786"
             ],
             [
              0.5555555555555556,
              "#d8576b"
             ],
             [
              0.6666666666666666,
              "#ed7953"
             ],
             [
              0.7777777777777778,
              "#fb9f3a"
             ],
             [
              0.8888888888888888,
              "#fdca26"
             ],
             [
              1.0,
              "#f0f921"
             ]
            ]
           }
          ],
          "choropleth": [
           {
            "type": "choropleth",
            "colorbar": {
             "outlinewidth": 0,
             "ticks": ""
            }
           }
          ],
          "histogram2d": [
           {
            "type": "histogram2d",
            "colorbar": {
             "outlinewidth": 0,
             "ticks": ""
            },
            "colorscale": [
             [
              0.0,
              "#0d0887"
             ],
             [
              0.1111111111111111,
              "#46039f"
             ],
             [
              0.2222222222222222,
              "#7201a8"
             ],
             [
              0.3333333333333333,
              "#9c179e"
             ],
             [
              0.4444444444444444,
              "#bd3786"
             ],
             [
              0.5555555555555556,
              "#d8576b"
             ],
             [
              0.6666666666666666,
              "#ed7953"
             ],
             [
              0.7777777777777778,
              "#fb9f3a"
             ],
             [
              0.8888888888888888,
              "#fdca26"
             ],
             [
              1.0,
              "#f0f921"
             ]
            ]
           }
          ],
          "heatmap": [
           {
            "type": "heatmap",
            "colorbar": {
             "outlinewidth": 0,
             "ticks": ""
            },
            "colorscale": [
             [
              0.0,
              "#0d0887"
             ],
             [
              0.1111111111111111,
              "#46039f"
             ],
             [
              0.2222222222222222,
              "#7201a8"
             ],
             [
              0.3333333333333333,
              "#9c179e"
             ],
             [
              0.4444444444444444,
              "#bd3786"
             ],
             [
              0.5555555555555556,
              "#d8576b"
             ],
             [
              0.6666666666666666,
              "#ed7953"
             ],
             [
              0.7777777777777778,
              "#fb9f3a"
             ],
             [
              0.8888888888888888,
              "#fdca26"
             ],
             [
              1.0,
              "#f0f921"
             ]
            ]
           }
          ],
          "heatmapgl": [
           {
            "type": "heatmapgl",
            "colorbar": {
             "outlinewidth": 0,
             "ticks": ""
            },
            "colorscale": [
             [
              0.0,
              "#0d0887"
             ],
             [
              0.1111111111111111,
              "#46039f"
             ],
             [
              0.2222222222222222,
              "#7201a8"
             ],
             [
              0.3333333333333333,
              "#9c179e"
             ],
             [
              0.4444444444444444,
              "#bd3786"
             ],
             [
              0.5555555555555556,
              "#d8576b"
             ],
             [
              0.6666666666666666,
              "#ed7953"
             ],
             [
              0.7777777777777778,
              "#fb9f3a"
             ],
             [
              0.8888888888888888,
              "#fdca26"
             ],
             [
              1.0,
              "#f0f921"
             ]
            ]
           }
          ],
          "contourcarpet": [
           {
            "type": "contourcarpet",
            "colorbar": {
             "outlinewidth": 0,
             "ticks": ""
            }
           }
          ],
          "contour": [
           {
            "type": "contour",
            "colorbar": {
             "outlinewidth": 0,
             "ticks": ""
            },
            "colorscale": [
             [
              0.0,
              "#0d0887"
             ],
             [
              0.1111111111111111,
              "#46039f"
             ],
             [
              0.2222222222222222,
              "#7201a8"
             ],
             [
              0.3333333333333333,
              "#9c179e"
             ],
             [
              0.4444444444444444,
              "#bd3786"
             ],
             [
              0.5555555555555556,
              "#d8576b"
             ],
             [
              0.6666666666666666,
              "#ed7953"
             ],
             [
              0.7777777777777778,
              "#fb9f3a"
             ],
             [
              0.8888888888888888,
              "#fdca26"
             ],
             [
              1.0,
              "#f0f921"
             ]
            ]
           }
          ],
          "surface": [
           {
            "type": "surface",
            "colorbar": {
             "outlinewidth": 0,
             "ticks": ""
            },
            "colorscale": [
             [
              0.0,
              "#0d0887"
             ],
             [
              0.1111111111111111,
              "#46039f"
             ],
             [
              0.2222222222222222,
              "#7201a8"
             ],
             [
              0.3333333333333333,
              "#9c179e"
             ],
             [
              0.4444444444444444,
              "#bd3786"
             ],
             [
              0.5555555555555556,
              "#d8576b"
             ],
             [
              0.6666666666666666,
              "#ed7953"
             ],
             [
              0.7777777777777778,
              "#fb9f3a"
             ],
             [
              0.8888888888888888,
              "#fdca26"
             ],
             [
              1.0,
              "#f0f921"
             ]
            ]
           }
          ],
          "mesh3d": [
           {
            "type": "mesh3d",
            "colorbar": {
             "outlinewidth": 0,
             "ticks": ""
            }
           }
          ],
          "scatter": [
           {
            "marker": {
             "line": {
              "color": "#283442"
             }
            },
            "type": "scatter"
           }
          ],
          "parcoords": [
           {
            "type": "parcoords",
            "line": {
             "colorbar": {
              "outlinewidth": 0,
              "ticks": ""
             }
            }
           }
          ],
          "scatterpolargl": [
           {
            "type": "scatterpolargl",
            "marker": {
             "colorbar": {
              "outlinewidth": 0,
              "ticks": ""
             }
            }
           }
          ],
          "bar": [
           {
            "error_x": {
             "color": "#f2f5fa"
            },
            "error_y": {
             "color": "#f2f5fa"
            },
            "marker": {
             "line": {
              "color": "rgb(17,17,17)",
              "width": 0.5
             },
             "pattern": {
              "fillmode": "overlay",
              "size": 10,
              "solidity": 0.2
             }
            },
            "type": "bar"
           }
          ],
          "scattergeo": [
           {
            "type": "scattergeo",
            "marker": {
             "colorbar": {
              "outlinewidth": 0,
              "ticks": ""
             }
            }
           }
          ],
          "scatterpolar": [
           {
            "type": "scatterpolar",
            "marker": {
             "colorbar": {
              "outlinewidth": 0,
              "ticks": ""
             }
            }
           }
          ],
          "histogram": [
           {
            "marker": {
             "pattern": {
              "fillmode": "overlay",
              "size": 10,
              "solidity": 0.2
             }
            },
            "type": "histogram"
           }
          ],
          "scattergl": [
           {
            "marker": {
             "line": {
              "color": "#283442"
             }
            },
            "type": "scattergl"
           }
          ],
          "scatter3d": [
           {
            "type": "scatter3d",
            "line": {
             "colorbar": {
              "outlinewidth": 0,
              "ticks": ""
             }
            },
            "marker": {
             "colorbar": {
              "outlinewidth": 0,
              "ticks": ""
             }
            }
           }
          ],
          "scattermapbox": [
           {
            "type": "scattermapbox",
            "marker": {
             "colorbar": {
              "outlinewidth": 0,
              "ticks": ""
             }
            }
           }
          ],
          "scatterternary": [
           {
            "type": "scatterternary",
            "marker": {
             "colorbar": {
              "outlinewidth": 0,
              "ticks": ""
             }
            }
           }
          ],
          "scattercarpet": [
           {
            "type": "scattercarpet",
            "marker": {
             "colorbar": {
              "outlinewidth": 0,
              "ticks": ""
             }
            }
           }
          ],
          "carpet": [
           {
            "aaxis": {
             "endlinecolor": "#A2B1C6",
             "gridcolor": "#506784",
             "linecolor": "#506784",
             "minorgridcolor": "#506784",
             "startlinecolor": "#A2B1C6"
            },
            "baxis": {
             "endlinecolor": "#A2B1C6",
             "gridcolor": "#506784",
             "linecolor": "#506784",
             "minorgridcolor": "#506784",
             "startlinecolor": "#A2B1C6"
            },
            "type": "carpet"
           }
          ],
          "table": [
           {
            "cells": {
             "fill": {
              "color": "#506784"
             },
             "line": {
              "color": "rgb(17,17,17)"
             }
            },
            "header": {
             "fill": {
              "color": "#2a3f5f"
             },
             "line": {
              "color": "rgb(17,17,17)"
             }
            },
            "type": "table"
           }
          ],
          "barpolar": [
           {
            "marker": {
             "line": {
              "color": "rgb(17,17,17)",
              "width": 0.5
             },
             "pattern": {
              "fillmode": "overlay",
              "size": 10,
              "solidity": 0.2
             }
            },
            "type": "barpolar"
           }
          ],
          "pie": [
           {
            "automargin": true,
            "type": "pie"
           }
          ]
         },
         "layout": {
          "autotypenumbers": "strict",
          "colorway": [
           "#636efa",
           "#EF553B",
           "#00cc96",
           "#ab63fa",
           "#FFA15A",
           "#19d3f3",
           "#FF6692",
           "#B6E880",
           "#FF97FF",
           "#FECB52"
          ],
          "font": {
           "color": "#f2f5fa"
          },
          "hovermode": "closest",
          "hoverlabel": {
           "align": "left"
          },
          "paper_bgcolor": "rgb(17,17,17)",
          "plot_bgcolor": "rgb(17,17,17)",
          "polar": {
           "bgcolor": "rgb(17,17,17)",
           "angularaxis": {
            "gridcolor": "#506784",
            "linecolor": "#506784",
            "ticks": ""
           },
           "radialaxis": {
            "gridcolor": "#506784",
            "linecolor": "#506784",
            "ticks": ""
           }
          },
          "ternary": {
           "bgcolor": "rgb(17,17,17)",
           "aaxis": {
            "gridcolor": "#506784",
            "linecolor": "#506784",
            "ticks": ""
           },
           "baxis": {
            "gridcolor": "#506784",
            "linecolor": "#506784",
            "ticks": ""
           },
           "caxis": {
            "gridcolor": "#506784",
            "linecolor": "#506784",
            "ticks": ""
           }
          },
          "coloraxis": {
           "colorbar": {
            "outlinewidth": 0,
            "ticks": ""
           }
          },
          "colorscale": {
           "sequential": [
            [
             0.0,
             "#0d0887"
            ],
            [
             0.1111111111111111,
             "#46039f"
            ],
            [
             0.2222222222222222,
             "#7201a8"
            ],
            [
             0.3333333333333333,
             "#9c179e"
            ],
            [
             0.4444444444444444,
             "#bd3786"
            ],
            [
             0.5555555555555556,
             "#d8576b"
            ],
            [
             0.6666666666666666,
             "#ed7953"
            ],
            [
             0.7777777777777778,
             "#fb9f3a"
            ],
            [
             0.8888888888888888,
             "#fdca26"
            ],
            [
             1.0,
             "#f0f921"
            ]
           ],
           "sequentialminus": [
            [
             0.0,
             "#0d0887"
            ],
            [
             0.1111111111111111,
             "#46039f"
            ],
            [
             0.2222222222222222,
             "#7201a8"
            ],
            [
             0.3333333333333333,
             "#9c179e"
            ],
            [
             0.4444444444444444,
             "#bd3786"
            ],
            [
             0.5555555555555556,
             "#d8576b"
            ],
            [
             0.6666666666666666,
             "#ed7953"
            ],
            [
             0.7777777777777778,
             "#fb9f3a"
            ],
            [
             0.8888888888888888,
             "#fdca26"
            ],
            [
             1.0,
             "#f0f921"
            ]
           ],
           "diverging": [
            [
             0,
             "#8e0152"
            ],
            [
             0.1,
             "#c51b7d"
            ],
            [
             0.2,
             "#de77ae"
            ],
            [
             0.3,
             "#f1b6da"
            ],
            [
             0.4,
             "#fde0ef"
            ],
            [
             0.5,
             "#f7f7f7"
            ],
            [
             0.6,
             "#e6f5d0"
            ],
            [
             0.7,
             "#b8e186"
            ],
            [
             0.8,
             "#7fbc41"
            ],
            [
             0.9,
             "#4d9221"
            ],
            [
             1,
             "#276419"
            ]
           ]
          },
          "xaxis": {
           "gridcolor": "#283442",
           "linecolor": "#506784",
           "ticks": "",
           "title": {
            "standoff": 15
           },
           "zerolinecolor": "#283442",
           "automargin": true,
           "zerolinewidth": 2
          },
          "yaxis": {
           "gridcolor": "#283442",
           "linecolor": "#506784",
           "ticks": "",
           "title": {
            "standoff": 15
           },
           "zerolinecolor": "#283442",
           "automargin": true,
           "zerolinewidth": 2
          },
          "scene": {
           "xaxis": {
            "backgroundcolor": "rgb(17,17,17)",
            "gridcolor": "#506784",
            "linecolor": "#506784",
            "showbackground": true,
            "ticks": "",
            "zerolinecolor": "#C8D4E3",
            "gridwidth": 2
           },
           "yaxis": {
            "backgroundcolor": "rgb(17,17,17)",
            "gridcolor": "#506784",
            "linecolor": "#506784",
            "showbackground": true,
            "ticks": "",
            "zerolinecolor": "#C8D4E3",
            "gridwidth": 2
           },
           "zaxis": {
            "backgroundcolor": "rgb(17,17,17)",
            "gridcolor": "#506784",
            "linecolor": "#506784",
            "showbackground": true,
            "ticks": "",
            "zerolinecolor": "#C8D4E3",
            "gridwidth": 2
           }
          },
          "shapedefaults": {
           "line": {
            "color": "#f2f5fa"
           }
          },
          "annotationdefaults": {
           "arrowcolor": "#f2f5fa",
           "arrowhead": 0,
           "arrowwidth": 1
          },
          "geo": {
           "bgcolor": "rgb(17,17,17)",
           "landcolor": "rgb(17,17,17)",
           "subunitcolor": "#506784",
           "showland": true,
           "showlakes": true,
           "lakecolor": "rgb(17,17,17)"
          },
          "title": {
           "x": 0.05
          },
          "updatemenudefaults": {
           "bgcolor": "#506784",
           "borderwidth": 0
          },
          "sliderdefaults": {
           "bgcolor": "#C8D4E3",
           "borderwidth": 1,
           "bordercolor": "rgb(17,17,17)",
           "tickwidth": 0
          },
          "mapbox": {
           "style": "dark"
          }
         }
        },
        "annotations": [
         {
          "font": {
           "size": 16
          },
          "showarrow": false,
          "text": "NAWL",
          "x": 0.2375,
          "xanchor": "center",
          "xref": "paper",
          "y": 1.0,
          "yanchor": "bottom",
          "yref": "paper"
         },
         {
          "font": {
           "size": 16
          },
          "showarrow": false,
          "text": "Anotacja",
          "x": 0.7625,
          "xanchor": "center",
          "xref": "paper",
          "y": 1.0,
          "yanchor": "bottom",
          "yref": "paper"
         },
         {
          "font": {
           "size": 16
          },
          "showarrow": false,
          "text": "NAWL z pominięciem wartości nieokreślonych",
          "x": 0.2375,
          "xanchor": "center",
          "xref": "paper",
          "y": 0.375,
          "yanchor": "bottom",
          "yref": "paper"
         },
         {
          "font": {
           "size": 16
          },
          "showarrow": false,
          "text": "Anotacja z pominięciem wartości które<br>zostały nieokreślone w bazie NAWL",
          "x": 0.7625,
          "xanchor": "center",
          "xref": "paper",
          "y": 0.375,
          "yanchor": "bottom",
          "yref": "paper"
         }
        ],
        "title": {
         "text": "Pos_sentiment_2"
        }
       },
       "config": {
        "plotlyServerURL": "https://plot.ly"
       }
      },
      "text/html": "<div>                            <div id=\"c1cef79c-9714-4809-b7a8-dbb8eba9d26a\" class=\"plotly-graph-div\" style=\"height:525px; width:100%;\"></div>            <script type=\"text/javascript\">                require([\"plotly\"], function(Plotly) {                    window.PLOTLYENV=window.PLOTLYENV || {};                                    if (document.getElementById(\"c1cef79c-9714-4809-b7a8-dbb8eba9d26a\")) {                    Plotly.newPlot(                        \"c1cef79c-9714-4809-b7a8-dbb8eba9d26a\",                        [{\"insidetextorientation\":\"horizontal\",\"labels\":[\"Negatywne\",\"Pozytywne\",\"Nieokre\\u015blone\"],\"marker\":{\"colors\":[\"#FF6B6B\",\"#6BCB77\",\"#4D96FF\"]},\"textinfo\":\"label+percent+value\",\"textposition\":\"inside\",\"values\":[53,68,130],\"type\":\"pie\",\"domain\":{\"x\":[0.0,0.475],\"y\":[0.625,1.0]}},{\"insidetextorientation\":\"horizontal\",\"labels\":[\"Negatywne\",\"Pozytywne\"],\"marker\":{\"colors\":[\"#FF6B6B\",\"#6BCB77\",\"#4D96FF\"]},\"textinfo\":\"label+percent+value\",\"textposition\":\"inside\",\"values\":[31.0,220.0],\"type\":\"pie\",\"domain\":{\"x\":[0.525,1.0],\"y\":[0.625,1.0]}},{\"insidetextorientation\":\"horizontal\",\"labels\":[\"Negatywne\",\"Pozytywne\",\"Nieokre\\u015blone\"],\"marker\":{\"colors\":[\"#FF6B6B\",\"#6BCB77\",\"#4D96FF\"]},\"textinfo\":\"label+percent+value\",\"textposition\":\"inside\",\"values\":[53.0,68.0,null],\"type\":\"pie\",\"domain\":{\"x\":[0.0,0.475],\"y\":[0.0,0.375]}},{\"insidetextorientation\":\"horizontal\",\"labels\":[\"Negatywne\",\"Pozytywne\"],\"marker\":{\"colors\":[\"#FF6B6B\",\"#6BCB77\",\"#4D96FF\"]},\"textinfo\":\"label+percent+value\",\"textposition\":\"inside\",\"values\":[25.0,96.0],\"type\":\"pie\",\"domain\":{\"x\":[0.525,1.0],\"y\":[0.0,0.375]}},{\"insidetextorientation\":\"horizontal\",\"labels\":[\"Negatywne\",\"Pozytywne\",\"Nieokre\\u015blone\"],\"marker\":{\"colors\":[\"#FF6B6B\",\"#6BCB77\",\"#4D96FF\"]},\"textinfo\":\"label+percent+value\",\"textposition\":\"inside\",\"values\":[52,166,33],\"type\":\"pie\",\"domain\":{\"x\":[0.0,0.475],\"y\":[0.625,1.0]}},{\"insidetextorientation\":\"horizontal\",\"labels\":[\"Negatywne\",\"Pozytywne\"],\"marker\":{\"colors\":[\"#FF6B6B\",\"#6BCB77\",\"#4D96FF\"]},\"textinfo\":\"label+percent+value\",\"textposition\":\"inside\",\"values\":[115.0,136.0],\"type\":\"pie\",\"domain\":{\"x\":[0.525,1.0],\"y\":[0.625,1.0]}},{\"insidetextorientation\":\"horizontal\",\"labels\":[\"Negatywne\",\"Pozytywne\",\"Nieokre\\u015blone\"],\"marker\":{\"colors\":[\"#FF6B6B\",\"#6BCB77\",\"#4D96FF\"]},\"textinfo\":\"label+percent+value\",\"textposition\":\"inside\",\"values\":[52.0,166.0,null],\"type\":\"pie\",\"domain\":{\"x\":[0.0,0.475],\"y\":[0.0,0.375]}},{\"insidetextorientation\":\"horizontal\",\"labels\":[\"Negatywne\",\"Pozytywne\"],\"marker\":{\"colors\":[\"#FF6B6B\",\"#6BCB77\",\"#4D96FF\"]},\"textinfo\":\"label+percent+value\",\"textposition\":\"inside\",\"values\":[104.0,114.0],\"type\":\"pie\",\"domain\":{\"x\":[0.525,1.0],\"y\":[0.0,0.375]}},{\"insidetextorientation\":\"horizontal\",\"labels\":[\"Negatywne\",\"Pozytywne\",\"Nieokre\\u015blone\"],\"marker\":{\"colors\":[\"#FF6B6B\",\"#6BCB77\",\"#4D96FF\"]},\"textinfo\":\"label+percent+value\",\"textposition\":\"inside\",\"values\":[54,153,38],\"type\":\"pie\",\"domain\":{\"x\":[0.0,0.475],\"y\":[0.625,1.0]}},{\"insidetextorientation\":\"horizontal\",\"labels\":[\"Negatywne\",\"Pozytywne\"],\"marker\":{\"colors\":[\"#FF6B6B\",\"#6BCB77\",\"#4D96FF\"]},\"textinfo\":\"label+percent+value\",\"textposition\":\"inside\",\"values\":[106,137],\"type\":\"pie\",\"domain\":{\"x\":[0.525,1.0],\"y\":[0.625,1.0]}},{\"insidetextorientation\":\"horizontal\",\"labels\":[\"Negatywne\",\"Pozytywne\",\"Nieokre\\u015blone\"],\"marker\":{\"colors\":[\"#FF6B6B\",\"#6BCB77\",\"#4D96FF\"]},\"textinfo\":\"label+percent+value\",\"textposition\":\"inside\",\"values\":[54.0,153.0,null],\"type\":\"pie\",\"domain\":{\"x\":[0.0,0.475],\"y\":[0.0,0.375]}},{\"insidetextorientation\":\"horizontal\",\"labels\":[\"Negatywne\",\"Pozytywne\"],\"marker\":{\"colors\":[\"#FF6B6B\",\"#6BCB77\",\"#4D96FF\"]},\"textinfo\":\"label+percent+value\",\"textposition\":\"inside\",\"values\":[95,112],\"type\":\"pie\",\"domain\":{\"x\":[0.525,1.0],\"y\":[0.0,0.375]}}],                        {\"template\":{\"data\":{\"histogram2dcontour\":[{\"type\":\"histogram2dcontour\",\"colorbar\":{\"outlinewidth\":0,\"ticks\":\"\"},\"colorscale\":[[0.0,\"#0d0887\"],[0.1111111111111111,\"#46039f\"],[0.2222222222222222,\"#7201a8\"],[0.3333333333333333,\"#9c179e\"],[0.4444444444444444,\"#bd3786\"],[0.5555555555555556,\"#d8576b\"],[0.6666666666666666,\"#ed7953\"],[0.7777777777777778,\"#fb9f3a\"],[0.8888888888888888,\"#fdca26\"],[1.0,\"#f0f921\"]]}],\"choropleth\":[{\"type\":\"choropleth\",\"colorbar\":{\"outlinewidth\":0,\"ticks\":\"\"}}],\"histogram2d\":[{\"type\":\"histogram2d\",\"colorbar\":{\"outlinewidth\":0,\"ticks\":\"\"},\"colorscale\":[[0.0,\"#0d0887\"],[0.1111111111111111,\"#46039f\"],[0.2222222222222222,\"#7201a8\"],[0.3333333333333333,\"#9c179e\"],[0.4444444444444444,\"#bd3786\"],[0.5555555555555556,\"#d8576b\"],[0.6666666666666666,\"#ed7953\"],[0.7777777777777778,\"#fb9f3a\"],[0.8888888888888888,\"#fdca26\"],[1.0,\"#f0f921\"]]}],\"heatmap\":[{\"type\":\"heatmap\",\"colorbar\":{\"outlinewidth\":0,\"ticks\":\"\"},\"colorscale\":[[0.0,\"#0d0887\"],[0.1111111111111111,\"#46039f\"],[0.2222222222222222,\"#7201a8\"],[0.3333333333333333,\"#9c179e\"],[0.4444444444444444,\"#bd3786\"],[0.5555555555555556,\"#d8576b\"],[0.6666666666666666,\"#ed7953\"],[0.7777777777777778,\"#fb9f3a\"],[0.8888888888888888,\"#fdca26\"],[1.0,\"#f0f921\"]]}],\"heatmapgl\":[{\"type\":\"heatmapgl\",\"colorbar\":{\"outlinewidth\":0,\"ticks\":\"\"},\"colorscale\":[[0.0,\"#0d0887\"],[0.1111111111111111,\"#46039f\"],[0.2222222222222222,\"#7201a8\"],[0.3333333333333333,\"#9c179e\"],[0.4444444444444444,\"#bd3786\"],[0.5555555555555556,\"#d8576b\"],[0.6666666666666666,\"#ed7953\"],[0.7777777777777778,\"#fb9f3a\"],[0.8888888888888888,\"#fdca26\"],[1.0,\"#f0f921\"]]}],\"contourcarpet\":[{\"type\":\"contourcarpet\",\"colorbar\":{\"outlinewidth\":0,\"ticks\":\"\"}}],\"contour\":[{\"type\":\"contour\",\"colorbar\":{\"outlinewidth\":0,\"ticks\":\"\"},\"colorscale\":[[0.0,\"#0d0887\"],[0.1111111111111111,\"#46039f\"],[0.2222222222222222,\"#7201a8\"],[0.3333333333333333,\"#9c179e\"],[0.4444444444444444,\"#bd3786\"],[0.5555555555555556,\"#d8576b\"],[0.6666666666666666,\"#ed7953\"],[0.7777777777777778,\"#fb9f3a\"],[0.8888888888888888,\"#fdca26\"],[1.0,\"#f0f921\"]]}],\"surface\":[{\"type\":\"surface\",\"colorbar\":{\"outlinewidth\":0,\"ticks\":\"\"},\"colorscale\":[[0.0,\"#0d0887\"],[0.1111111111111111,\"#46039f\"],[0.2222222222222222,\"#7201a8\"],[0.3333333333333333,\"#9c179e\"],[0.4444444444444444,\"#bd3786\"],[0.5555555555555556,\"#d8576b\"],[0.6666666666666666,\"#ed7953\"],[0.7777777777777778,\"#fb9f3a\"],[0.8888888888888888,\"#fdca26\"],[1.0,\"#f0f921\"]]}],\"mesh3d\":[{\"type\":\"mesh3d\",\"colorbar\":{\"outlinewidth\":0,\"ticks\":\"\"}}],\"scatter\":[{\"marker\":{\"line\":{\"color\":\"#283442\"}},\"type\":\"scatter\"}],\"parcoords\":[{\"type\":\"parcoords\",\"line\":{\"colorbar\":{\"outlinewidth\":0,\"ticks\":\"\"}}}],\"scatterpolargl\":[{\"type\":\"scatterpolargl\",\"marker\":{\"colorbar\":{\"outlinewidth\":0,\"ticks\":\"\"}}}],\"bar\":[{\"error_x\":{\"color\":\"#f2f5fa\"},\"error_y\":{\"color\":\"#f2f5fa\"},\"marker\":{\"line\":{\"color\":\"rgb(17,17,17)\",\"width\":0.5},\"pattern\":{\"fillmode\":\"overlay\",\"size\":10,\"solidity\":0.2}},\"type\":\"bar\"}],\"scattergeo\":[{\"type\":\"scattergeo\",\"marker\":{\"colorbar\":{\"outlinewidth\":0,\"ticks\":\"\"}}}],\"scatterpolar\":[{\"type\":\"scatterpolar\",\"marker\":{\"colorbar\":{\"outlinewidth\":0,\"ticks\":\"\"}}}],\"histogram\":[{\"marker\":{\"pattern\":{\"fillmode\":\"overlay\",\"size\":10,\"solidity\":0.2}},\"type\":\"histogram\"}],\"scattergl\":[{\"marker\":{\"line\":{\"color\":\"#283442\"}},\"type\":\"scattergl\"}],\"scatter3d\":[{\"type\":\"scatter3d\",\"line\":{\"colorbar\":{\"outlinewidth\":0,\"ticks\":\"\"}},\"marker\":{\"colorbar\":{\"outlinewidth\":0,\"ticks\":\"\"}}}],\"scattermapbox\":[{\"type\":\"scattermapbox\",\"marker\":{\"colorbar\":{\"outlinewidth\":0,\"ticks\":\"\"}}}],\"scatterternary\":[{\"type\":\"scatterternary\",\"marker\":{\"colorbar\":{\"outlinewidth\":0,\"ticks\":\"\"}}}],\"scattercarpet\":[{\"type\":\"scattercarpet\",\"marker\":{\"colorbar\":{\"outlinewidth\":0,\"ticks\":\"\"}}}],\"carpet\":[{\"aaxis\":{\"endlinecolor\":\"#A2B1C6\",\"gridcolor\":\"#506784\",\"linecolor\":\"#506784\",\"minorgridcolor\":\"#506784\",\"startlinecolor\":\"#A2B1C6\"},\"baxis\":{\"endlinecolor\":\"#A2B1C6\",\"gridcolor\":\"#506784\",\"linecolor\":\"#506784\",\"minorgridcolor\":\"#506784\",\"startlinecolor\":\"#A2B1C6\"},\"type\":\"carpet\"}],\"table\":[{\"cells\":{\"fill\":{\"color\":\"#506784\"},\"line\":{\"color\":\"rgb(17,17,17)\"}},\"header\":{\"fill\":{\"color\":\"#2a3f5f\"},\"line\":{\"color\":\"rgb(17,17,17)\"}},\"type\":\"table\"}],\"barpolar\":[{\"marker\":{\"line\":{\"color\":\"rgb(17,17,17)\",\"width\":0.5},\"pattern\":{\"fillmode\":\"overlay\",\"size\":10,\"solidity\":0.2}},\"type\":\"barpolar\"}],\"pie\":[{\"automargin\":true,\"type\":\"pie\"}]},\"layout\":{\"autotypenumbers\":\"strict\",\"colorway\":[\"#636efa\",\"#EF553B\",\"#00cc96\",\"#ab63fa\",\"#FFA15A\",\"#19d3f3\",\"#FF6692\",\"#B6E880\",\"#FF97FF\",\"#FECB52\"],\"font\":{\"color\":\"#f2f5fa\"},\"hovermode\":\"closest\",\"hoverlabel\":{\"align\":\"left\"},\"paper_bgcolor\":\"rgb(17,17,17)\",\"plot_bgcolor\":\"rgb(17,17,17)\",\"polar\":{\"bgcolor\":\"rgb(17,17,17)\",\"angularaxis\":{\"gridcolor\":\"#506784\",\"linecolor\":\"#506784\",\"ticks\":\"\"},\"radialaxis\":{\"gridcolor\":\"#506784\",\"linecolor\":\"#506784\",\"ticks\":\"\"}},\"ternary\":{\"bgcolor\":\"rgb(17,17,17)\",\"aaxis\":{\"gridcolor\":\"#506784\",\"linecolor\":\"#506784\",\"ticks\":\"\"},\"baxis\":{\"gridcolor\":\"#506784\",\"linecolor\":\"#506784\",\"ticks\":\"\"},\"caxis\":{\"gridcolor\":\"#506784\",\"linecolor\":\"#506784\",\"ticks\":\"\"}},\"coloraxis\":{\"colorbar\":{\"outlinewidth\":0,\"ticks\":\"\"}},\"colorscale\":{\"sequential\":[[0.0,\"#0d0887\"],[0.1111111111111111,\"#46039f\"],[0.2222222222222222,\"#7201a8\"],[0.3333333333333333,\"#9c179e\"],[0.4444444444444444,\"#bd3786\"],[0.5555555555555556,\"#d8576b\"],[0.6666666666666666,\"#ed7953\"],[0.7777777777777778,\"#fb9f3a\"],[0.8888888888888888,\"#fdca26\"],[1.0,\"#f0f921\"]],\"sequentialminus\":[[0.0,\"#0d0887\"],[0.1111111111111111,\"#46039f\"],[0.2222222222222222,\"#7201a8\"],[0.3333333333333333,\"#9c179e\"],[0.4444444444444444,\"#bd3786\"],[0.5555555555555556,\"#d8576b\"],[0.6666666666666666,\"#ed7953\"],[0.7777777777777778,\"#fb9f3a\"],[0.8888888888888888,\"#fdca26\"],[1.0,\"#f0f921\"]],\"diverging\":[[0,\"#8e0152\"],[0.1,\"#c51b7d\"],[0.2,\"#de77ae\"],[0.3,\"#f1b6da\"],[0.4,\"#fde0ef\"],[0.5,\"#f7f7f7\"],[0.6,\"#e6f5d0\"],[0.7,\"#b8e186\"],[0.8,\"#7fbc41\"],[0.9,\"#4d9221\"],[1,\"#276419\"]]},\"xaxis\":{\"gridcolor\":\"#283442\",\"linecolor\":\"#506784\",\"ticks\":\"\",\"title\":{\"standoff\":15},\"zerolinecolor\":\"#283442\",\"automargin\":true,\"zerolinewidth\":2},\"yaxis\":{\"gridcolor\":\"#283442\",\"linecolor\":\"#506784\",\"ticks\":\"\",\"title\":{\"standoff\":15},\"zerolinecolor\":\"#283442\",\"automargin\":true,\"zerolinewidth\":2},\"scene\":{\"xaxis\":{\"backgroundcolor\":\"rgb(17,17,17)\",\"gridcolor\":\"#506784\",\"linecolor\":\"#506784\",\"showbackground\":true,\"ticks\":\"\",\"zerolinecolor\":\"#C8D4E3\",\"gridwidth\":2},\"yaxis\":{\"backgroundcolor\":\"rgb(17,17,17)\",\"gridcolor\":\"#506784\",\"linecolor\":\"#506784\",\"showbackground\":true,\"ticks\":\"\",\"zerolinecolor\":\"#C8D4E3\",\"gridwidth\":2},\"zaxis\":{\"backgroundcolor\":\"rgb(17,17,17)\",\"gridcolor\":\"#506784\",\"linecolor\":\"#506784\",\"showbackground\":true,\"ticks\":\"\",\"zerolinecolor\":\"#C8D4E3\",\"gridwidth\":2}},\"shapedefaults\":{\"line\":{\"color\":\"#f2f5fa\"}},\"annotationdefaults\":{\"arrowcolor\":\"#f2f5fa\",\"arrowhead\":0,\"arrowwidth\":1},\"geo\":{\"bgcolor\":\"rgb(17,17,17)\",\"landcolor\":\"rgb(17,17,17)\",\"subunitcolor\":\"#506784\",\"showland\":true,\"showlakes\":true,\"lakecolor\":\"rgb(17,17,17)\"},\"title\":{\"x\":0.05},\"updatemenudefaults\":{\"bgcolor\":\"#506784\",\"borderwidth\":0},\"sliderdefaults\":{\"bgcolor\":\"#C8D4E3\",\"borderwidth\":1,\"bordercolor\":\"rgb(17,17,17)\",\"tickwidth\":0},\"mapbox\":{\"style\":\"dark\"}}},\"annotations\":[{\"font\":{\"size\":16},\"showarrow\":false,\"text\":\"NAWL\",\"x\":0.2375,\"xanchor\":\"center\",\"xref\":\"paper\",\"y\":1.0,\"yanchor\":\"bottom\",\"yref\":\"paper\"},{\"font\":{\"size\":16},\"showarrow\":false,\"text\":\"Anotacja\",\"x\":0.7625,\"xanchor\":\"center\",\"xref\":\"paper\",\"y\":1.0,\"yanchor\":\"bottom\",\"yref\":\"paper\"},{\"font\":{\"size\":16},\"showarrow\":false,\"text\":\"NAWL z pomini\\u0119ciem warto\\u015bci nieokre\\u015blonych\",\"x\":0.2375,\"xanchor\":\"center\",\"xref\":\"paper\",\"y\":0.375,\"yanchor\":\"bottom\",\"yref\":\"paper\"},{\"font\":{\"size\":16},\"showarrow\":false,\"text\":\"Anotacja z pomini\\u0119ciem warto\\u015bci kt\\u00f3re<br>zosta\\u0142y nieokre\\u015blone w bazie NAWL\",\"x\":0.7625,\"xanchor\":\"center\",\"xref\":\"paper\",\"y\":0.375,\"yanchor\":\"bottom\",\"yref\":\"paper\"}],\"title\":{\"text\":\"Pos_sentiment_2\"}},                        {\"responsive\": true}                    ).then(function(){\n                            \nvar gd = document.getElementById('c1cef79c-9714-4809-b7a8-dbb8eba9d26a');\nvar x = new MutationObserver(function (mutations, observer) {{\n        var display = window.getComputedStyle(gd).display;\n        if (!display || display === 'none') {{\n            console.log([gd, 'removed!']);\n            Plotly.purge(gd);\n            observer.disconnect();\n        }}\n}});\n\n// Listen for the removal of the full notebook cells\nvar notebookContainer = gd.closest('#notebook-container');\nif (notebookContainer) {{\n    x.observe(notebookContainer, {childList: true});\n}}\n\n// Listen for the clearing of the current output cell\nvar outputEl = gd.closest('.output');\nif (outputEl) {{\n    x.observe(outputEl, {childList: true});\n}}\n\n                        })                };                });            </script>        </div>"
     },
     "metadata": {},
     "output_type": "display_data"
    },
    {
     "name": "stdout",
     "output_type": "stream",
     "text": [
      "Kappa p2-cat i p2-anot: 0.226\n"
     ]
    },
    {
     "data": {
      "text/plain": "<Figure size 432x288 with 2 Axes>",
      "image/png": "[encoded data removed]"
     },
     "metadata": {},
     "output_type": "display_data"
    },
    {
     "data": {
      "application/vnd.plotly.v1+json": {
       "data": [
        {
         "insidetextorientation": "horizontal",
         "labels": [
          "Negatywne",
          "Pozytywne",
          "Nieokreślone"
         ],
         "marker": {
          "colors": [
           "#FF6B6B",
           "#6BCB77",
           "#4D96FF"
          ]
         },
         "textinfo": "label+percent+value",
         "textposition": "inside",
         "values": [
          53,
          68,
          130
         ],
         "type": "pie",
         "domain": {
          "x": [
           0.0,
           0.475
          ],
          "y": [
           0.625,
           1.0
          ]
         }
        },
        {
         "insidetextorientation": "horizontal",
         "labels": [
          "Negatywne",
          "Pozytywne"
         ],
         "marker": {
          "colors": [
           "#FF6B6B",
           "#6BCB77",
           "#4D96FF"
          ]
         },
         "textinfo": "label+percent+value",
         "textposition": "inside",
         "values": [
          31.0,
          220.0
         ],
         "type": "pie",
         "domain": {
          "x": [
           0.525,
           1.0
          ],
          "y": [
           0.625,
           1.0
          ]
         }
        },
        {
         "insidetextorientation": "horizontal",
         "labels": [
          "Negatywne",
          "Pozytywne",
          "Nieokreślone"
         ],
         "marker": {
          "colors": [
           "#FF6B6B",
           "#6BCB77",
           "#4D96FF"
          ]
         },
         "textinfo": "label+percent+value",
         "textposition": "inside",
         "values": [
          53.0,
          68.0,
          null
         ],
         "type": "pie",
         "domain": {
          "x": [
           0.0,
           0.475
          ],
          "y": [
           0.0,
           0.375
          ]
         }
        },
        {
         "insidetextorientation": "horizontal",
         "labels": [
          "Negatywne",
          "Pozytywne"
         ],
         "marker": {
          "colors": [
           "#FF6B6B",
           "#6BCB77",
           "#4D96FF"
          ]
         },
         "textinfo": "label+percent+value",
         "textposition": "inside",
         "values": [
          25.0,
          96.0
         ],
         "type": "pie",
         "domain": {
          "x": [
           0.525,
           1.0
          ],
          "y": [
           0.0,
           0.375
          ]
         }
        },
        {
         "insidetextorientation": "horizontal",
         "labels": [
          "Negatywne",
          "Pozytywne",
          "Nieokreślone"
         ],
         "marker": {
          "colors": [
           "#FF6B6B",
           "#6BCB77",
           "#4D96FF"
          ]
         },
         "textinfo": "label+percent+value",
         "textposition": "inside",
         "values": [
          52,
          166,
          33
         ],
         "type": "pie",
         "domain": {
          "x": [
           0.0,
           0.475
          ],
          "y": [
           0.625,
           1.0
          ]
         }
        },
        {
         "insidetextorientation": "horizontal",
         "labels": [
          "Negatywne",
          "Pozytywne"
         ],
         "marker": {
          "colors": [
           "#FF6B6B",
           "#6BCB77",
           "#4D96FF"
          ]
         },
         "textinfo": "label+percent+value",
         "textposition": "inside",
         "values": [
          115.0,
          136.0
         ],
         "type": "pie",
         "domain": {
          "x": [
           0.525,
           1.0
          ],
          "y": [
           0.625,
           1.0
          ]
         }
        },
        {
         "insidetextorientation": "horizontal",
         "labels": [
          "Negatywne",
          "Pozytywne",
          "Nieokreślone"
         ],
         "marker": {
          "colors": [
           "#FF6B6B",
           "#6BCB77",
           "#4D96FF"
          ]
         },
         "textinfo": "label+percent+value",
         "textposition": "inside",
         "values": [
          52.0,
          166.0,
          null
         ],
         "type": "pie",
         "domain": {
          "x": [
           0.0,
           0.475
          ],
          "y": [
           0.0,
           0.375
          ]
         }
        },
        {
         "insidetextorientation": "horizontal",
         "labels": [
          "Negatywne",
          "Pozytywne"
         ],
         "marker": {
          "colors": [
           "#FF6B6B",
           "#6BCB77",
           "#4D96FF"
          ]
         },
         "textinfo": "label+percent+value",
         "textposition": "inside",
         "values": [
          104.0,
          114.0
         ],
         "type": "pie",
         "domain": {
          "x": [
           0.525,
           1.0
          ],
          "y": [
           0.0,
           0.375
          ]
         }
        },
        {
         "insidetextorientation": "horizontal",
         "labels": [
          "Negatywne",
          "Pozytywne",
          "Nieokreślone"
         ],
         "marker": {
          "colors": [
           "#FF6B6B",
           "#6BCB77",
           "#4D96FF"
          ]
         },
         "textinfo": "label+percent+value",
         "textposition": "inside",
         "values": [
          54,
          153,
          38
         ],
         "type": "pie",
         "domain": {
          "x": [
           0.0,
           0.475
          ],
          "y": [
           0.625,
           1.0
          ]
         }
        },
        {
         "insidetextorientation": "horizontal",
         "labels": [
          "Negatywne",
          "Pozytywne"
         ],
         "marker": {
          "colors": [
           "#FF6B6B",
           "#6BCB77",
           "#4D96FF"
          ]
         },
         "textinfo": "label+percent+value",
         "textposition": "inside",
         "values": [
          106,
          137
         ],
         "type": "pie",
         "domain": {
          "x": [
           0.525,
           1.0
          ],
          "y": [
           0.625,
           1.0
          ]
         }
        },
        {
         "insidetextorientation": "horizontal",
         "labels": [
          "Negatywne",
          "Pozytywne",
          "Nieokreślone"
         ],
         "marker": {
          "colors": [
           "#FF6B6B",
           "#6BCB77",
           "#4D96FF"
          ]
         },
         "textinfo": "label+percent+value",
         "textposition": "inside",
         "values": [
          54.0,
          153.0,
          null
         ],
         "type": "pie",
         "domain": {
          "x": [
           0.0,
           0.475
          ],
          "y": [
           0.0,
           0.375
          ]
         }
        },
        {
         "insidetextorientation": "horizontal",
         "labels": [
          "Negatywne",
          "Pozytywne"
         ],
         "marker": {
          "colors": [
           "#FF6B6B",
           "#6BCB77",
           "#4D96FF"
          ]
         },
         "textinfo": "label+percent+value",
         "textposition": "inside",
         "values": [
          95,
          112
         ],
         "type": "pie",
         "domain": {
          "x": [
           0.525,
           1.0
          ],
          "y": [
           0.0,
           0.375
          ]
         }
        },
        {
         "insidetextorientation": "horizontal",
         "labels": [
          "Negatywne",
          "Pozytywne",
          "Nieokreślone"
         ],
         "marker": {
          "colors": [
           "#FF6B6B",
           "#6BCB77",
           "#4D96FF"
          ]
         },
         "textinfo": "label+percent+value",
         "textposition": "inside",
         "values": [
          28,
          74,
          48
         ],
         "type": "pie",
         "domain": {
          "x": [
           0.0,
           0.475
          ],
          "y": [
           0.625,
           1.0
          ]
         }
        },
        {
         "insidetextorientation": "horizontal",
         "labels": [
          "Negatywne",
          "Pozytywne"
         ],
         "marker": {
          "colors": [
           "#FF6B6B",
           "#6BCB77",
           "#4D96FF"
          ]
         },
         "textinfo": "label+percent+value",
         "textposition": "inside",
         "values": [
          45,
          81
         ],
         "type": "pie",
         "domain": {
          "x": [
           0.525,
           1.0
          ],
          "y": [
           0.625,
           1.0
          ]
         }
        },
        {
         "insidetextorientation": "horizontal",
         "labels": [
          "Negatywne",
          "Pozytywne",
          "Nieokreślone"
         ],
         "marker": {
          "colors": [
           "#FF6B6B",
           "#6BCB77",
           "#4D96FF"
          ]
         },
         "textinfo": "label+percent+value",
         "textposition": "inside",
         "values": [
          28.0,
          74.0,
          null
         ],
         "type": "pie",
         "domain": {
          "x": [
           0.0,
           0.475
          ],
          "y": [
           0.0,
           0.375
          ]
         }
        },
        {
         "insidetextorientation": "horizontal",
         "labels": [
          "Negatywne",
          "Pozytywne"
         ],
         "marker": {
          "colors": [
           "#FF6B6B",
           "#6BCB77",
           "#4D96FF"
          ]
         },
         "textinfo": "label+percent+value",
         "textposition": "inside",
         "values": [
          41,
          61
         ],
         "type": "pie",
         "domain": {
          "x": [
           0.525,
           1.0
          ],
          "y": [
           0.0,
           0.375
          ]
         }
        }
       ],
       "layout": {
        "template": {
         "data": {
          "histogram2dcontour": [
           {
            "type": "histogram2dcontour",
            "colorbar": {
             "outlinewidth": 0,
             "ticks": ""
            },
            "colorscale": [
             [
              0.0,
              "#0d0887"
             ],
             [
              0.1111111111111111,
              "#46039f"
             ],
             [
              0.2222222222222222,
              "#7201a8"
             ],
             [
              0.3333333333333333,
              "#9c179e"
             ],
             [
              0.4444444444444444,
              "#bd3786"
             ],
             [
              0.5555555555555556,
              "#d8576b"
             ],
             [
              0.6666666666666666,
              "#ed7953"
             ],
             [
              0.7777777777777778,
              "#fb9f3a"
             ],
             [
              0.8888888888888888,
              "#fdca26"
             ],
             [
              1.0,
              "#f0f921"
             ]
            ]
           }
          ],
          "choropleth": [
           {
            "type": "choropleth",
            "colorbar": {
             "outlinewidth": 0,
             "ticks": ""
            }
           }
          ],
          "histogram2d": [
           {
            "type": "histogram2d",
            "colorbar": {
             "outlinewidth": 0,
             "ticks": ""
            },
            "colorscale": [
             [
              0.0,
              "#0d0887"
             ],
             [
              0.1111111111111111,
              "#46039f"
             ],
             [
              0.2222222222222222,
              "#7201a8"
             ],
             [
              0.3333333333333333,
              "#9c179e"
             ],
             [
              0.4444444444444444,
              "#bd3786"
             ],
             [
              0.5555555555555556,
              "#d8576b"
             ],
             [
              0.6666666666666666,
              "#ed7953"
             ],
             [
              0.7777777777777778,
              "#fb9f3a"
             ],
             [
              0.8888888888888888,
              "#fdca26"
             ],
             [
              1.0,
              "#f0f921"
             ]
            ]
           }
          ],
          "heatmap": [
           {
            "type": "heatmap",
            "colorbar": {
             "outlinewidth": 0,
             "ticks": ""
            },
            "colorscale": [
             [
              0.0,
              "#0d0887"
             ],
             [
              0.1111111111111111,
              "#46039f"
             ],
             [
              0.2222222222222222,
              "#7201a8"
             ],
             [
              0.3333333333333333,
              "#9c179e"
             ],
             [
              0.4444444444444444,
              "#bd3786"
             ],
             [
              0.5555555555555556,
              "#d8576b"
             ],
             [
              0.6666666666666666,
              "#ed7953"
             ],
             [
              0.7777777777777778,
              "#fb9f3a"
             ],
             [
              0.8888888888888888,
              "#fdca26"
             ],
             [
              1.0,
              "#f0f921"
             ]
            ]
           }
          ],
          "heatmapgl": [
           {
            "type": "heatmapgl",
            "colorbar": {
             "outlinewidth": 0,
             "ticks": ""
            },
            "colorscale": [
             [
              0.0,
              "#0d0887"
             ],
             [
              0.1111111111111111,
              "#46039f"
             ],
             [
              0.2222222222222222,
              "#7201a8"
             ],
             [
              0.3333333333333333,
              "#9c179e"
             ],
             [
              0.4444444444444444,
              "#bd3786"
             ],
             [
              0.5555555555555556,
              "#d8576b"
             ],
             [
              0.6666666666666666,
              "#ed7953"
             ],
             [
              0.7777777777777778,
              "#fb9f3a"
             ],
             [
              0.8888888888888888,
              "#fdca26"
             ],
             [
              1.0,
              "#f0f921"
             ]
            ]
           }
          ],
          "contourcarpet": [
           {
            "type": "contourcarpet",
            "colorbar": {
             "outlinewidth": 0,
             "ticks": ""
            }
           }
          ],
          "contour": [
           {
            "type": "contour",
            "colorbar": {
             "outlinewidth": 0,
             "ticks": ""
            },
            "colorscale": [
             [
              0.0,
              "#0d0887"
             ],
             [
              0.1111111111111111,
              "#46039f"
             ],
             [
              0.2222222222222222,
              "#7201a8"
             ],
             [
              0.3333333333333333,
              "#9c179e"
             ],
             [
              0.4444444444444444,
              "#bd3786"
             ],
             [
              0.5555555555555556,
              "#d8576b"
             ],
             [
              0.6666666666666666,
              "#ed7953"
             ],
             [
              0.7777777777777778,
              "#fb9f3a"
             ],
             [
              0.8888888888888888,
              "#fdca26"
             ],
             [
              1.0,
              "#f0f921"
             ]
            ]
           }
          ],
          "surface": [
           {
            "type": "surface",
            "colorbar": {
             "outlinewidth": 0,
             "ticks": ""
            },
            "colorscale": [
             [
              0.0,
              "#0d0887"
             ],
             [
              0.1111111111111111,
              "#46039f"
             ],
             [
              0.2222222222222222,
              "#7201a8"
             ],
             [
              0.3333333333333333,
              "#9c179e"
             ],
             [
              0.4444444444444444,
              "#bd3786"
             ],
             [
              0.5555555555555556,
              "#d8576b"
             ],
             [
              0.6666666666666666,
              "#ed7953"
             ],
             [
              0.7777777777777778,
              "#fb9f3a"
             ],
             [
              0.8888888888888888,
              "#fdca26"
             ],
             [
              1.0,
              "#f0f921"
             ]
            ]
           }
          ],
          "mesh3d": [
           {
            "type": "mesh3d",
            "colorbar": {
             "outlinewidth": 0,
             "ticks": ""
            }
           }
          ],
          "scatter": [
           {
            "marker": {
             "line": {
              "color": "#283442"
             }
            },
            "type": "scatter"
           }
          ],
          "parcoords": [
           {
            "type": "parcoords",
            "line": {
             "colorbar": {
              "outlinewidth": 0,
              "ticks": ""
             }
            }
           }
          ],
          "scatterpolargl": [
           {
            "type": "scatterpolargl",
            "marker": {
             "colorbar": {
              "outlinewidth": 0,
              "ticks": ""
             }
            }
           }
          ],
          "bar": [
           {
            "error_x": {
             "color": "#f2f5fa"
            },
            "error_y": {
             "color": "#f2f5fa"
            },
            "marker": {
             "line": {
              "color": "rgb(17,17,17)",
              "width": 0.5
             },
             "pattern": {
              "fillmode": "overlay",
              "size": 10,
              "solidity": 0.2
             }
            },
            "type": "bar"
           }
          ],
          "scattergeo": [
           {
            "type": "scattergeo",
            "marker": {
             "colorbar": {
              "outlinewidth": 0,
              "ticks": ""
             }
            }
           }
          ],
          "scatterpolar": [
           {
            "type": "scatterpolar",
            "marker": {
             "colorbar": {
              "outlinewidth": 0,
              "ticks": ""
             }
            }
           }
          ],
          "histogram": [
           {
            "marker": {
             "pattern": {
              "fillmode": "overlay",
              "size": 10,
              "solidity": 0.2
             }
            },
            "type": "histogram"
           }
          ],
          "scattergl": [
           {
            "marker": {
             "line": {
              "color": "#283442"
             }
            },
            "type": "scattergl"
           }
          ],
          "scatter3d": [
           {
            "type": "scatter3d",
            "line": {
             "colorbar": {
              "outlinewidth": 0,
              "ticks": ""
             }
            },
            "marker": {
             "colorbar": {
              "outlinewidth": 0,
              "ticks": ""
             }
            }
           }
          ],
          "scattermapbox": [
           {
            "type": "scattermapbox",
            "marker": {
             "colorbar": {
              "outlinewidth": 0,
              "ticks": ""
             }
            }
           }
          ],
          "scatterternary": [
           {
            "type": "scatterternary",
            "marker": {
             "colorbar": {
              "outlinewidth": 0,
              "ticks": ""
             }
            }
           }
          ],
          "scattercarpet": [
           {
            "type": "scattercarpet",
            "marker": {
             "colorbar": {
              "outlinewidth": 0,
              "ticks": ""
             }
            }
           }
          ],
          "carpet": [
           {
            "aaxis": {
             "endlinecolor": "#A2B1C6",
             "gridcolor": "#506784",
             "linecolor": "#506784",
             "minorgridcolor": "#506784",
             "startlinecolor": "#A2B1C6"
            },
            "baxis": {
             "endlinecolor": "#A2B1C6",
             "gridcolor": "#506784",
             "linecolor": "#506784",
             "minorgridcolor": "#506784",
             "startlinecolor": "#A2B1C6"
            },
            "type": "carpet"
           }
          ],
          "table": [
           {
            "cells": {
             "fill": {
              "color": "#506784"
             },
             "line": {
              "color": "rgb(17,17,17)"
             }
            },
            "header": {
             "fill": {
              "color": "#2a3f5f"
             },
             "line": {
              "color": "rgb(17,17,17)"
             }
            },
            "type": "table"
           }
          ],
          "barpolar": [
           {
            "marker": {
             "line": {
              "color": "rgb(17,17,17)",
              "width": 0.5
             },
             "pattern": {
              "fillmode": "overlay",
              "size": 10,
              "solidity": 0.2
             }
            },
            "type": "barpolar"
           }
          ],
          "pie": [
           {
            "automargin": true,
            "type": "pie"
           }
          ]
         },
         "layout": {
          "autotypenumbers": "strict",
          "colorway": [
           "#636efa",
           "#EF553B",
           "#00cc96",
           "#ab63fa",
           "#FFA15A",
           "#19d3f3",
           "#FF6692",
           "#B6E880",
           "#FF97FF",
           "#FECB52"
          ],
          "font": {
           "color": "#f2f5fa"
          },
          "hovermode": "closest",
          "hoverlabel": {
           "align": "left"
          },
          "paper_bgcolor": "rgb(17,17,17)",
          "plot_bgcolor": "rgb(17,17,17)",
          "polar": {
           "bgcolor": "rgb(17,17,17)",
           "angularaxis": {
            "gridcolor": "#506784",
            "linecolor": "#506784",
            "ticks": ""
           },
           "radialaxis": {
            "gridcolor": "#506784",
            "linecolor": "#506784",
            "ticks": ""
           }
          },
          "ternary": {
           "bgcolor": "rgb(17,17,17)",
           "aaxis": {
            "gridcolor": "#506784",
            "linecolor": "#506784",
            "ticks": ""
           },
           "baxis": {
            "gridcolor": "#506784",
            "linecolor": "#506784",
            "ticks": ""
           },
           "caxis": {
            "gridcolor": "#506784",
            "linecolor": "#506784",
            "ticks": ""
           }
          },
          "coloraxis": {
           "colorbar": {
            "outlinewidth": 0,
            "ticks": ""
           }
          },
          "colorscale": {
           "sequential": [
            [
             0.0,
             "#0d0887"
            ],
            [
             0.1111111111111111,
             "#46039f"
            ],
            [
             0.2222222222222222,
             "#7201a8"
            ],
            [
             0.3333333333333333,
             "#9c179e"
            ],
            [
             0.4444444444444444,
             "#bd3786"
            ],
            [
             0.5555555555555556,
             "#d8576b"
            ],
            [
             0.6666666666666666,
             "#ed7953"
            ],
            [
             0.7777777777777778,
             "#fb9f3a"
            ],
            [
             0.8888888888888888,
             "#fdca26"
            ],
            [
             1.0,
             "#f0f921"
            ]
           ],
           "sequentialminus": [
            [
             0.0,
             "#0d0887"
            ],
            [
             0.1111111111111111,
             "#46039f"
            ],
            [
             0.2222222222222222,
             "#7201a8"
            ],
            [
             0.3333333333333333,
             "#9c179e"
            ],
            [
             0.4444444444444444,
             "#bd3786"
            ],
            [
             0.5555555555555556,
             "#d8576b"
            ],
            [
             0.6666666666666666,
             "#ed7953"
            ],
            [
             0.7777777777777778,
             "#fb9f3a"
            ],
            [
             0.8888888888888888,
             "#fdca26"
            ],
            [
             1.0,
             "#f0f921"
            ]
           ],
           "diverging": [
            [
             0,
             "#8e0152"
            ],
            [
             0.1,
             "#c51b7d"
            ],
            [
             0.2,
             "#de77ae"
            ],
            [
             0.3,
             "#f1b6da"
            ],
            [
             0.4,
             "#fde0ef"
            ],
            [
             0.5,
             "#f7f7f7"
            ],
            [
             0.6,
             "#e6f5d0"
            ],
            [
             0.7,
             "#b8e186"
            ],
            [
             0.8,
             "#7fbc41"
            ],
            [
             0.9,
             "#4d9221"
            ],
            [
             1,
             "#276419"
            ]
           ]
          },
          "xaxis": {
           "gridcolor": "#283442",
           "linecolor": "#506784",
           "ticks": "",
           "title": {
            "standoff": 15
           },
           "zerolinecolor": "#283442",
           "automargin": true,
           "zerolinewidth": 2
          },
          "yaxis": {
           "gridcolor": "#283442",
           "linecolor": "#506784",
           "ticks": "",
           "title": {
            "standoff": 15
           },
           "zerolinecolor": "#283442",
           "automargin": true,
           "zerolinewidth": 2
          },
          "scene": {
           "xaxis": {
            "backgroundcolor": "rgb(17,17,17)",
            "gridcolor": "#506784",
            "linecolor": "#506784",
            "showbackground": true,
            "ticks": "",
            "zerolinecolor": "#C8D4E3",
            "gridwidth": 2
           },
           "yaxis": {
            "backgroundcolor": "rgb(17,17,17)",
            "gridcolor": "#506784",
            "linecolor": "#506784",
            "showbackground": true,
            "ticks": "",
            "zerolinecolor": "#C8D4E3",
            "gridwidth": 2
           },
           "zaxis": {
            "backgroundcolor": "rgb(17,17,17)",
            "gridcolor": "#506784",
            "linecolor": "#506784",
            "showbackground": true,
            "ticks": "",
            "zerolinecolor": "#C8D4E3",
            "gridwidth": 2
           }
          },
          "shapedefaults": {
           "line": {
            "color": "#f2f5fa"
           }
          },
          "annotationdefaults": {
           "arrowcolor": "#f2f5fa",
           "arrowhead": 0,
           "arrowwidth": 1
          },
          "geo": {
           "bgcolor": "rgb(17,17,17)",
           "landcolor": "rgb(17,17,17)",
           "subunitcolor": "#506784",
           "showland": true,
           "showlakes": true,
           "lakecolor": "rgb(17,17,17)"
          },
          "title": {
           "x": 0.05
          },
          "updatemenudefaults": {
           "bgcolor": "#506784",
           "borderwidth": 0
          },
          "sliderdefaults": {
           "bgcolor": "#C8D4E3",
           "borderwidth": 1,
           "bordercolor": "rgb(17,17,17)",
           "tickwidth": 0
          },
          "mapbox": {
           "style": "dark"
          }
         }
        },
        "annotations": [
         {
          "font": {
           "size": 16
          },
          "showarrow": false,
          "text": "NAWL",
          "x": 0.2375,
          "xanchor": "center",
          "xref": "paper",
          "y": 1.0,
          "yanchor": "bottom",
          "yref": "paper"
         },
         {
          "font": {
           "size": 16
          },
          "showarrow": false,
          "text": "Anotacja",
          "x": 0.7625,
          "xanchor": "center",
          "xref": "paper",
          "y": 1.0,
          "yanchor": "bottom",
          "yref": "paper"
         },
         {
          "font": {
           "size": 16
          },
          "showarrow": false,
          "text": "NAWL z pominięciem wartości nieokreślonych",
          "x": 0.2375,
          "xanchor": "center",
          "xref": "paper",
          "y": 0.375,
          "yanchor": "bottom",
          "yref": "paper"
         },
         {
          "font": {
           "size": 16
          },
          "showarrow": false,
          "text": "Anotacja z pominięciem wartości które<br>zostały nieokreślone w bazie NAWL",
          "x": 0.7625,
          "xanchor": "center",
          "xref": "paper",
          "y": 0.375,
          "yanchor": "bottom",
          "yref": "paper"
         }
        ],
        "title": {
         "text": "Pos_sentiment_3"
        }
       },
       "config": {
        "plotlyServerURL": "https://plot.ly"
       }
      },
      "text/html": "<div>                            <div id=\"82e3c1fd-ff33-4073-aff7-399481991dad\" class=\"plotly-graph-div\" style=\"height:525px; width:100%;\"></div>            <script type=\"text/javascript\">                require([\"plotly\"], function(Plotly) {                    window.PLOTLYENV=window.PLOTLYENV || {};                                    if (document.getElementById(\"82e3c1fd-ff33-4073-aff7-399481991dad\")) {                    Plotly.newPlot(                        \"82e3c1fd-ff33-4073-aff7-399481991dad\",                        [{\"insidetextorientation\":\"horizontal\",\"labels\":[\"Negatywne\",\"Pozytywne\",\"Nieokre\\u015blone\"],\"marker\":{\"colors\":[\"#FF6B6B\",\"#6BCB77\",\"#4D96FF\"]},\"textinfo\":\"label+percent+value\",\"textposition\":\"inside\",\"values\":[53,68,130],\"type\":\"pie\",\"domain\":{\"x\":[0.0,0.475],\"y\":[0.625,1.0]}},{\"insidetextorientation\":\"horizontal\",\"labels\":[\"Negatywne\",\"Pozytywne\"],\"marker\":{\"colors\":[\"#FF6B6B\",\"#6BCB77\",\"#4D96FF\"]},\"textinfo\":\"label+percent+value\",\"textposition\":\"inside\",\"values\":[31.0,220.0],\"type\":\"pie\",\"domain\":{\"x\":[0.525,1.0],\"y\":[0.625,1.0]}},{\"insidetextorientation\":\"horizontal\",\"labels\":[\"Negatywne\",\"Pozytywne\",\"Nieokre\\u015blone\"],\"marker\":{\"colors\":[\"#FF6B6B\",\"#6BCB77\",\"#4D96FF\"]},\"textinfo\":\"label+percent+value\",\"textposition\":\"inside\",\"values\":[53.0,68.0,null],\"type\":\"pie\",\"domain\":{\"x\":[0.0,0.475],\"y\":[0.0,0.375]}},{\"insidetextorientation\":\"horizontal\",\"labels\":[\"Negatywne\",\"Pozytywne\"],\"marker\":{\"colors\":[\"#FF6B6B\",\"#6BCB77\",\"#4D96FF\"]},\"textinfo\":\"label+percent+value\",\"textposition\":\"inside\",\"values\":[25.0,96.0],\"type\":\"pie\",\"domain\":{\"x\":[0.525,1.0],\"y\":[0.0,0.375]}},{\"insidetextorientation\":\"horizontal\",\"labels\":[\"Negatywne\",\"Pozytywne\",\"Nieokre\\u015blone\"],\"marker\":{\"colors\":[\"#FF6B6B\",\"#6BCB77\",\"#4D96FF\"]},\"textinfo\":\"label+percent+value\",\"textposition\":\"inside\",\"values\":[52,166,33],\"type\":\"pie\",\"domain\":{\"x\":[0.0,0.475],\"y\":[0.625,1.0]}},{\"insidetextorientation\":\"horizontal\",\"labels\":[\"Negatywne\",\"Pozytywne\"],\"marker\":{\"colors\":[\"#FF6B6B\",\"#6BCB77\",\"#4D96FF\"]},\"textinfo\":\"label+percent+value\",\"textposition\":\"inside\",\"values\":[115.0,136.0],\"type\":\"pie\",\"domain\":{\"x\":[0.525,1.0],\"y\":[0.625,1.0]}},{\"insidetextorientation\":\"horizontal\",\"labels\":[\"Negatywne\",\"Pozytywne\",\"Nieokre\\u015blone\"],\"marker\":{\"colors\":[\"#FF6B6B\",\"#6BCB77\",\"#4D96FF\"]},\"textinfo\":\"label+percent+value\",\"textposition\":\"inside\",\"values\":[52.0,166.0,null],\"type\":\"pie\",\"domain\":{\"x\":[0.0,0.475],\"y\":[0.0,0.375]}},{\"insidetextorientation\":\"horizontal\",\"labels\":[\"Negatywne\",\"Pozytywne\"],\"marker\":{\"colors\":[\"#FF6B6B\",\"#6BCB77\",\"#4D96FF\"]},\"textinfo\":\"label+percent+value\",\"textposition\":\"inside\",\"values\":[104.0,114.0],\"type\":\"pie\",\"domain\":{\"x\":[0.525,1.0],\"y\":[0.0,0.375]}},{\"insidetextorientation\":\"horizontal\",\"labels\":[\"Negatywne\",\"Pozytywne\",\"Nieokre\\u015blone\"],\"marker\":{\"colors\":[\"#FF6B6B\",\"#6BCB77\",\"#4D96FF\"]},\"textinfo\":\"label+percent+value\",\"textposition\":\"inside\",\"values\":[54,153,38],\"type\":\"pie\",\"domain\":{\"x\":[0.0,0.475],\"y\":[0.625,1.0]}},{\"insidetextorientation\":\"horizontal\",\"labels\":[\"Negatywne\",\"Pozytywne\"],\"marker\":{\"colors\":[\"#FF6B6B\",\"#6BCB77\",\"#4D96FF\"]},\"textinfo\":\"label+percent+value\",\"textposition\":\"inside\",\"values\":[106,137],\"type\":\"pie\",\"domain\":{\"x\":[0.525,1.0],\"y\":[0.625,1.0]}},{\"insidetextorientation\":\"horizontal\",\"labels\":[\"Negatywne\",\"Pozytywne\",\"Nieokre\\u015blone\"],\"marker\":{\"colors\":[\"#FF6B6B\",\"#6BCB77\",\"#4D96FF\"]},\"textinfo\":\"label+percent+value\",\"textposition\":\"inside\",\"values\":[54.0,153.0,null],\"type\":\"pie\",\"domain\":{\"x\":[0.0,0.475],\"y\":[0.0,0.375]}},{\"insidetextorientation\":\"horizontal\",\"labels\":[\"Negatywne\",\"Pozytywne\"],\"marker\":{\"colors\":[\"#FF6B6B\",\"#6BCB77\",\"#4D96FF\"]},\"textinfo\":\"label+percent+value\",\"textposition\":\"inside\",\"values\":[95,112],\"type\":\"pie\",\"domain\":{\"x\":[0.525,1.0],\"y\":[0.0,0.375]}},{\"insidetextorientation\":\"horizontal\",\"labels\":[\"Negatywne\",\"Pozytywne\",\"Nieokre\\u015blone\"],\"marker\":{\"colors\":[\"#FF6B6B\",\"#6BCB77\",\"#4D96FF\"]},\"textinfo\":\"label+percent+value\",\"textposition\":\"inside\",\"values\":[28,74,48],\"type\":\"pie\",\"domain\":{\"x\":[0.0,0.475],\"y\":[0.625,1.0]}},{\"insidetextorientation\":\"horizontal\",\"labels\":[\"Negatywne\",\"Pozytywne\"],\"marker\":{\"colors\":[\"#FF6B6B\",\"#6BCB77\",\"#4D96FF\"]},\"textinfo\":\"label+percent+value\",\"textposition\":\"inside\",\"values\":[45,81],\"type\":\"pie\",\"domain\":{\"x\":[0.525,1.0],\"y\":[0.625,1.0]}},{\"insidetextorientation\":\"horizontal\",\"labels\":[\"Negatywne\",\"Pozytywne\",\"Nieokre\\u015blone\"],\"marker\":{\"colors\":[\"#FF6B6B\",\"#6BCB77\",\"#4D96FF\"]},\"textinfo\":\"label+percent+value\",\"textposition\":\"inside\",\"values\":[28.0,74.0,null],\"type\":\"pie\",\"domain\":{\"x\":[0.0,0.475],\"y\":[0.0,0.375]}},{\"insidetextorientation\":\"horizontal\",\"labels\":[\"Negatywne\",\"Pozytywne\"],\"marker\":{\"colors\":[\"#FF6B6B\",\"#6BCB77\",\"#4D96FF\"]},\"textinfo\":\"label+percent+value\",\"textposition\":\"inside\",\"values\":[41,61],\"type\":\"pie\",\"domain\":{\"x\":[0.525,1.0],\"y\":[0.0,0.375]}}],                        {\"template\":{\"data\":{\"histogram2dcontour\":[{\"type\":\"histogram2dcontour\",\"colorbar\":{\"outlinewidth\":0,\"ticks\":\"\"},\"colorscale\":[[0.0,\"#0d0887\"],[0.1111111111111111,\"#46039f\"],[0.2222222222222222,\"#7201a8\"],[0.3333333333333333,\"#9c179e\"],[0.4444444444444444,\"#bd3786\"],[0.5555555555555556,\"#d8576b\"],[0.6666666666666666,\"#ed7953\"],[0.7777777777777778,\"#fb9f3a\"],[0.8888888888888888,\"#fdca26\"],[1.0,\"#f0f921\"]]}],\"choropleth\":[{\"type\":\"choropleth\",\"colorbar\":{\"outlinewidth\":0,\"ticks\":\"\"}}],\"histogram2d\":[{\"type\":\"histogram2d\",\"colorbar\":{\"outlinewidth\":0,\"ticks\":\"\"},\"colorscale\":[[0.0,\"#0d0887\"],[0.1111111111111111,\"#46039f\"],[0.2222222222222222,\"#7201a8\"],[0.3333333333333333,\"#9c179e\"],[0.4444444444444444,\"#bd3786\"],[0.5555555555555556,\"#d8576b\"],[0.6666666666666666,\"#ed7953\"],[0.7777777777777778,\"#fb9f3a\"],[0.8888888888888888,\"#fdca26\"],[1.0,\"#f0f921\"]]}],\"heatmap\":[{\"type\":\"heatmap\",\"colorbar\":{\"outlinewidth\":0,\"ticks\":\"\"},\"colorscale\":[[0.0,\"#0d0887\"],[0.1111111111111111,\"#46039f\"],[0.2222222222222222,\"#7201a8\"],[0.3333333333333333,\"#9c179e\"],[0.4444444444444444,\"#bd3786\"],[0.5555555555555556,\"#d8576b\"],[0.6666666666666666,\"#ed7953\"],[0.7777777777777778,\"#fb9f3a\"],[0.8888888888888888,\"#fdca26\"],[1.0,\"#f0f921\"]]}],\"heatmapgl\":[{\"type\":\"heatmapgl\",\"colorbar\":{\"outlinewidth\":0,\"ticks\":\"\"},\"colorscale\":[[0.0,\"#0d0887\"],[0.1111111111111111,\"#46039f\"],[0.2222222222222222,\"#7201a8\"],[0.3333333333333333,\"#9c179e\"],[0.4444444444444444,\"#bd3786\"],[0.5555555555555556,\"#d8576b\"],[0.6666666666666666,\"#ed7953\"],[0.7777777777777778,\"#fb9f3a\"],[0.8888888888888888,\"#fdca26\"],[1.0,\"#f0f921\"]]}],\"contourcarpet\":[{\"type\":\"contourcarpet\",\"colorbar\":{\"outlinewidth\":0,\"ticks\":\"\"}}],\"contour\":[{\"type\":\"contour\",\"colorbar\":{\"outlinewidth\":0,\"ticks\":\"\"},\"colorscale\":[[0.0,\"#0d0887\"],[0.1111111111111111,\"#46039f\"],[0.2222222222222222,\"#7201a8\"],[0.3333333333333333,\"#9c179e\"],[0.4444444444444444,\"#bd3786\"],[0.5555555555555556,\"#d8576b\"],[0.6666666666666666,\"#ed7953\"],[0.7777777777777778,\"#fb9f3a\"],[0.8888888888888888,\"#fdca26\"],[1.0,\"#f0f921\"]]}],\"surface\":[{\"type\":\"surface\",\"colorbar\":{\"outlinewidth\":0,\"ticks\":\"\"},\"colorscale\":[[0.0,\"#0d0887\"],[0.1111111111111111,\"#46039f\"],[0.2222222222222222,\"#7201a8\"],[0.3333333333333333,\"#9c179e\"],[0.4444444444444444,\"#bd3786\"],[0.5555555555555556,\"#d8576b\"],[0.6666666666666666,\"#ed7953\"],[0.7777777777777778,\"#fb9f3a\"],[0.8888888888888888,\"#fdca26\"],[1.0,\"#f0f921\"]]}],\"mesh3d\":[{\"type\":\"mesh3d\",\"colorbar\":{\"outlinewidth\":0,\"ticks\":\"\"}}],\"scatter\":[{\"marker\":{\"line\":{\"color\":\"#283442\"}},\"type\":\"scatter\"}],\"parcoords\":[{\"type\":\"parcoords\",\"line\":{\"colorbar\":{\"outlinewidth\":0,\"ticks\":\"\"}}}],\"scatterpolargl\":[{\"type\":\"scatterpolargl\",\"marker\":{\"colorbar\":{\"outlinewidth\":0,\"ticks\":\"\"}}}],\"bar\":[{\"error_x\":{\"color\":\"#f2f5fa\"},\"error_y\":{\"color\":\"#f2f5fa\"},\"marker\":{\"line\":{\"color\":\"rgb(17,17,17)\",\"width\":0.5},\"pattern\":{\"fillmode\":\"overlay\",\"size\":10,\"solidity\":0.2}},\"type\":\"bar\"}],\"scattergeo\":[{\"type\":\"scattergeo\",\"marker\":{\"colorbar\":{\"outlinewidth\":0,\"ticks\":\"\"}}}],\"scatterpolar\":[{\"type\":\"scatterpolar\",\"marker\":{\"colorbar\":{\"outlinewidth\":0,\"ticks\":\"\"}}}],\"histogram\":[{\"marker\":{\"pattern\":{\"fillmode\":\"overlay\",\"size\":10,\"solidity\":0.2}},\"type\":\"histogram\"}],\"scattergl\":[{\"marker\":{\"line\":{\"color\":\"#283442\"}},\"type\":\"scattergl\"}],\"scatter3d\":[{\"type\":\"scatter3d\",\"line\":{\"colorbar\":{\"outlinewidth\":0,\"ticks\":\"\"}},\"marker\":{\"colorbar\":{\"outlinewidth\":0,\"ticks\":\"\"}}}],\"scattermapbox\":[{\"type\":\"scattermapbox\",\"marker\":{\"colorbar\":{\"outlinewidth\":0,\"ticks\":\"\"}}}],\"scatterternary\":[{\"type\":\"scatterternary\",\"marker\":{\"colorbar\":{\"outlinewidth\":0,\"ticks\":\"\"}}}],\"scattercarpet\":[{\"type\":\"scattercarpet\",\"marker\":{\"colorbar\":{\"outlinewidth\":0,\"ticks\":\"\"}}}],\"carpet\":[{\"aaxis\":{\"endlinecolor\":\"#A2B1C6\",\"gridcolor\":\"#506784\",\"linecolor\":\"#506784\",\"minorgridcolor\":\"#506784\",\"startlinecolor\":\"#A2B1C6\"},\"baxis\":{\"endlinecolor\":\"#A2B1C6\",\"gridcolor\":\"#506784\",\"linecolor\":\"#506784\",\"minorgridcolor\":\"#506784\",\"startlinecolor\":\"#A2B1C6\"},\"type\":\"carpet\"}],\"table\":[{\"cells\":{\"fill\":{\"color\":\"#506784\"},\"line\":{\"color\":\"rgb(17,17,17)\"}},\"header\":{\"fill\":{\"color\":\"#2a3f5f\"},\"line\":{\"color\":\"rgb(17,17,17)\"}},\"type\":\"table\"}],\"barpolar\":[{\"marker\":{\"line\":{\"color\":\"rgb(17,17,17)\",\"width\":0.5},\"pattern\":{\"fillmode\":\"overlay\",\"size\":10,\"solidity\":0.2}},\"type\":\"barpolar\"}],\"pie\":[{\"automargin\":true,\"type\":\"pie\"}]},\"layout\":{\"autotypenumbers\":\"strict\",\"colorway\":[\"#636efa\",\"#EF553B\",\"#00cc96\",\"#ab63fa\",\"#FFA15A\",\"#19d3f3\",\"#FF6692\",\"#B6E880\",\"#FF97FF\",\"#FECB52\"],\"font\":{\"color\":\"#f2f5fa\"},\"hovermode\":\"closest\",\"hoverlabel\":{\"align\":\"left\"},\"paper_bgcolor\":\"rgb(17,17,17)\",\"plot_bgcolor\":\"rgb(17,17,17)\",\"polar\":{\"bgcolor\":\"rgb(17,17,17)\",\"angularaxis\":{\"gridcolor\":\"#506784\",\"linecolor\":\"#506784\",\"ticks\":\"\"},\"radialaxis\":{\"gridcolor\":\"#506784\",\"linecolor\":\"#506784\",\"ticks\":\"\"}},\"ternary\":{\"bgcolor\":\"rgb(17,17,17)\",\"aaxis\":{\"gridcolor\":\"#506784\",\"linecolor\":\"#506784\",\"ticks\":\"\"},\"baxis\":{\"gridcolor\":\"#506784\",\"linecolor\":\"#506784\",\"ticks\":\"\"},\"caxis\":{\"gridcolor\":\"#506784\",\"linecolor\":\"#506784\",\"ticks\":\"\"}},\"coloraxis\":{\"colorbar\":{\"outlinewidth\":0,\"ticks\":\"\"}},\"colorscale\":{\"sequential\":[[0.0,\"#0d0887\"],[0.1111111111111111,\"#46039f\"],[0.2222222222222222,\"#7201a8\"],[0.3333333333333333,\"#9c179e\"],[0.4444444444444444,\"#bd3786\"],[0.5555555555555556,\"#d8576b\"],[0.6666666666666666,\"#ed7953\"],[0.7777777777777778,\"#fb9f3a\"],[0.8888888888888888,\"#fdca26\"],[1.0,\"#f0f921\"]],\"sequentialminus\":[[0.0,\"#0d0887\"],[0.1111111111111111,\"#46039f\"],[0.2222222222222222,\"#7201a8\"],[0.3333333333333333,\"#9c179e\"],[0.4444444444444444,\"#bd3786\"],[0.5555555555555556,\"#d8576b\"],[0.6666666666666666,\"#ed7953\"],[0.7777777777777778,\"#fb9f3a\"],[0.8888888888888888,\"#fdca26\"],[1.0,\"#f0f921\"]],\"diverging\":[[0,\"#8e0152\"],[0.1,\"#c51b7d\"],[0.2,\"#de77ae\"],[0.3,\"#f1b6da\"],[0.4,\"#fde0ef\"],[0.5,\"#f7f7f7\"],[0.6,\"#e6f5d0\"],[0.7,\"#b8e186\"],[0.8,\"#7fbc41\"],[0.9,\"#4d9221\"],[1,\"#276419\"]]},\"xaxis\":{\"gridcolor\":\"#283442\",\"linecolor\":\"#506784\",\"ticks\":\"\",\"title\":{\"standoff\":15},\"zerolinecolor\":\"#283442\",\"automargin\":true,\"zerolinewidth\":2},\"yaxis\":{\"gridcolor\":\"#283442\",\"linecolor\":\"#506784\",\"ticks\":\"\",\"title\":{\"standoff\":15},\"zerolinecolor\":\"#283442\",\"automargin\":true,\"zerolinewidth\":2},\"scene\":{\"xaxis\":{\"backgroundcolor\":\"rgb(17,17,17)\",\"gridcolor\":\"#506784\",\"linecolor\":\"#506784\",\"showbackground\":true,\"ticks\":\"\",\"zerolinecolor\":\"#C8D4E3\",\"gridwidth\":2},\"yaxis\":{\"backgroundcolor\":\"rgb(17,17,17)\",\"gridcolor\":\"#506784\",\"linecolor\":\"#506784\",\"showbackground\":true,\"ticks\":\"\",\"zerolinecolor\":\"#C8D4E3\",\"gridwidth\":2},\"zaxis\":{\"backgroundcolor\":\"rgb(17,17,17)\",\"gridcolor\":\"#506784\",\"linecolor\":\"#506784\",\"showbackground\":true,\"ticks\":\"\",\"zerolinecolor\":\"#C8D4E3\",\"gridwidth\":2}},\"shapedefaults\":{\"line\":{\"color\":\"#f2f5fa\"}},\"annotationdefaults\":{\"arrowcolor\":\"#f2f5fa\",\"arrowhead\":0,\"arrowwidth\":1},\"geo\":{\"bgcolor\":\"rgb(17,17,17)\",\"landcolor\":\"rgb(17,17,17)\",\"subunitcolor\":\"#506784\",\"showland\":true,\"showlakes\":true,\"lakecolor\":\"rgb(17,17,17)\"},\"title\":{\"x\":0.05},\"updatemenudefaults\":{\"bgcolor\":\"#506784\",\"borderwidth\":0},\"sliderdefaults\":{\"bgcolor\":\"#C8D4E3\",\"borderwidth\":1,\"bordercolor\":\"rgb(17,17,17)\",\"tickwidth\":0},\"mapbox\":{\"style\":\"dark\"}}},\"annotations\":[{\"font\":{\"size\":16},\"showarrow\":false,\"text\":\"NAWL\",\"x\":0.2375,\"xanchor\":\"center\",\"xref\":\"paper\",\"y\":1.0,\"yanchor\":\"bottom\",\"yref\":\"paper\"},{\"font\":{\"size\":16},\"showarrow\":false,\"text\":\"Anotacja\",\"x\":0.7625,\"xanchor\":\"center\",\"xref\":\"paper\",\"y\":1.0,\"yanchor\":\"bottom\",\"yref\":\"paper\"},{\"font\":{\"size\":16},\"showarrow\":false,\"text\":\"NAWL z pomini\\u0119ciem warto\\u015bci nieokre\\u015blonych\",\"x\":0.2375,\"xanchor\":\"center\",\"xref\":\"paper\",\"y\":0.375,\"yanchor\":\"bottom\",\"yref\":\"paper\"},{\"font\":{\"size\":16},\"showarrow\":false,\"text\":\"Anotacja z pomini\\u0119ciem warto\\u015bci kt\\u00f3re<br>zosta\\u0142y nieokre\\u015blone w bazie NAWL\",\"x\":0.7625,\"xanchor\":\"center\",\"xref\":\"paper\",\"y\":0.375,\"yanchor\":\"bottom\",\"yref\":\"paper\"}],\"title\":{\"text\":\"Pos_sentiment_3\"}},                        {\"responsive\": true}                    ).then(function(){\n                            \nvar gd = document.getElementById('82e3c1fd-ff33-4073-aff7-399481991dad');\nvar x = new MutationObserver(function (mutations, observer) {{\n        var display = window.getComputedStyle(gd).display;\n        if (!display || display === 'none') {{\n            console.log([gd, 'removed!']);\n            Plotly.purge(gd);\n            observer.disconnect();\n        }}\n}});\n\n// Listen for the removal of the full notebook cells\nvar notebookContainer = gd.closest('#notebook-container');\nif (notebookContainer) {{\n    x.observe(notebookContainer, {childList: true});\n}}\n\n// Listen for the clearing of the current output cell\nvar outputEl = gd.closest('.output');\nif (outputEl) {{\n    x.observe(outputEl, {childList: true});\n}}\n\n                        })                };                });            </script>        </div>"
     },
     "metadata": {},
     "output_type": "display_data"
    },
    {
     "name": "stdout",
     "output_type": "stream",
     "text": [
      "Kappa p3-cat i p3-anot: 0.161\n"
     ]
    },
    {
     "data": {
      "text/plain": "<Figure size 432x288 with 2 Axes>",
      "image/png": "[encoded data removed]"
     },
     "metadata": {},
     "output_type": "display_data"
    }
   ],
   "source": [
    "for (pos_column, neg_column) in [('Pos_sentiment_K', 'Neg_sentiment_K'), ('Pos_sentiment_1', 'Neg_sentiment_1'),\n",
    "                                 ('Pos_sentiment_2', 'Neg_sentiment_2'), ('Pos_sentiment_3', 'Neg_sentiment_3')]:\n",
    "    if pos_column[-1] == 'K':\n",
    "        nawl_column = f\"k-cat\"\n",
    "        anot_column = f\"k-anot\"\n",
    "    else:\n",
    "        nawl_column = f\"p{pos_column[-1]}-cat\"\n",
    "        anot_column = f\"p{pos_column[-1]}-anot\"\n",
    "\n",
    "\n",
    "    # liczenie wystąpień -1/0/1 oraz konwersja do formatu który jest wygodny do robienia wykresu\n",
    "    #cts (counts) => df liczby wystąpień wartości skategoryzowanych\n",
    "    cts = nawl_df[nawl_column].value_counts().to_frame().reindex([-1, 1, 0])\n",
    "\n",
    "    fig.add_trace(\n",
    "        go.Pie(labels=[labels_dict[i] for i in cts.index.tolist()], values=[value[0] for value in cts.values.tolist()],\n",
    "               textposition='inside', textinfo='label+percent+value', insidetextorientation='horizontal',\n",
    "               marker_colors=pie_colours\n",
    "               ),\n",
    "        row=1, col=1\n",
    "    )\n",
    "\n",
    "    # df zawierający wartości skategoryzowane z anotacja df (z dwóch kolumn w jedną)\n",
    "    anot_df = pd.DataFrame(data={'pos': anotacja_df[pos_column], 'neg': anotacja_df[neg_column]})\n",
    "\n",
    "    anot_df[anot_column] = anot_df.apply(anotacja, axis=1)\n",
    "    cts = anot_df[anot_column].value_counts().to_frame().reindex([-1, 1, 0]).drop(0)\n",
    "\n",
    "    fig.add_trace(\n",
    "        go.Pie(labels=[labels_dict[i] for i in cts.index.tolist()], values=[value[0] for value in cts.values.tolist()],\n",
    "               textposition='inside', textinfo='label+percent+value', insidetextorientation='horizontal',\n",
    "               marker_colors=pie_colours\n",
    "               ),\n",
    "        row=1, col=2\n",
    "    )\n",
    "\n",
    "    #usuwanie 0 (wartości nieokreślonych) z nawl_df\n",
    "    without_zeros = nawl_df.replace(0, nan)\n",
    "    cts = without_zeros[nawl_column].value_counts().to_frame().reindex([-1, 1, 0])\n",
    "    fig.add_trace(\n",
    "        go.Pie(labels=[labels_dict[i] for i in cts.index.tolist()], values=[value[0] for value in cts.values.tolist()],\n",
    "               textposition='inside', textinfo='label+percent+value', insidetextorientation='horizontal',\n",
    "               marker_colors=pie_colours\n",
    "               ),\n",
    "        row=2, col=1\n",
    "    )\n",
    "\n",
    "    #łączenie anot_df i nawl_df w jednego df (merged_df)\n",
    "    merged_df = pd.concat([anot_df[anot_column], nawl_df[nawl_column].reindex(anot_df.index)], axis=1)\n",
    "    #usuwanie z merged_df ADU (argumentative discurse unikt) lub całych argumentów które były nieokreślone dla bazy nawl\n",
    "    merged_wo0 = merged_df.drop(merged_df[merged_df[nawl_column] == 0].index)\n",
    "    cts = merged_wo0[anot_column].value_counts().to_frame().reindex([-1, 1, 0]).drop(0)\n",
    "    fig.add_trace(\n",
    "        go.Pie(labels=[labels_dict[i] for i in cts.index.tolist()], values=[value[0] for value in cts.values.tolist()],\n",
    "               textposition='inside', textinfo='label+percent+value', insidetextorientation='horizontal',\n",
    "               marker_colors=pie_colours\n",
    "               ),\n",
    "        row=2, col=2\n",
    "    )\n",
    "    fig.update_layout(title_text=pos_column)\n",
    "    fig.show()\n",
    "\n",
    "    #tworzenie wizualizacji confusion matrix (tablicy pomyłek) (dla poszczególnych ADU)\n",
    "    merged_df = pd.concat([nawl_df, anotacja_df.reindex(nawl_df.index)], axis=1)\n",
    "    merged_wo0 = merged_df.drop(merged_df[merged_df[nawl_column] == 0].index)\n",
    "\n",
    "    merged_wo0.rename(columns={pos_column: 'pos', neg_column: 'neg'}, inplace=True)\n",
    "    merged_wo0[anot_column] = merged_wo0.apply(anotacja, axis=1)\n",
    "    data = {'nawl': merged_wo0[nawl_column],\n",
    "            'anotacja': merged_wo0[anot_column]}\n",
    "\n",
    "    data_df = pd.DataFrame(data, columns=['nawl', 'anotacja'])\n",
    "    confusion_matrix = pd.crosstab(data_df['anotacja'], data_df['nawl'], rownames=['Anotacja'], colnames=['NAWL'])\n",
    "    confusion_df = confusion_matrix.unstack().reorder_levels(('Anotacja', 'NAWL'))\n",
    "    print(f\"Kappa {nawl_column} i {anot_column}: {round(kappa(confusion_df), 3)}\")\n",
    "    ax = sns.heatmap(confusion_matrix, annot=True, cmap=hm_palette, fmt='.3g')\n",
    "    ax.invert_yaxis()\n",
    "    ax.invert_xaxis()\n",
    "    plt.show()"
   ],
   "metadata": {
    "collapsed": false,
    "pycharm": {
     "name": "#%%\n"
    }
   }
  },
  {
   "cell_type": "code",
   "execution_count": 137,
   "outputs": [],
   "source": [
    "# Tworzenie df z połączonej całości argumentów (wszystkie AUN) z bazy (K,1,2,3)\n",
    "# tworzenie \"szablonu\" z konkluzji\n",
    "merged_df = pd.concat([nawl_df, anotacja_df.reindex(nawl_df.index)], axis=1)\n",
    "\n",
    "merged_df.rename(columns={'Pos_sentiment_K': 'pos', 'Neg_sentiment_K': 'neg'}, inplace=True)\n",
    "merged_df['k-anot'] = merged_df.apply(anotacja, axis=1)\n",
    "\n",
    "data = {'nawl': merged_df['k-cat'], 'anotacja': merged_df['k-anot']}\n",
    "all_comparison_df = pd.DataFrame(data, columns=['nawl', 'anotacja'])\n",
    "# iterowanie po wszystkich kolumnach z oceną przesłanek i \"doklejanie do szablonu\"\n",
    "for (pos_column, neg_column) in [('Pos_sentiment_1', 'Neg_sentiment_1'), ('Pos_sentiment_2', 'Neg_sentiment_2'), ('Pos_sentiment_3', 'Neg_sentiment_3')]:\n",
    "    nawl_column = f\"p{pos_column[-1]}-cat\"\n",
    "    anot_column = f\"p{pos_column[-1]}-anot\"\n",
    "    merged_df[anot_column] = merged_df[pos_column] - merged_df[neg_column]\n",
    "\n",
    "    to_be_added = pd.DataFrame({'nawl':     merged_df[nawl_column],\n",
    "                                'anotacja': merged_df[anot_column]},\n",
    "                               columns=['nawl', 'anotacja'])\n",
    "    all_comparison_df = pd.concat([all_comparison_df, to_be_added], ignore_index=True)"
   ],
   "metadata": {
    "collapsed": false,
    "pycharm": {
     "name": "#%%\n"
    }
   }
  },
  {
   "cell_type": "code",
   "execution_count": 138,
   "outputs": [
    {
     "data": {
      "text/plain": "      nawl  anotacja\n0     -1.0       1.0\n1     -1.0      -1.0\n2      1.0       1.0\n3      1.0      -1.0\n4      0.0      -1.0\n...    ...       ...\n999    NaN       0.0\n1000   NaN       0.0\n1001   NaN       0.0\n1002   1.0       1.0\n1003   1.0      -1.0\n\n[1004 rows x 2 columns]",
      "text/html": "<div>\n<style scoped>\n    .dataframe tbody tr th:only-of-type {\n        vertical-align: middle;\n    }\n\n    .dataframe tbody tr th {\n        vertical-align: top;\n    }\n\n    .dataframe thead th {\n        text-align: right;\n    }\n</style>\n<table border=\"1\" class=\"dataframe\">\n  <thead>\n    <tr style=\"text-align: right;\">\n      <th></th>\n      <th>nawl</th>\n      <th>anotacja</th>\n    </tr>\n  </thead>\n  <tbody>\n    <tr>\n      <th>0</th>\n      <td>-1.0</td>\n      <td>1.0</td>\n    </tr>\n    <tr>\n      <th>1</th>\n      <td>-1.0</td>\n      <td>-1.0</td>\n    </tr>\n    <tr>\n      <th>2</th>\n      <td>1.0</td>\n      <td>1.0</td>\n    </tr>\n    <tr>\n      <th>3</th>\n      <td>1.0</td>\n      <td>-1.0</td>\n    </tr>\n    <tr>\n      <th>4</th>\n      <td>0.0</td>\n      <td>-1.0</td>\n    </tr>\n    <tr>\n      <th>...</th>\n      <td>...</td>\n      <td>...</td>\n    </tr>\n    <tr>\n      <th>999</th>\n      <td>NaN</td>\n      <td>0.0</td>\n    </tr>\n    <tr>\n      <th>1000</th>\n      <td>NaN</td>\n      <td>0.0</td>\n    </tr>\n    <tr>\n      <th>1001</th>\n      <td>NaN</td>\n      <td>0.0</td>\n    </tr>\n    <tr>\n      <th>1002</th>\n      <td>1.0</td>\n      <td>1.0</td>\n    </tr>\n    <tr>\n      <th>1003</th>\n      <td>1.0</td>\n      <td>-1.0</td>\n    </tr>\n  </tbody>\n</table>\n<p>1004 rows × 2 columns</p>\n</div>"
     },
     "execution_count": 138,
     "metadata": {},
     "output_type": "execute_result"
    }
   ],
   "source": [
    "all_comparison_df"
   ],
   "metadata": {
    "collapsed": false,
    "pycharm": {
     "name": "#%%\n"
    }
   }
  },
  {
   "cell_type": "code",
   "execution_count": 139,
   "outputs": [
    {
     "name": "stdout",
     "output_type": "stream",
     "text": [
      "Kappa dla całości: 0.07\n"
     ]
    },
    {
     "data": {
      "text/plain": "<Figure size 432x288 with 2 Axes>",
      "image/png": "[encoded data removed]"
     },
     "metadata": {},
     "output_type": "display_data"
    }
   ],
   "source": [
    "# Confusion matrix dla całości\n",
    "all_comparison_df_wo0 = all_comparison_df.drop(all_comparison_df[all_comparison_df['nawl'] == 0].index)\n",
    "confusion_matrix = pd.crosstab(all_comparison_df_wo0['anotacja'], all_comparison_df_wo0['nawl'],\n",
    "                               rownames=['Anotacja'], colnames=['NAWL'])\n",
    "confusion_df = confusion_matrix.unstack().reorder_levels(('Anotacja', 'NAWL'))\n",
    "print(f\"Kappa dla całości: {round(kappa(confusion_df), 3)}\")\n",
    "ax = sns.heatmap(confusion_matrix, annot=True, cmap=hm_palette, fmt='.3g')\n",
    "ax.invert_yaxis()\n",
    "ax.invert_xaxis()\n",
    "plt.show()"
   ],
   "metadata": {
    "collapsed": false,
    "pycharm": {
     "name": "#%%\n"
    }
   }
  },
  {
   "cell_type": "code",
   "execution_count": 148,
   "outputs": [
    {
     "data": {
      "application/vnd.plotly.v1+json": {
       "data": [
        {
         "insidetextorientation": "horizontal",
         "labels": [
          "Negatywne",
          "Pozytywne",
          "Nieokreślone"
         ],
         "marker": {
          "colors": [
           "#FF6B6B",
           "#6BCB77",
           "#4D96FF"
          ]
         },
         "textinfo": "label+percent+value",
         "textposition": "inside",
         "values": [
          53,
          68,
          130
         ],
         "type": "pie",
         "domain": {
          "x": [
           0.0,
           0.475
          ],
          "y": [
           0.625,
           1.0
          ]
         }
        },
        {
         "insidetextorientation": "horizontal",
         "labels": [
          "Negatywne",
          "Pozytywne"
         ],
         "marker": {
          "colors": [
           "#FF6B6B",
           "#6BCB77",
           "#4D96FF"
          ]
         },
         "textinfo": "label+percent+value",
         "textposition": "inside",
         "values": [
          31.0,
          220.0
         ],
         "type": "pie",
         "domain": {
          "x": [
           0.525,
           1.0
          ],
          "y": [
           0.625,
           1.0
          ]
         }
        },
        {
         "insidetextorientation": "horizontal",
         "labels": [
          "Negatywne",
          "Pozytywne",
          "Nieokreślone"
         ],
         "marker": {
          "colors": [
           "#FF6B6B",
           "#6BCB77",
           "#4D96FF"
          ]
         },
         "textinfo": "label+percent+value",
         "textposition": "inside",
         "values": [
          53.0,
          68.0,
          null
         ],
         "type": "pie",
         "domain": {
          "x": [
           0.0,
           0.475
          ],
          "y": [
           0.0,
           0.375
          ]
         }
        },
        {
         "insidetextorientation": "horizontal",
         "labels": [
          "Negatywne",
          "Pozytywne"
         ],
         "marker": {
          "colors": [
           "#FF6B6B",
           "#6BCB77",
           "#4D96FF"
          ]
         },
         "textinfo": "label+percent+value",
         "textposition": "inside",
         "values": [
          25.0,
          96.0
         ],
         "type": "pie",
         "domain": {
          "x": [
           0.525,
           1.0
          ],
          "y": [
           0.0,
           0.375
          ]
         }
        },
        {
         "insidetextorientation": "horizontal",
         "labels": [
          "Negatywne",
          "Pozytywne",
          "Nieokreślone"
         ],
         "marker": {
          "colors": [
           "#FF6B6B",
           "#6BCB77",
           "#4D96FF"
          ]
         },
         "textinfo": "label+percent+value",
         "textposition": "inside",
         "values": [
          52,
          166,
          33
         ],
         "type": "pie",
         "domain": {
          "x": [
           0.0,
           0.475
          ],
          "y": [
           0.625,
           1.0
          ]
         }
        },
        {
         "insidetextorientation": "horizontal",
         "labels": [
          "Negatywne",
          "Pozytywne"
         ],
         "marker": {
          "colors": [
           "#FF6B6B",
           "#6BCB77",
           "#4D96FF"
          ]
         },
         "textinfo": "label+percent+value",
         "textposition": "inside",
         "values": [
          115.0,
          136.0
         ],
         "type": "pie",
         "domain": {
          "x": [
           0.525,
           1.0
          ],
          "y": [
           0.625,
           1.0
          ]
         }
        },
        {
         "insidetextorientation": "horizontal",
         "labels": [
          "Negatywne",
          "Pozytywne",
          "Nieokreślone"
         ],
         "marker": {
          "colors": [
           "#FF6B6B",
           "#6BCB77",
           "#4D96FF"
          ]
         },
         "textinfo": "label+percent+value",
         "textposition": "inside",
         "values": [
          52.0,
          166.0,
          null
         ],
         "type": "pie",
         "domain": {
          "x": [
           0.0,
           0.475
          ],
          "y": [
           0.0,
           0.375
          ]
         }
        },
        {
         "insidetextorientation": "horizontal",
         "labels": [
          "Negatywne",
          "Pozytywne"
         ],
         "marker": {
          "colors": [
           "#FF6B6B",
           "#6BCB77",
           "#4D96FF"
          ]
         },
         "textinfo": "label+percent+value",
         "textposition": "inside",
         "values": [
          104.0,
          114.0
         ],
         "type": "pie",
         "domain": {
          "x": [
           0.525,
           1.0
          ],
          "y": [
           0.0,
           0.375
          ]
         }
        },
        {
         "insidetextorientation": "horizontal",
         "labels": [
          "Negatywne",
          "Pozytywne",
          "Nieokreślone"
         ],
         "marker": {
          "colors": [
           "#FF6B6B",
           "#6BCB77",
           "#4D96FF"
          ]
         },
         "textinfo": "label+percent+value",
         "textposition": "inside",
         "values": [
          54,
          153,
          38
         ],
         "type": "pie",
         "domain": {
          "x": [
           0.0,
           0.475
          ],
          "y": [
           0.625,
           1.0
          ]
         }
        },
        {
         "insidetextorientation": "horizontal",
         "labels": [
          "Negatywne",
          "Pozytywne"
         ],
         "marker": {
          "colors": [
           "#FF6B6B",
           "#6BCB77",
           "#4D96FF"
          ]
         },
         "textinfo": "label+percent+value",
         "textposition": "inside",
         "values": [
          106,
          137
         ],
         "type": "pie",
         "domain": {
          "x": [
           0.525,
           1.0
          ],
          "y": [
           0.625,
           1.0
          ]
         }
        },
        {
         "insidetextorientation": "horizontal",
         "labels": [
          "Negatywne",
          "Pozytywne",
          "Nieokreślone"
         ],
         "marker": {
          "colors": [
           "#FF6B6B",
           "#6BCB77",
           "#4D96FF"
          ]
         },
         "textinfo": "label+percent+value",
         "textposition": "inside",
         "values": [
          54.0,
          153.0,
          null
         ],
         "type": "pie",
         "domain": {
          "x": [
           0.0,
           0.475
          ],
          "y": [
           0.0,
           0.375
          ]
         }
        },
        {
         "insidetextorientation": "horizontal",
         "labels": [
          "Negatywne",
          "Pozytywne"
         ],
         "marker": {
          "colors": [
           "#FF6B6B",
           "#6BCB77",
           "#4D96FF"
          ]
         },
         "textinfo": "label+percent+value",
         "textposition": "inside",
         "values": [
          95,
          112
         ],
         "type": "pie",
         "domain": {
          "x": [
           0.525,
           1.0
          ],
          "y": [
           0.0,
           0.375
          ]
         }
        },
        {
         "insidetextorientation": "horizontal",
         "labels": [
          "Negatywne",
          "Pozytywne",
          "Nieokreślone"
         ],
         "marker": {
          "colors": [
           "#FF6B6B",
           "#6BCB77",
           "#4D96FF"
          ]
         },
         "textinfo": "label+percent+value",
         "textposition": "inside",
         "values": [
          28,
          74,
          48
         ],
         "type": "pie",
         "domain": {
          "x": [
           0.0,
           0.475
          ],
          "y": [
           0.625,
           1.0
          ]
         }
        },
        {
         "insidetextorientation": "horizontal",
         "labels": [
          "Negatywne",
          "Pozytywne"
         ],
         "marker": {
          "colors": [
           "#FF6B6B",
           "#6BCB77",
           "#4D96FF"
          ]
         },
         "textinfo": "label+percent+value",
         "textposition": "inside",
         "values": [
          45,
          81
         ],
         "type": "pie",
         "domain": {
          "x": [
           0.525,
           1.0
          ],
          "y": [
           0.625,
           1.0
          ]
         }
        },
        {
         "insidetextorientation": "horizontal",
         "labels": [
          "Negatywne",
          "Pozytywne",
          "Nieokreślone"
         ],
         "marker": {
          "colors": [
           "#FF6B6B",
           "#6BCB77",
           "#4D96FF"
          ]
         },
         "textinfo": "label+percent+value",
         "textposition": "inside",
         "values": [
          28.0,
          74.0,
          null
         ],
         "type": "pie",
         "domain": {
          "x": [
           0.0,
           0.475
          ],
          "y": [
           0.0,
           0.375
          ]
         }
        },
        {
         "insidetextorientation": "horizontal",
         "labels": [
          "Negatywne",
          "Pozytywne"
         ],
         "marker": {
          "colors": [
           "#FF6B6B",
           "#6BCB77",
           "#4D96FF"
          ]
         },
         "textinfo": "label+percent+value",
         "textposition": "inside",
         "values": [
          41,
          61
         ],
         "type": "pie",
         "domain": {
          "x": [
           0.525,
           1.0
          ],
          "y": [
           0.0,
           0.375
          ]
         }
        },
        {
         "insidetextorientation": "horizontal",
         "labels": [
          "Pozytywne",
          "Nieokreślone",
          "Negatywne"
         ],
         "marker": {
          "colors": [
           "#4D96FF",
           "#6BCB77",
           "#FF6B6B"
          ]
         },
         "textinfo": "label+percent+value",
         "textposition": "inside",
         "values": [
          461,
          249,
          187
         ],
         "type": "pie",
         "domain": {
          "x": [
           0.0,
           0.475
          ],
          "y": [
           0.625,
           1.0
          ]
         }
        },
        {
         "insidetextorientation": "horizontal",
         "labels": [
          "Pozytywne",
          "Negatywne",
          "Nieokreślone"
         ],
         "marker": {
          "colors": [
           "#6BCB77",
           "#FF6B6B"
          ]
         },
         "textinfo": "label+percent+value",
         "textposition": "inside",
         "values": [
          574,
          297,
          133
         ],
         "type": "pie",
         "domain": {
          "x": [
           0.525,
           1.0
          ],
          "y": [
           0.625,
           1.0
          ]
         }
        },
        {
         "insidetextorientation": "horizontal",
         "labels": [
          "Pozytywne",
          "Nieokreślone",
          "Negatywne"
         ],
         "marker": {
          "colors": [
           "#4D96FF",
           "#6BCB77",
           "#FF6B6B"
          ]
         },
         "textinfo": "label+percent+value",
         "textposition": "inside",
         "values": [
          461,
          249,
          187
         ],
         "type": "pie",
         "domain": {
          "x": [
           0.0,
           0.475
          ],
          "y": [
           0.0,
           0.375
          ]
         }
        },
        {
         "insidetextorientation": "horizontal",
         "labels": [
          "Pozytywne",
          "Negatywne",
          "Nieokreślone"
         ],
         "marker": {
          "colors": [
           "#6BCB77",
           "#FF6B6B"
          ]
         },
         "textinfo": "label+percent+value",
         "textposition": "inside",
         "values": [
          574,
          297,
          133
         ],
         "type": "pie",
         "domain": {
          "x": [
           0.525,
           1.0
          ],
          "y": [
           0.0,
           0.375
          ]
         }
        },
        {
         "insidetextorientation": "horizontal",
         "labels": [
          "Negatywne",
          "Pozytywne",
          "Nieokreślone"
         ],
         "marker": {
          "colors": [
           "#4D96FF",
           "#6BCB77",
           "#FF6B6B"
          ]
         },
         "textinfo": "label+percent+value",
         "textposition": "inside",
         "values": [
          187,
          461,
          249
         ],
         "type": "pie",
         "domain": {
          "x": [
           0.0,
           0.475
          ],
          "y": [
           0.625,
           1.0
          ]
         }
        },
        {
         "insidetextorientation": "horizontal",
         "labels": [
          "Pozytywne",
          "Negatywne",
          "Nieokreślone"
         ],
         "marker": {
          "colors": [
           "#6BCB77",
           "#FF6B6B"
          ]
         },
         "textinfo": "label+percent+value",
         "textposition": "inside",
         "values": [
          574,
          297,
          133
         ],
         "type": "pie",
         "domain": {
          "x": [
           0.525,
           1.0
          ],
          "y": [
           0.625,
           1.0
          ]
         }
        },
        {
         "insidetextorientation": "horizontal",
         "labels": [
          "Pozytywne",
          "Nieokreślone",
          "Negatywne"
         ],
         "marker": {
          "colors": [
           "#4D96FF",
           "#6BCB77",
           "#FF6B6B"
          ]
         },
         "textinfo": "label+percent+value",
         "textposition": "inside",
         "values": [
          461,
          249,
          187
         ],
         "type": "pie",
         "domain": {
          "x": [
           0.0,
           0.475
          ],
          "y": [
           0.0,
           0.375
          ]
         }
        },
        {
         "insidetextorientation": "horizontal",
         "labels": [
          "Pozytywne",
          "Negatywne",
          "Nieokreślone"
         ],
         "marker": {
          "colors": [
           "#6BCB77",
           "#FF6B6B"
          ]
         },
         "textinfo": "label+percent+value",
         "textposition": "inside",
         "values": [
          574,
          297,
          133
         ],
         "type": "pie",
         "domain": {
          "x": [
           0.525,
           1.0
          ],
          "y": [
           0.0,
           0.375
          ]
         }
        },
        {
         "insidetextorientation": "horizontal",
         "labels": [
          "Negatywne",
          "Pozytywne",
          "Nieokreślone"
         ],
         "marker": {
          "colors": [
           "#4D96FF",
           "#6BCB77",
           "#FF6B6B"
          ]
         },
         "textinfo": "label+percent+value",
         "textposition": "inside",
         "values": [
          187,
          461,
          249
         ],
         "type": "pie",
         "domain": {
          "x": [
           0.0,
           0.475
          ],
          "y": [
           0.625,
           1.0
          ]
         }
        },
        {
         "insidetextorientation": "horizontal",
         "labels": [
          "Negatywne",
          "Pozytywne"
         ],
         "marker": {
          "colors": [
           "#6BCB77",
           "#FF6B6B"
          ]
         },
         "textinfo": "label+percent+value",
         "textposition": "inside",
         "values": [
          297,
          574
         ],
         "type": "pie",
         "domain": {
          "x": [
           0.525,
           1.0
          ],
          "y": [
           0.625,
           1.0
          ]
         }
        },
        {
         "insidetextorientation": "horizontal",
         "labels": [
          "Pozytywne",
          "Nieokreślone",
          "Negatywne"
         ],
         "marker": {
          "colors": [
           "#4D96FF",
           "#6BCB77",
           "#FF6B6B"
          ]
         },
         "textinfo": "label+percent+value",
         "textposition": "inside",
         "values": [
          461,
          249,
          187
         ],
         "type": "pie",
         "domain": {
          "x": [
           0.0,
           0.475
          ],
          "y": [
           0.0,
           0.375
          ]
         }
        },
        {
         "insidetextorientation": "horizontal",
         "labels": [
          "Pozytywne",
          "Negatywne",
          "Nieokreślone"
         ],
         "marker": {
          "colors": [
           "#6BCB77",
           "#FF6B6B"
          ]
         },
         "textinfo": "label+percent+value",
         "textposition": "inside",
         "values": [
          574,
          297,
          133
         ],
         "type": "pie",
         "domain": {
          "x": [
           0.525,
           1.0
          ],
          "y": [
           0.0,
           0.375
          ]
         }
        },
        {
         "insidetextorientation": "horizontal",
         "labels": [
          "Negatywne",
          "Pozytywne",
          "Nieokreślone"
         ],
         "marker": {
          "colors": [
           "#FF6B6B",
           "#6BCB77",
           "#4D96FF"
          ]
         },
         "textinfo": "label+percent+value",
         "textposition": "inside",
         "values": [
          187,
          461,
          249
         ],
         "type": "pie",
         "domain": {
          "x": [
           0.0,
           0.475
          ],
          "y": [
           0.625,
           1.0
          ]
         }
        },
        {
         "insidetextorientation": "horizontal",
         "labels": [
          "Negatywne",
          "Pozytywne"
         ],
         "marker": {
          "colors": [
           "#FF6B6B",
           "#6BCB77",
           "#4D96FF"
          ]
         },
         "textinfo": "label+percent+value",
         "textposition": "inside",
         "values": [
          297,
          574
         ],
         "type": "pie",
         "domain": {
          "x": [
           0.525,
           1.0
          ],
          "y": [
           0.625,
           1.0
          ]
         }
        },
        {
         "insidetextorientation": "horizontal",
         "labels": [
          "Pozytywne",
          "Nieokreślone",
          "Negatywne"
         ],
         "marker": {
          "colors": [
           "#FF6B6B",
           "#6BCB77",
           "#4D96FF"
          ]
         },
         "textinfo": "label+percent+value",
         "textposition": "inside",
         "values": [
          461,
          249,
          187
         ],
         "type": "pie",
         "domain": {
          "x": [
           0.0,
           0.475
          ],
          "y": [
           0.0,
           0.375
          ]
         }
        },
        {
         "insidetextorientation": "horizontal",
         "labels": [
          "Pozytywne",
          "Negatywne",
          "Nieokreślone"
         ],
         "marker": {
          "colors": [
           "#FF6B6B",
           "#6BCB77",
           "#4D96FF"
          ]
         },
         "textinfo": "label+percent+value",
         "textposition": "inside",
         "values": [
          574,
          297,
          133
         ],
         "type": "pie",
         "domain": {
          "x": [
           0.525,
           1.0
          ],
          "y": [
           0.0,
           0.375
          ]
         }
        },
        {
         "insidetextorientation": "horizontal",
         "labels": [
          "Negatywne",
          "Pozytywne",
          "Nieokreślone"
         ],
         "marker": {
          "colors": [
           "#FF6B6B",
           "#6BCB77",
           "#4D96FF"
          ]
         },
         "textinfo": "label+percent+value",
         "textposition": "inside",
         "values": [
          187,
          461,
          249
         ],
         "type": "pie",
         "domain": {
          "x": [
           0.0,
           0.475
          ],
          "y": [
           0.625,
           1.0
          ]
         }
        },
        {
         "insidetextorientation": "horizontal",
         "labels": [
          "Negatywne",
          "Pozytywne"
         ],
         "marker": {
          "colors": [
           "#FF6B6B",
           "#6BCB77",
           "#4D96FF"
          ]
         },
         "textinfo": "label+percent+value",
         "textposition": "inside",
         "values": [
          297,
          574
         ],
         "type": "pie",
         "domain": {
          "x": [
           0.525,
           1.0
          ],
          "y": [
           0.625,
           1.0
          ]
         }
        },
        {
         "insidetextorientation": "horizontal",
         "labels": [
          "Negatywne",
          "Pozytywne",
          "Nieokreślone"
         ],
         "marker": {
          "colors": [
           "#FF6B6B",
           "#6BCB77",
           "#4D96FF"
          ]
         },
         "textinfo": "label+percent+value",
         "textposition": "inside",
         "values": [
          187,
          461,
          249
         ],
         "type": "pie",
         "domain": {
          "x": [
           0.0,
           0.475
          ],
          "y": [
           0.0,
           0.375
          ]
         }
        },
        {
         "insidetextorientation": "horizontal",
         "labels": [
          "Negatywne",
          "Pozytywne"
         ],
         "marker": {
          "colors": [
           "#FF6B6B",
           "#6BCB77",
           "#4D96FF"
          ]
         },
         "textinfo": "label+percent+value",
         "textposition": "inside",
         "values": [
          297,
          574
         ],
         "type": "pie",
         "domain": {
          "x": [
           0.525,
           1.0
          ],
          "y": [
           0.0,
           0.375
          ]
         }
        },
        {
         "insidetextorientation": "horizontal",
         "labels": [
          "Negatywne",
          "Pozytywne",
          "Nieokreślone"
         ],
         "marker": {
          "colors": [
           "#FF6B6B",
           "#6BCB77",
           "#4D96FF"
          ]
         },
         "textinfo": "label+percent+value",
         "textposition": "inside",
         "values": [
          187,
          461,
          249
         ],
         "type": "pie",
         "domain": {
          "x": [
           0.0,
           0.475
          ],
          "y": [
           0.625,
           1.0
          ]
         }
        },
        {
         "insidetextorientation": "horizontal",
         "labels": [
          "Negatywne",
          "Pozytywne"
         ],
         "marker": {
          "colors": [
           "#FF6B6B",
           "#6BCB77",
           "#4D96FF"
          ]
         },
         "textinfo": "label+percent+value",
         "textposition": "inside",
         "values": [
          297,
          574
         ],
         "type": "pie",
         "domain": {
          "x": [
           0.525,
           1.0
          ],
          "y": [
           0.625,
           1.0
          ]
         }
        },
        {
         "insidetextorientation": "horizontal",
         "labels": [
          "Negatywne",
          "Pozytywne",
          "Nieokreślone"
         ],
         "marker": {
          "colors": [
           "#FF6B6B",
           "#6BCB77",
           "#4D96FF"
          ]
         },
         "textinfo": "label+percent+value",
         "textposition": "inside",
         "values": [
          187.0,
          461.0,
          null
         ],
         "type": "pie",
         "domain": {
          "x": [
           0.0,
           0.475
          ],
          "y": [
           0.0,
           0.375
          ]
         }
        },
        {
         "insidetextorientation": "horizontal",
         "labels": [
          "Negatywne",
          "Pozytywne"
         ],
         "marker": {
          "colors": [
           "#FF6B6B",
           "#6BCB77",
           "#4D96FF"
          ]
         },
         "textinfo": "label+percent+value",
         "textposition": "inside",
         "values": [
          265,
          383
         ],
         "type": "pie",
         "domain": {
          "x": [
           0.525,
           1.0
          ],
          "y": [
           0.0,
           0.375
          ]
         }
        },
        {
         "insidetextorientation": "horizontal",
         "labels": [
          "Negatywne",
          "Pozytywne",
          "Nieokreślone"
         ],
         "marker": {
          "colors": [
           "#FF6B6B",
           "#6BCB77",
           "#4D96FF"
          ]
         },
         "textinfo": "label+percent+value",
         "textposition": "inside",
         "values": [
          187,
          461,
          249
         ],
         "type": "pie",
         "domain": {
          "x": [
           0.0,
           0.475
          ],
          "y": [
           0.625,
           1.0
          ]
         }
        },
        {
         "insidetextorientation": "horizontal",
         "labels": [
          "Negatywne",
          "Pozytywne",
          "Nieokreślone"
         ],
         "marker": {
          "colors": [
           "#FF6B6B",
           "#6BCB77",
           "#4D96FF"
          ]
         },
         "textinfo": "label+percent+value",
         "textposition": "inside",
         "values": [
          297,
          574,
          133
         ],
         "type": "pie",
         "domain": {
          "x": [
           0.525,
           1.0
          ],
          "y": [
           0.625,
           1.0
          ]
         }
        },
        {
         "insidetextorientation": "horizontal",
         "labels": [
          "Negatywne",
          "Pozytywne",
          "Nieokreślone"
         ],
         "marker": {
          "colors": [
           "#FF6B6B",
           "#6BCB77",
           "#4D96FF"
          ]
         },
         "textinfo": "label+percent+value",
         "textposition": "inside",
         "values": [
          187.0,
          461.0,
          null
         ],
         "type": "pie",
         "domain": {
          "x": [
           0.0,
           0.475
          ],
          "y": [
           0.0,
           0.375
          ]
         }
        },
        {
         "insidetextorientation": "horizontal",
         "labels": [
          "Negatywne",
          "Pozytywne"
         ],
         "marker": {
          "colors": [
           "#FF6B6B",
           "#6BCB77",
           "#4D96FF"
          ]
         },
         "textinfo": "label+percent+value",
         "textposition": "inside",
         "values": [
          265,
          383
         ],
         "type": "pie",
         "domain": {
          "x": [
           0.525,
           1.0
          ],
          "y": [
           0.0,
           0.375
          ]
         }
        },
        {
         "insidetextorientation": "horizontal",
         "labels": [
          "Negatywne",
          "Pozytywne",
          "Nieokreślone"
         ],
         "marker": {
          "colors": [
           "#FF6B6B",
           "#6BCB77",
           "#4D96FF"
          ]
         },
         "textinfo": "label+percent+value",
         "textposition": "inside",
         "values": [
          187,
          461,
          249
         ],
         "type": "pie",
         "domain": {
          "x": [
           0.0,
           0.475
          ],
          "y": [
           0.625,
           1.0
          ]
         }
        },
        {
         "insidetextorientation": "horizontal",
         "labels": [
          "Negatywne",
          "Pozytywne"
         ],
         "marker": {
          "colors": [
           "#FF6B6B",
           "#6BCB77",
           "#4D96FF"
          ]
         },
         "textinfo": "label+percent+value",
         "textposition": "inside",
         "values": [
          297,
          574
         ],
         "type": "pie",
         "domain": {
          "x": [
           0.525,
           1.0
          ],
          "y": [
           0.625,
           1.0
          ]
         }
        },
        {
         "insidetextorientation": "horizontal",
         "labels": [
          "Negatywne",
          "Pozytywne",
          "Nieokreślone"
         ],
         "marker": {
          "colors": [
           "#FF6B6B",
           "#6BCB77",
           "#4D96FF"
          ]
         },
         "textinfo": "label+percent+value",
         "textposition": "inside",
         "values": [
          187.0,
          461.0,
          null
         ],
         "type": "pie",
         "domain": {
          "x": [
           0.0,
           0.475
          ],
          "y": [
           0.0,
           0.375
          ]
         }
        },
        {
         "insidetextorientation": "horizontal",
         "labels": [
          "Negatywne",
          "Pozytywne"
         ],
         "marker": {
          "colors": [
           "#FF6B6B",
           "#6BCB77",
           "#4D96FF"
          ]
         },
         "textinfo": "label+percent+value",
         "textposition": "inside",
         "values": [
          265,
          383
         ],
         "type": "pie",
         "domain": {
          "x": [
           0.525,
           1.0
          ],
          "y": [
           0.0,
           0.375
          ]
         }
        },
        {
         "insidetextorientation": "horizontal",
         "labels": [
          "Negatywne",
          "Pozytywne",
          "Nieokreślone"
         ],
         "marker": {
          "colors": [
           "#FF6B6B",
           "#6BCB77",
           "#4D96FF"
          ]
         },
         "textinfo": "label+percent+value",
         "textposition": "inside",
         "values": [
          187,
          461,
          249
         ],
         "type": "pie",
         "domain": {
          "x": [
           0.0,
           0.475
          ],
          "y": [
           0.625,
           1.0
          ]
         }
        },
        {
         "insidetextorientation": "horizontal",
         "labels": [
          "Negatywne",
          "Pozytywne"
         ],
         "marker": {
          "colors": [
           "#FF6B6B",
           "#6BCB77",
           "#4D96FF"
          ]
         },
         "textinfo": "label+percent+value",
         "textposition": "inside",
         "values": [
          297,
          574
         ],
         "type": "pie",
         "domain": {
          "x": [
           0.525,
           1.0
          ],
          "y": [
           0.625,
           1.0
          ]
         }
        },
        {
         "insidetextorientation": "horizontal",
         "labels": [
          "Negatywne",
          "Pozytywne",
          "Nieokreślone"
         ],
         "marker": {
          "colors": [
           "#FF6B6B",
           "#6BCB77",
           "#4D96FF"
          ]
         },
         "textinfo": "label+percent+value",
         "textposition": "inside",
         "values": [
          187.0,
          461.0,
          null
         ],
         "type": "pie",
         "domain": {
          "x": [
           0.0,
           0.475
          ],
          "y": [
           0.0,
           0.375
          ]
         }
        },
        {
         "insidetextorientation": "horizontal",
         "labels": [
          "Negatywne",
          "Pozytywne"
         ],
         "marker": {
          "colors": [
           "#FF6B6B",
           "#6BCB77",
           "#4D96FF"
          ]
         },
         "textinfo": "label+percent+value",
         "textposition": "inside",
         "values": [
          265,
          383
         ],
         "type": "pie",
         "domain": {
          "x": [
           0.525,
           1.0
          ],
          "y": [
           0.0,
           0.375
          ]
         }
        }
       ],
       "layout": {
        "template": {
         "data": {
          "histogram2dcontour": [
           {
            "type": "histogram2dcontour",
            "colorbar": {
             "outlinewidth": 0,
             "ticks": ""
            },
            "colorscale": [
             [
              0.0,
              "#0d0887"
             ],
             [
              0.1111111111111111,
              "#46039f"
             ],
             [
              0.2222222222222222,
              "#7201a8"
             ],
             [
              0.3333333333333333,
              "#9c179e"
             ],
             [
              0.4444444444444444,
              "#bd3786"
             ],
             [
              0.5555555555555556,
              "#d8576b"
             ],
             [
              0.6666666666666666,
              "#ed7953"
             ],
             [
              0.7777777777777778,
              "#fb9f3a"
             ],
             [
              0.8888888888888888,
              "#fdca26"
             ],
             [
              1.0,
              "#f0f921"
             ]
            ]
           }
          ],
          "choropleth": [
           {
            "type": "choropleth",
            "colorbar": {
             "outlinewidth": 0,
             "ticks": ""
            }
           }
          ],
          "histogram2d": [
           {
            "type": "histogram2d",
            "colorbar": {
             "outlinewidth": 0,
             "ticks": ""
            },
            "colorscale": [
             [
              0.0,
              "#0d0887"
             ],
             [
              0.1111111111111111,
              "#46039f"
             ],
             [
              0.2222222222222222,
              "#7201a8"
             ],
             [
              0.3333333333333333,
              "#9c179e"
             ],
             [
              0.4444444444444444,
              "#bd3786"
             ],
             [
              0.5555555555555556,
              "#d8576b"
             ],
             [
              0.6666666666666666,
              "#ed7953"
             ],
             [
              0.7777777777777778,
              "#fb9f3a"
             ],
             [
              0.8888888888888888,
              "#fdca26"
             ],
             [
              1.0,
              "#f0f921"
             ]
            ]
           }
          ],
          "heatmap": [
           {
            "type": "heatmap",
            "colorbar": {
             "outlinewidth": 0,
             "ticks": ""
            },
            "colorscale": [
             [
              0.0,
              "#0d0887"
             ],
             [
              0.1111111111111111,
              "#46039f"
             ],
             [
              0.2222222222222222,
              "#7201a8"
             ],
             [
              0.3333333333333333,
              "#9c179e"
             ],
             [
              0.4444444444444444,
              "#bd3786"
             ],
             [
              0.5555555555555556,
              "#d8576b"
             ],
             [
              0.6666666666666666,
              "#ed7953"
             ],
             [
              0.7777777777777778,
              "#fb9f3a"
             ],
             [
              0.8888888888888888,
              "#fdca26"
             ],
             [
              1.0,
              "#f0f921"
             ]
            ]
           }
          ],
          "heatmapgl": [
           {
            "type": "heatmapgl",
            "colorbar": {
             "outlinewidth": 0,
             "ticks": ""
            },
            "colorscale": [
             [
              0.0,
              "#0d0887"
             ],
             [
              0.1111111111111111,
              "#46039f"
             ],
             [
              0.2222222222222222,
              "#7201a8"
             ],
             [
              0.3333333333333333,
              "#9c179e"
             ],
             [
              0.4444444444444444,
              "#bd3786"
             ],
             [
              0.5555555555555556,
              "#d8576b"
             ],
             [
              0.6666666666666666,
              "#ed7953"
             ],
             [
              0.7777777777777778,
              "#fb9f3a"
             ],
             [
              0.8888888888888888,
              "#fdca26"
             ],
             [
              1.0,
              "#f0f921"
             ]
            ]
           }
          ],
          "contourcarpet": [
           {
            "type": "contourcarpet",
            "colorbar": {
             "outlinewidth": 0,
             "ticks": ""
            }
           }
          ],
          "contour": [
           {
            "type": "contour",
            "colorbar": {
             "outlinewidth": 0,
             "ticks": ""
            },
            "colorscale": [
             [
              0.0,
              "#0d0887"
             ],
             [
              0.1111111111111111,
              "#46039f"
             ],
             [
              0.2222222222222222,
              "#7201a8"
             ],
             [
              0.3333333333333333,
              "#9c179e"
             ],
             [
              0.4444444444444444,
              "#bd3786"
             ],
             [
              0.5555555555555556,
              "#d8576b"
             ],
             [
              0.6666666666666666,
              "#ed7953"
             ],
             [
              0.7777777777777778,
              "#fb9f3a"
             ],
             [
              0.8888888888888888,
              "#fdca26"
             ],
             [
              1.0,
              "#f0f921"
             ]
            ]
           }
          ],
          "surface": [
           {
            "type": "surface",
            "colorbar": {
             "outlinewidth": 0,
             "ticks": ""
            },
            "colorscale": [
             [
              0.0,
              "#0d0887"
             ],
             [
              0.1111111111111111,
              "#46039f"
             ],
             [
              0.2222222222222222,
              "#7201a8"
             ],
             [
              0.3333333333333333,
              "#9c179e"
             ],
             [
              0.4444444444444444,
              "#bd3786"
             ],
             [
              0.5555555555555556,
              "#d8576b"
             ],
             [
              0.6666666666666666,
              "#ed7953"
             ],
             [
              0.7777777777777778,
              "#fb9f3a"
             ],
             [
              0.8888888888888888,
              "#fdca26"
             ],
             [
              1.0,
              "#f0f921"
             ]
            ]
           }
          ],
          "mesh3d": [
           {
            "type": "mesh3d",
            "colorbar": {
             "outlinewidth": 0,
             "ticks": ""
            }
           }
          ],
          "scatter": [
           {
            "marker": {
             "line": {
              "color": "#283442"
             }
            },
            "type": "scatter"
           }
          ],
          "parcoords": [
           {
            "type": "parcoords",
            "line": {
             "colorbar": {
              "outlinewidth": 0,
              "ticks": ""
             }
            }
           }
          ],
          "scatterpolargl": [
           {
            "type": "scatterpolargl",
            "marker": {
             "colorbar": {
              "outlinewidth": 0,
              "ticks": ""
             }
            }
           }
          ],
          "bar": [
           {
            "error_x": {
             "color": "#f2f5fa"
            },
            "error_y": {
             "color": "#f2f5fa"
            },
            "marker": {
             "line": {
              "color": "rgb(17,17,17)",
              "width": 0.5
             },
             "pattern": {
              "fillmode": "overlay",
              "size": 10,
              "solidity": 0.2
             }
            },
            "type": "bar"
           }
          ],
          "scattergeo": [
           {
            "type": "scattergeo",
            "marker": {
             "colorbar": {
              "outlinewidth": 0,
              "ticks": ""
             }
            }
           }
          ],
          "scatterpolar": [
           {
            "type": "scatterpolar",
            "marker": {
             "colorbar": {
              "outlinewidth": 0,
              "ticks": ""
             }
            }
           }
          ],
          "histogram": [
           {
            "marker": {
             "pattern": {
              "fillmode": "overlay",
              "size": 10,
              "solidity": 0.2
             }
            },
            "type": "histogram"
           }
          ],
          "scattergl": [
           {
            "marker": {
             "line": {
              "color": "#283442"
             }
            },
            "type": "scattergl"
           }
          ],
          "scatter3d": [
           {
            "type": "scatter3d",
            "line": {
             "colorbar": {
              "outlinewidth": 0,
              "ticks": ""
             }
            },
            "marker": {
             "colorbar": {
              "outlinewidth": 0,
              "ticks": ""
             }
            }
           }
          ],
          "scattermapbox": [
           {
            "type": "scattermapbox",
            "marker": {
             "colorbar": {
              "outlinewidth": 0,
              "ticks": ""
             }
            }
           }
          ],
          "scatterternary": [
           {
            "type": "scatterternary",
            "marker": {
             "colorbar": {
              "outlinewidth": 0,
              "ticks": ""
             }
            }
           }
          ],
          "scattercarpet": [
           {
            "type": "scattercarpet",
            "marker": {
             "colorbar": {
              "outlinewidth": 0,
              "ticks": ""
             }
            }
           }
          ],
          "carpet": [
           {
            "aaxis": {
             "endlinecolor": "#A2B1C6",
             "gridcolor": "#506784",
             "linecolor": "#506784",
             "minorgridcolor": "#506784",
             "startlinecolor": "#A2B1C6"
            },
            "baxis": {
             "endlinecolor": "#A2B1C6",
             "gridcolor": "#506784",
             "linecolor": "#506784",
             "minorgridcolor": "#506784",
             "startlinecolor": "#A2B1C6"
            },
            "type": "carpet"
           }
          ],
          "table": [
           {
            "cells": {
             "fill": {
              "color": "#506784"
             },
             "line": {
              "color": "rgb(17,17,17)"
             }
            },
            "header": {
             "fill": {
              "color": "#2a3f5f"
             },
             "line": {
              "color": "rgb(17,17,17)"
             }
            },
            "type": "table"
           }
          ],
          "barpolar": [
           {
            "marker": {
             "line": {
              "color": "rgb(17,17,17)",
              "width": 0.5
             },
             "pattern": {
              "fillmode": "overlay",
              "size": 10,
              "solidity": 0.2
             }
            },
            "type": "barpolar"
           }
          ],
          "pie": [
           {
            "automargin": true,
            "type": "pie"
           }
          ]
         },
         "layout": {
          "autotypenumbers": "strict",
          "colorway": [
           "#636efa",
           "#EF553B",
           "#00cc96",
           "#ab63fa",
           "#FFA15A",
           "#19d3f3",
           "#FF6692",
           "#B6E880",
           "#FF97FF",
           "#FECB52"
          ],
          "font": {
           "color": "#f2f5fa"
          },
          "hovermode": "closest",
          "hoverlabel": {
           "align": "left"
          },
          "paper_bgcolor": "rgb(17,17,17)",
          "plot_bgcolor": "rgb(17,17,17)",
          "polar": {
           "bgcolor": "rgb(17,17,17)",
           "angularaxis": {
            "gridcolor": "#506784",
            "linecolor": "#506784",
            "ticks": ""
           },
           "radialaxis": {
            "gridcolor": "#506784",
            "linecolor": "#506784",
            "ticks": ""
           }
          },
          "ternary": {
           "bgcolor": "rgb(17,17,17)",
           "aaxis": {
            "gridcolor": "#506784",
            "linecolor": "#506784",
            "ticks": ""
           },
           "baxis": {
            "gridcolor": "#506784",
            "linecolor": "#506784",
            "ticks": ""
           },
           "caxis": {
            "gridcolor": "#506784",
            "linecolor": "#506784",
            "ticks": ""
           }
          },
          "coloraxis": {
           "colorbar": {
            "outlinewidth": 0,
            "ticks": ""
           }
          },
          "colorscale": {
           "sequential": [
            [
             0.0,
             "#0d0887"
            ],
            [
             0.1111111111111111,
             "#46039f"
            ],
            [
             0.2222222222222222,
             "#7201a8"
            ],
            [
             0.3333333333333333,
             "#9c179e"
            ],
            [
             0.4444444444444444,
             "#bd3786"
            ],
            [
             0.5555555555555556,
             "#d8576b"
            ],
            [
             0.6666666666666666,
             "#ed7953"
            ],
            [
             0.7777777777777778,
             "#fb9f3a"
            ],
            [
             0.8888888888888888,
             "#fdca26"
            ],
            [
             1.0,
             "#f0f921"
            ]
           ],
           "sequentialminus": [
            [
             0.0,
             "#0d0887"
            ],
            [
             0.1111111111111111,
             "#46039f"
            ],
            [
             0.2222222222222222,
             "#7201a8"
            ],
            [
             0.3333333333333333,
             "#9c179e"
            ],
            [
             0.4444444444444444,
             "#bd3786"
            ],
            [
             0.5555555555555556,
             "#d8576b"
            ],
            [
             0.6666666666666666,
             "#ed7953"
            ],
            [
             0.7777777777777778,
             "#fb9f3a"
            ],
            [
             0.8888888888888888,
             "#fdca26"
            ],
            [
             1.0,
             "#f0f921"
            ]
           ],
           "diverging": [
            [
             0,
             "#8e0152"
            ],
            [
             0.1,
             "#c51b7d"
            ],
            [
             0.2,
             "#de77ae"
            ],
            [
             0.3,
             "#f1b6da"
            ],
            [
             0.4,
             "#fde0ef"
            ],
            [
             0.5,
             "#f7f7f7"
            ],
            [
             0.6,
             "#e6f5d0"
            ],
            [
             0.7,
             "#b8e186"
            ],
            [
             0.8,
             "#7fbc41"
            ],
            [
             0.9,
             "#4d9221"
            ],
            [
             1,
             "#276419"
            ]
           ]
          },
          "xaxis": {
           "gridcolor": "#283442",
           "linecolor": "#506784",
           "ticks": "",
           "title": {
            "standoff": 15
           },
           "zerolinecolor": "#283442",
           "automargin": true,
           "zerolinewidth": 2
          },
          "yaxis": {
           "gridcolor": "#283442",
           "linecolor": "#506784",
           "ticks": "",
           "title": {
            "standoff": 15
           },
           "zerolinecolor": "#283442",
           "automargin": true,
           "zerolinewidth": 2
          },
          "scene": {
           "xaxis": {
            "backgroundcolor": "rgb(17,17,17)",
            "gridcolor": "#506784",
            "linecolor": "#506784",
            "showbackground": true,
            "ticks": "",
            "zerolinecolor": "#C8D4E3",
            "gridwidth": 2
           },
           "yaxis": {
            "backgroundcolor": "rgb(17,17,17)",
            "gridcolor": "#506784",
            "linecolor": "#506784",
            "showbackground": true,
            "ticks": "",
            "zerolinecolor": "#C8D4E3",
            "gridwidth": 2
           },
           "zaxis": {
            "backgroundcolor": "rgb(17,17,17)",
            "gridcolor": "#506784",
            "linecolor": "#506784",
            "showbackground": true,
            "ticks": "",
            "zerolinecolor": "#C8D4E3",
            "gridwidth": 2
           }
          },
          "shapedefaults": {
           "line": {
            "color": "#f2f5fa"
           }
          },
          "annotationdefaults": {
           "arrowcolor": "#f2f5fa",
           "arrowhead": 0,
           "arrowwidth": 1
          },
          "geo": {
           "bgcolor": "rgb(17,17,17)",
           "landcolor": "rgb(17,17,17)",
           "subunitcolor": "#506784",
           "showland": true,
           "showlakes": true,
           "lakecolor": "rgb(17,17,17)"
          },
          "title": {
           "x": 0.05
          },
          "updatemenudefaults": {
           "bgcolor": "#506784",
           "borderwidth": 0
          },
          "sliderdefaults": {
           "bgcolor": "#C8D4E3",
           "borderwidth": 1,
           "bordercolor": "rgb(17,17,17)",
           "tickwidth": 0
          },
          "mapbox": {
           "style": "dark"
          }
         }
        },
        "annotations": [
         {
          "font": {
           "size": 16
          },
          "showarrow": false,
          "text": "NAWL",
          "x": 0.2375,
          "xanchor": "center",
          "xref": "paper",
          "y": 1.0,
          "yanchor": "bottom",
          "yref": "paper"
         },
         {
          "font": {
           "size": 16
          },
          "showarrow": false,
          "text": "Anotacja",
          "x": 0.7625,
          "xanchor": "center",
          "xref": "paper",
          "y": 1.0,
          "yanchor": "bottom",
          "yref": "paper"
         },
         {
          "font": {
           "size": 16
          },
          "showarrow": false,
          "text": "NAWL z pominięciem wartości nieokreślonych",
          "x": 0.2375,
          "xanchor": "center",
          "xref": "paper",
          "y": 0.375,
          "yanchor": "bottom",
          "yref": "paper"
         },
         {
          "font": {
           "size": 16
          },
          "showarrow": false,
          "text": "Anotacja z pominięciem wartości które<br>zostały nieokreślone w bazie NAWL",
          "x": 0.7625,
          "xanchor": "center",
          "xref": "paper",
          "y": 0.375,
          "yanchor": "bottom",
          "yref": "paper"
         }
        ],
        "title": {
         "text": "Pie chart dla wszystkich AUN"
        }
       },
       "config": {
        "plotlyServerURL": "https://plot.ly"
       }
      },
      "text/html": "<div>                            <div id=\"215b7f9d-a00f-4f1b-aadf-dccf01558d8f\" class=\"plotly-graph-div\" style=\"height:525px; width:100%;\"></div>            <script type=\"text/javascript\">                require([\"plotly\"], function(Plotly) {                    window.PLOTLYENV=window.PLOTLYENV || {};                                    if (document.getElementById(\"215b7f9d-a00f-4f1b-aadf-dccf01558d8f\")) {                    Plotly.newPlot(                        \"215b7f9d-a00f-4f1b-aadf-dccf01558d8f\",                        [{\"insidetextorientation\":\"horizontal\",\"labels\":[\"Negatywne\",\"Pozytywne\",\"Nieokre\\u015blone\"],\"marker\":{\"colors\":[\"#FF6B6B\",\"#6BCB77\",\"#4D96FF\"]},\"textinfo\":\"label+percent+value\",\"textposition\":\"inside\",\"values\":[53,68,130],\"type\":\"pie\",\"domain\":{\"x\":[0.0,0.475],\"y\":[0.625,1.0]}},{\"insidetextorientation\":\"horizontal\",\"labels\":[\"Negatywne\",\"Pozytywne\"],\"marker\":{\"colors\":[\"#FF6B6B\",\"#6BCB77\",\"#4D96FF\"]},\"textinfo\":\"label+percent+value\",\"textposition\":\"inside\",\"values\":[31.0,220.0],\"type\":\"pie\",\"domain\":{\"x\":[0.525,1.0],\"y\":[0.625,1.0]}},{\"insidetextorientation\":\"horizontal\",\"labels\":[\"Negatywne\",\"Pozytywne\",\"Nieokre\\u015blone\"],\"marker\":{\"colors\":[\"#FF6B6B\",\"#6BCB77\",\"#4D96FF\"]},\"textinfo\":\"label+percent+value\",\"textposition\":\"inside\",\"values\":[53.0,68.0,null],\"type\":\"pie\",\"domain\":{\"x\":[0.0,0.475],\"y\":[0.0,0.375]}},{\"insidetextorientation\":\"horizontal\",\"labels\":[\"Negatywne\",\"Pozytywne\"],\"marker\":{\"colors\":[\"#FF6B6B\",\"#6BCB77\",\"#4D96FF\"]},\"textinfo\":\"label+percent+value\",\"textposition\":\"inside\",\"values\":[25.0,96.0],\"type\":\"pie\",\"domain\":{\"x\":[0.525,1.0],\"y\":[0.0,0.375]}},{\"insidetextorientation\":\"horizontal\",\"labels\":[\"Negatywne\",\"Pozytywne\",\"Nieokre\\u015blone\"],\"marker\":{\"colors\":[\"#FF6B6B\",\"#6BCB77\",\"#4D96FF\"]},\"textinfo\":\"label+percent+value\",\"textposition\":\"inside\",\"values\":[52,166,33],\"type\":\"pie\",\"domain\":{\"x\":[0.0,0.475],\"y\":[0.625,1.0]}},{\"insidetextorientation\":\"horizontal\",\"labels\":[\"Negatywne\",\"Pozytywne\"],\"marker\":{\"colors\":[\"#FF6B6B\",\"#6BCB77\",\"#4D96FF\"]},\"textinfo\":\"label+percent+value\",\"textposition\":\"inside\",\"values\":[115.0,136.0],\"type\":\"pie\",\"domain\":{\"x\":[0.525,1.0],\"y\":[0.625,1.0]}},{\"insidetextorientation\":\"horizontal\",\"labels\":[\"Negatywne\",\"Pozytywne\",\"Nieokre\\u015blone\"],\"marker\":{\"colors\":[\"#FF6B6B\",\"#6BCB77\",\"#4D96FF\"]},\"textinfo\":\"label+percent+value\",\"textposition\":\"inside\",\"values\":[52.0,166.0,null],\"type\":\"pie\",\"domain\":{\"x\":[0.0,0.475],\"y\":[0.0,0.375]}},{\"insidetextorientation\":\"horizontal\",\"labels\":[\"Negatywne\",\"Pozytywne\"],\"marker\":{\"colors\":[\"#FF6B6B\",\"#6BCB77\",\"#4D96FF\"]},\"textinfo\":\"label+percent+value\",\"textposition\":\"inside\",\"values\":[104.0,114.0],\"type\":\"pie\",\"domain\":{\"x\":[0.525,1.0],\"y\":[0.0,0.375]}},{\"insidetextorientation\":\"horizontal\",\"labels\":[\"Negatywne\",\"Pozytywne\",\"Nieokre\\u015blone\"],\"marker\":{\"colors\":[\"#FF6B6B\",\"#6BCB77\",\"#4D96FF\"]},\"textinfo\":\"label+percent+value\",\"textposition\":\"inside\",\"values\":[54,153,38],\"type\":\"pie\",\"domain\":{\"x\":[0.0,0.475],\"y\":[0.625,1.0]}},{\"insidetextorientation\":\"horizontal\",\"labels\":[\"Negatywne\",\"Pozytywne\"],\"marker\":{\"colors\":[\"#FF6B6B\",\"#6BCB77\",\"#4D96FF\"]},\"textinfo\":\"label+percent+value\",\"textposition\":\"inside\",\"values\":[106,137],\"type\":\"pie\",\"domain\":{\"x\":[0.525,1.0],\"y\":[0.625,1.0]}},{\"insidetextorientation\":\"horizontal\",\"labels\":[\"Negatywne\",\"Pozytywne\",\"Nieokre\\u015blone\"],\"marker\":{\"colors\":[\"#FF6B6B\",\"#6BCB77\",\"#4D96FF\"]},\"textinfo\":\"label+percent+value\",\"textposition\":\"inside\",\"values\":[54.0,153.0,null],\"type\":\"pie\",\"domain\":{\"x\":[0.0,0.475],\"y\":[0.0,0.375]}},{\"insidetextorientation\":\"horizontal\",\"labels\":[\"Negatywne\",\"Pozytywne\"],\"marker\":{\"colors\":[\"#FF6B6B\",\"#6BCB77\",\"#4D96FF\"]},\"textinfo\":\"label+percent+value\",\"textposition\":\"inside\",\"values\":[95,112],\"type\":\"pie\",\"domain\":{\"x\":[0.525,1.0],\"y\":[0.0,0.375]}},{\"insidetextorientation\":\"horizontal\",\"labels\":[\"Negatywne\",\"Pozytywne\",\"Nieokre\\u015blone\"],\"marker\":{\"colors\":[\"#FF6B6B\",\"#6BCB77\",\"#4D96FF\"]},\"textinfo\":\"label+percent+value\",\"textposition\":\"inside\",\"values\":[28,74,48],\"type\":\"pie\",\"domain\":{\"x\":[0.0,0.475],\"y\":[0.625,1.0]}},{\"insidetextorientation\":\"horizontal\",\"labels\":[\"Negatywne\",\"Pozytywne\"],\"marker\":{\"colors\":[\"#FF6B6B\",\"#6BCB77\",\"#4D96FF\"]},\"textinfo\":\"label+percent+value\",\"textposition\":\"inside\",\"values\":[45,81],\"type\":\"pie\",\"domain\":{\"x\":[0.525,1.0],\"y\":[0.625,1.0]}},{\"insidetextorientation\":\"horizontal\",\"labels\":[\"Negatywne\",\"Pozytywne\",\"Nieokre\\u015blone\"],\"marker\":{\"colors\":[\"#FF6B6B\",\"#6BCB77\",\"#4D96FF\"]},\"textinfo\":\"label+percent+value\",\"textposition\":\"inside\",\"values\":[28.0,74.0,null],\"type\":\"pie\",\"domain\":{\"x\":[0.0,0.475],\"y\":[0.0,0.375]}},{\"insidetextorientation\":\"horizontal\",\"labels\":[\"Negatywne\",\"Pozytywne\"],\"marker\":{\"colors\":[\"#FF6B6B\",\"#6BCB77\",\"#4D96FF\"]},\"textinfo\":\"label+percent+value\",\"textposition\":\"inside\",\"values\":[41,61],\"type\":\"pie\",\"domain\":{\"x\":[0.525,1.0],\"y\":[0.0,0.375]}},{\"insidetextorientation\":\"horizontal\",\"labels\":[\"Pozytywne\",\"Nieokre\\u015blone\",\"Negatywne\"],\"marker\":{\"colors\":[\"#4D96FF\",\"#6BCB77\",\"#FF6B6B\"]},\"textinfo\":\"label+percent+value\",\"textposition\":\"inside\",\"values\":[461,249,187],\"type\":\"pie\",\"domain\":{\"x\":[0.0,0.475],\"y\":[0.625,1.0]}},{\"insidetextorientation\":\"horizontal\",\"labels\":[\"Pozytywne\",\"Negatywne\",\"Nieokre\\u015blone\"],\"marker\":{\"colors\":[\"#6BCB77\",\"#FF6B6B\"]},\"textinfo\":\"label+percent+value\",\"textposition\":\"inside\",\"values\":[574,297,133],\"type\":\"pie\",\"domain\":{\"x\":[0.525,1.0],\"y\":[0.625,1.0]}},{\"insidetextorientation\":\"horizontal\",\"labels\":[\"Pozytywne\",\"Nieokre\\u015blone\",\"Negatywne\"],\"marker\":{\"colors\":[\"#4D96FF\",\"#6BCB77\",\"#FF6B6B\"]},\"textinfo\":\"label+percent+value\",\"textposition\":\"inside\",\"values\":[461,249,187],\"type\":\"pie\",\"domain\":{\"x\":[0.0,0.475],\"y\":[0.0,0.375]}},{\"insidetextorientation\":\"horizontal\",\"labels\":[\"Pozytywne\",\"Negatywne\",\"Nieokre\\u015blone\"],\"marker\":{\"colors\":[\"#6BCB77\",\"#FF6B6B\"]},\"textinfo\":\"label+percent+value\",\"textposition\":\"inside\",\"values\":[574,297,133],\"type\":\"pie\",\"domain\":{\"x\":[0.525,1.0],\"y\":[0.0,0.375]}},{\"insidetextorientation\":\"horizontal\",\"labels\":[\"Negatywne\",\"Pozytywne\",\"Nieokre\\u015blone\"],\"marker\":{\"colors\":[\"#4D96FF\",\"#6BCB77\",\"#FF6B6B\"]},\"textinfo\":\"label+percent+value\",\"textposition\":\"inside\",\"values\":[187,461,249],\"type\":\"pie\",\"domain\":{\"x\":[0.0,0.475],\"y\":[0.625,1.0]}},{\"insidetextorientation\":\"horizontal\",\"labels\":[\"Pozytywne\",\"Negatywne\",\"Nieokre\\u015blone\"],\"marker\":{\"colors\":[\"#6BCB77\",\"#FF6B6B\"]},\"textinfo\":\"label+percent+value\",\"textposition\":\"inside\",\"values\":[574,297,133],\"type\":\"pie\",\"domain\":{\"x\":[0.525,1.0],\"y\":[0.625,1.0]}},{\"insidetextorientation\":\"horizontal\",\"labels\":[\"Pozytywne\",\"Nieokre\\u015blone\",\"Negatywne\"],\"marker\":{\"colors\":[\"#4D96FF\",\"#6BCB77\",\"#FF6B6B\"]},\"textinfo\":\"label+percent+value\",\"textposition\":\"inside\",\"values\":[461,249,187],\"type\":\"pie\",\"domain\":{\"x\":[0.0,0.475],\"y\":[0.0,0.375]}},{\"insidetextorientation\":\"horizontal\",\"labels\":[\"Pozytywne\",\"Negatywne\",\"Nieokre\\u015blone\"],\"marker\":{\"colors\":[\"#6BCB77\",\"#FF6B6B\"]},\"textinfo\":\"label+percent+value\",\"textposition\":\"inside\",\"values\":[574,297,133],\"type\":\"pie\",\"domain\":{\"x\":[0.525,1.0],\"y\":[0.0,0.375]}},{\"insidetextorientation\":\"horizontal\",\"labels\":[\"Negatywne\",\"Pozytywne\",\"Nieokre\\u015blone\"],\"marker\":{\"colors\":[\"#4D96FF\",\"#6BCB77\",\"#FF6B6B\"]},\"textinfo\":\"label+percent+value\",\"textposition\":\"inside\",\"values\":[187,461,249],\"type\":\"pie\",\"domain\":{\"x\":[0.0,0.475],\"y\":[0.625,1.0]}},{\"insidetextorientation\":\"horizontal\",\"labels\":[\"Negatywne\",\"Pozytywne\"],\"marker\":{\"colors\":[\"#6BCB77\",\"#FF6B6B\"]},\"textinfo\":\"label+percent+value\",\"textposition\":\"inside\",\"values\":[297,574],\"type\":\"pie\",\"domain\":{\"x\":[0.525,1.0],\"y\":[0.625,1.0]}},{\"insidetextorientation\":\"horizontal\",\"labels\":[\"Pozytywne\",\"Nieokre\\u015blone\",\"Negatywne\"],\"marker\":{\"colors\":[\"#4D96FF\",\"#6BCB77\",\"#FF6B6B\"]},\"textinfo\":\"label+percent+value\",\"textposition\":\"inside\",\"values\":[461,249,187],\"type\":\"pie\",\"domain\":{\"x\":[0.0,0.475],\"y\":[0.0,0.375]}},{\"insidetextorientation\":\"horizontal\",\"labels\":[\"Pozytywne\",\"Negatywne\",\"Nieokre\\u015blone\"],\"marker\":{\"colors\":[\"#6BCB77\",\"#FF6B6B\"]},\"textinfo\":\"label+percent+value\",\"textposition\":\"inside\",\"values\":[574,297,133],\"type\":\"pie\",\"domain\":{\"x\":[0.525,1.0],\"y\":[0.0,0.375]}},{\"insidetextorientation\":\"horizontal\",\"labels\":[\"Negatywne\",\"Pozytywne\",\"Nieokre\\u015blone\"],\"marker\":{\"colors\":[\"#FF6B6B\",\"#6BCB77\",\"#4D96FF\"]},\"textinfo\":\"label+percent+value\",\"textposition\":\"inside\",\"values\":[187,461,249],\"type\":\"pie\",\"domain\":{\"x\":[0.0,0.475],\"y\":[0.625,1.0]}},{\"insidetextorientation\":\"horizontal\",\"labels\":[\"Negatywne\",\"Pozytywne\"],\"marker\":{\"colors\":[\"#FF6B6B\",\"#6BCB77\",\"#4D96FF\"]},\"textinfo\":\"label+percent+value\",\"textposition\":\"inside\",\"values\":[297,574],\"type\":\"pie\",\"domain\":{\"x\":[0.525,1.0],\"y\":[0.625,1.0]}},{\"insidetextorientation\":\"horizontal\",\"labels\":[\"Pozytywne\",\"Nieokre\\u015blone\",\"Negatywne\"],\"marker\":{\"colors\":[\"#FF6B6B\",\"#6BCB77\",\"#4D96FF\"]},\"textinfo\":\"label+percent+value\",\"textposition\":\"inside\",\"values\":[461,249,187],\"type\":\"pie\",\"domain\":{\"x\":[0.0,0.475],\"y\":[0.0,0.375]}},{\"insidetextorientation\":\"horizontal\",\"labels\":[\"Pozytywne\",\"Negatywne\",\"Nieokre\\u015blone\"],\"marker\":{\"colors\":[\"#FF6B6B\",\"#6BCB77\",\"#4D96FF\"]},\"textinfo\":\"label+percent+value\",\"textposition\":\"inside\",\"values\":[574,297,133],\"type\":\"pie\",\"domain\":{\"x\":[0.525,1.0],\"y\":[0.0,0.375]}},{\"insidetextorientation\":\"horizontal\",\"labels\":[\"Negatywne\",\"Pozytywne\",\"Nieokre\\u015blone\"],\"marker\":{\"colors\":[\"#FF6B6B\",\"#6BCB77\",\"#4D96FF\"]},\"textinfo\":\"label+percent+value\",\"textposition\":\"inside\",\"values\":[187,461,249],\"type\":\"pie\",\"domain\":{\"x\":[0.0,0.475],\"y\":[0.625,1.0]}},{\"insidetextorientation\":\"horizontal\",\"labels\":[\"Negatywne\",\"Pozytywne\"],\"marker\":{\"colors\":[\"#FF6B6B\",\"#6BCB77\",\"#4D96FF\"]},\"textinfo\":\"label+percent+value\",\"textposition\":\"inside\",\"values\":[297,574],\"type\":\"pie\",\"domain\":{\"x\":[0.525,1.0],\"y\":[0.625,1.0]}},{\"insidetextorientation\":\"horizontal\",\"labels\":[\"Negatywne\",\"Pozytywne\",\"Nieokre\\u015blone\"],\"marker\":{\"colors\":[\"#FF6B6B\",\"#6BCB77\",\"#4D96FF\"]},\"textinfo\":\"label+percent+value\",\"textposition\":\"inside\",\"values\":[187,461,249],\"type\":\"pie\",\"domain\":{\"x\":[0.0,0.475],\"y\":[0.0,0.375]}},{\"insidetextorientation\":\"horizontal\",\"labels\":[\"Negatywne\",\"Pozytywne\"],\"marker\":{\"colors\":[\"#FF6B6B\",\"#6BCB77\",\"#4D96FF\"]},\"textinfo\":\"label+percent+value\",\"textposition\":\"inside\",\"values\":[297,574],\"type\":\"pie\",\"domain\":{\"x\":[0.525,1.0],\"y\":[0.0,0.375]}},{\"insidetextorientation\":\"horizontal\",\"labels\":[\"Negatywne\",\"Pozytywne\",\"Nieokre\\u015blone\"],\"marker\":{\"colors\":[\"#FF6B6B\",\"#6BCB77\",\"#4D96FF\"]},\"textinfo\":\"label+percent+value\",\"textposition\":\"inside\",\"values\":[187,461,249],\"type\":\"pie\",\"domain\":{\"x\":[0.0,0.475],\"y\":[0.625,1.0]}},{\"insidetextorientation\":\"horizontal\",\"labels\":[\"Negatywne\",\"Pozytywne\"],\"marker\":{\"colors\":[\"#FF6B6B\",\"#6BCB77\",\"#4D96FF\"]},\"textinfo\":\"label+percent+value\",\"textposition\":\"inside\",\"values\":[297,574],\"type\":\"pie\",\"domain\":{\"x\":[0.525,1.0],\"y\":[0.625,1.0]}},{\"insidetextorientation\":\"horizontal\",\"labels\":[\"Negatywne\",\"Pozytywne\",\"Nieokre\\u015blone\"],\"marker\":{\"colors\":[\"#FF6B6B\",\"#6BCB77\",\"#4D96FF\"]},\"textinfo\":\"label+percent+value\",\"textposition\":\"inside\",\"values\":[187.0,461.0,null],\"type\":\"pie\",\"domain\":{\"x\":[0.0,0.475],\"y\":[0.0,0.375]}},{\"insidetextorientation\":\"horizontal\",\"labels\":[\"Negatywne\",\"Pozytywne\"],\"marker\":{\"colors\":[\"#FF6B6B\",\"#6BCB77\",\"#4D96FF\"]},\"textinfo\":\"label+percent+value\",\"textposition\":\"inside\",\"values\":[265,383],\"type\":\"pie\",\"domain\":{\"x\":[0.525,1.0],\"y\":[0.0,0.375]}},{\"insidetextorientation\":\"horizontal\",\"labels\":[\"Negatywne\",\"Pozytywne\",\"Nieokre\\u015blone\"],\"marker\":{\"colors\":[\"#FF6B6B\",\"#6BCB77\",\"#4D96FF\"]},\"textinfo\":\"label+percent+value\",\"textposition\":\"inside\",\"values\":[187,461,249],\"type\":\"pie\",\"domain\":{\"x\":[0.0,0.475],\"y\":[0.625,1.0]}},{\"insidetextorientation\":\"horizontal\",\"labels\":[\"Negatywne\",\"Pozytywne\",\"Nieokre\\u015blone\"],\"marker\":{\"colors\":[\"#FF6B6B\",\"#6BCB77\",\"#4D96FF\"]},\"textinfo\":\"label+percent+value\",\"textposition\":\"inside\",\"values\":[297,574,133],\"type\":\"pie\",\"domain\":{\"x\":[0.525,1.0],\"y\":[0.625,1.0]}},{\"insidetextorientation\":\"horizontal\",\"labels\":[\"Negatywne\",\"Pozytywne\",\"Nieokre\\u015blone\"],\"marker\":{\"colors\":[\"#FF6B6B\",\"#6BCB77\",\"#4D96FF\"]},\"textinfo\":\"label+percent+value\",\"textposition\":\"inside\",\"values\":[187.0,461.0,null],\"type\":\"pie\",\"domain\":{\"x\":[0.0,0.475],\"y\":[0.0,0.375]}},{\"insidetextorientation\":\"horizontal\",\"labels\":[\"Negatywne\",\"Pozytywne\"],\"marker\":{\"colors\":[\"#FF6B6B\",\"#6BCB77\",\"#4D96FF\"]},\"textinfo\":\"label+percent+value\",\"textposition\":\"inside\",\"values\":[265,383],\"type\":\"pie\",\"domain\":{\"x\":[0.525,1.0],\"y\":[0.0,0.375]}},{\"insidetextorientation\":\"horizontal\",\"labels\":[\"Negatywne\",\"Pozytywne\",\"Nieokre\\u015blone\"],\"marker\":{\"colors\":[\"#FF6B6B\",\"#6BCB77\",\"#4D96FF\"]},\"textinfo\":\"label+percent+value\",\"textposition\":\"inside\",\"values\":[187,461,249],\"type\":\"pie\",\"domain\":{\"x\":[0.0,0.475],\"y\":[0.625,1.0]}},{\"insidetextorientation\":\"horizontal\",\"labels\":[\"Negatywne\",\"Pozytywne\"],\"marker\":{\"colors\":[\"#FF6B6B\",\"#6BCB77\",\"#4D96FF\"]},\"textinfo\":\"label+percent+value\",\"textposition\":\"inside\",\"values\":[297,574],\"type\":\"pie\",\"domain\":{\"x\":[0.525,1.0],\"y\":[0.625,1.0]}},{\"insidetextorientation\":\"horizontal\",\"labels\":[\"Negatywne\",\"Pozytywne\",\"Nieokre\\u015blone\"],\"marker\":{\"colors\":[\"#FF6B6B\",\"#6BCB77\",\"#4D96FF\"]},\"textinfo\":\"label+percent+value\",\"textposition\":\"inside\",\"values\":[187.0,461.0,null],\"type\":\"pie\",\"domain\":{\"x\":[0.0,0.475],\"y\":[0.0,0.375]}},{\"insidetextorientation\":\"horizontal\",\"labels\":[\"Negatywne\",\"Pozytywne\"],\"marker\":{\"colors\":[\"#FF6B6B\",\"#6BCB77\",\"#4D96FF\"]},\"textinfo\":\"label+percent+value\",\"textposition\":\"inside\",\"values\":[265,383],\"type\":\"pie\",\"domain\":{\"x\":[0.525,1.0],\"y\":[0.0,0.375]}},{\"insidetextorientation\":\"horizontal\",\"labels\":[\"Negatywne\",\"Pozytywne\",\"Nieokre\\u015blone\"],\"marker\":{\"colors\":[\"#FF6B6B\",\"#6BCB77\",\"#4D96FF\"]},\"textinfo\":\"label+percent+value\",\"textposition\":\"inside\",\"values\":[187,461,249],\"type\":\"pie\",\"domain\":{\"x\":[0.0,0.475],\"y\":[0.625,1.0]}},{\"insidetextorientation\":\"horizontal\",\"labels\":[\"Negatywne\",\"Pozytywne\"],\"marker\":{\"colors\":[\"#FF6B6B\",\"#6BCB77\",\"#4D96FF\"]},\"textinfo\":\"label+percent+value\",\"textposition\":\"inside\",\"values\":[297,574],\"type\":\"pie\",\"domain\":{\"x\":[0.525,1.0],\"y\":[0.625,1.0]}},{\"insidetextorientation\":\"horizontal\",\"labels\":[\"Negatywne\",\"Pozytywne\",\"Nieokre\\u015blone\"],\"marker\":{\"colors\":[\"#FF6B6B\",\"#6BCB77\",\"#4D96FF\"]},\"textinfo\":\"label+percent+value\",\"textposition\":\"inside\",\"values\":[187.0,461.0,null],\"type\":\"pie\",\"domain\":{\"x\":[0.0,0.475],\"y\":[0.0,0.375]}},{\"insidetextorientation\":\"horizontal\",\"labels\":[\"Negatywne\",\"Pozytywne\"],\"marker\":{\"colors\":[\"#FF6B6B\",\"#6BCB77\",\"#4D96FF\"]},\"textinfo\":\"label+percent+value\",\"textposition\":\"inside\",\"values\":[265,383],\"type\":\"pie\",\"domain\":{\"x\":[0.525,1.0],\"y\":[0.0,0.375]}}],                        {\"template\":{\"data\":{\"histogram2dcontour\":[{\"type\":\"histogram2dcontour\",\"colorbar\":{\"outlinewidth\":0,\"ticks\":\"\"},\"colorscale\":[[0.0,\"#0d0887\"],[0.1111111111111111,\"#46039f\"],[0.2222222222222222,\"#7201a8\"],[0.3333333333333333,\"#9c179e\"],[0.4444444444444444,\"#bd3786\"],[0.5555555555555556,\"#d8576b\"],[0.6666666666666666,\"#ed7953\"],[0.7777777777777778,\"#fb9f3a\"],[0.8888888888888888,\"#fdca26\"],[1.0,\"#f0f921\"]]}],\"choropleth\":[{\"type\":\"choropleth\",\"colorbar\":{\"outlinewidth\":0,\"ticks\":\"\"}}],\"histogram2d\":[{\"type\":\"histogram2d\",\"colorbar\":{\"outlinewidth\":0,\"ticks\":\"\"},\"colorscale\":[[0.0,\"#0d0887\"],[0.1111111111111111,\"#46039f\"],[0.2222222222222222,\"#7201a8\"],[0.3333333333333333,\"#9c179e\"],[0.4444444444444444,\"#bd3786\"],[0.5555555555555556,\"#d8576b\"],[0.6666666666666666,\"#ed7953\"],[0.7777777777777778,\"#fb9f3a\"],[0.8888888888888888,\"#fdca26\"],[1.0,\"#f0f921\"]]}],\"heatmap\":[{\"type\":\"heatmap\",\"colorbar\":{\"outlinewidth\":0,\"ticks\":\"\"},\"colorscale\":[[0.0,\"#0d0887\"],[0.1111111111111111,\"#46039f\"],[0.2222222222222222,\"#7201a8\"],[0.3333333333333333,\"#9c179e\"],[0.4444444444444444,\"#bd3786\"],[0.5555555555555556,\"#d8576b\"],[0.6666666666666666,\"#ed7953\"],[0.7777777777777778,\"#fb9f3a\"],[0.8888888888888888,\"#fdca26\"],[1.0,\"#f0f921\"]]}],\"heatmapgl\":[{\"type\":\"heatmapgl\",\"colorbar\":{\"outlinewidth\":0,\"ticks\":\"\"},\"colorscale\":[[0.0,\"#0d0887\"],[0.1111111111111111,\"#46039f\"],[0.2222222222222222,\"#7201a8\"],[0.3333333333333333,\"#9c179e\"],[0.4444444444444444,\"#bd3786\"],[0.5555555555555556,\"#d8576b\"],[0.6666666666666666,\"#ed7953\"],[0.7777777777777778,\"#fb9f3a\"],[0.8888888888888888,\"#fdca26\"],[1.0,\"#f0f921\"]]}],\"contourcarpet\":[{\"type\":\"contourcarpet\",\"colorbar\":{\"outlinewidth\":0,\"ticks\":\"\"}}],\"contour\":[{\"type\":\"contour\",\"colorbar\":{\"outlinewidth\":0,\"ticks\":\"\"},\"colorscale\":[[0.0,\"#0d0887\"],[0.1111111111111111,\"#46039f\"],[0.2222222222222222,\"#7201a8\"],[0.3333333333333333,\"#9c179e\"],[0.4444444444444444,\"#bd3786\"],[0.5555555555555556,\"#d8576b\"],[0.6666666666666666,\"#ed7953\"],[0.7777777777777778,\"#fb9f3a\"],[0.8888888888888888,\"#fdca26\"],[1.0,\"#f0f921\"]]}],\"surface\":[{\"type\":\"surface\",\"colorbar\":{\"outlinewidth\":0,\"ticks\":\"\"},\"colorscale\":[[0.0,\"#0d0887\"],[0.1111111111111111,\"#46039f\"],[0.2222222222222222,\"#7201a8\"],[0.3333333333333333,\"#9c179e\"],[0.4444444444444444,\"#bd3786\"],[0.5555555555555556,\"#d8576b\"],[0.6666666666666666,\"#ed7953\"],[0.7777777777777778,\"#fb9f3a\"],[0.8888888888888888,\"#fdca26\"],[1.0,\"#f0f921\"]]}],\"mesh3d\":[{\"type\":\"mesh3d\",\"colorbar\":{\"outlinewidth\":0,\"ticks\":\"\"}}],\"scatter\":[{\"marker\":{\"line\":{\"color\":\"#283442\"}},\"type\":\"scatter\"}],\"parcoords\":[{\"type\":\"parcoords\",\"line\":{\"colorbar\":{\"outlinewidth\":0,\"ticks\":\"\"}}}],\"scatterpolargl\":[{\"type\":\"scatterpolargl\",\"marker\":{\"colorbar\":{\"outlinewidth\":0,\"ticks\":\"\"}}}],\"bar\":[{\"error_x\":{\"color\":\"#f2f5fa\"},\"error_y\":{\"color\":\"#f2f5fa\"},\"marker\":{\"line\":{\"color\":\"rgb(17,17,17)\",\"width\":0.5},\"pattern\":{\"fillmode\":\"overlay\",\"size\":10,\"solidity\":0.2}},\"type\":\"bar\"}],\"scattergeo\":[{\"type\":\"scattergeo\",\"marker\":{\"colorbar\":{\"outlinewidth\":0,\"ticks\":\"\"}}}],\"scatterpolar\":[{\"type\":\"scatterpolar\",\"marker\":{\"colorbar\":{\"outlinewidth\":0,\"ticks\":\"\"}}}],\"histogram\":[{\"marker\":{\"pattern\":{\"fillmode\":\"overlay\",\"size\":10,\"solidity\":0.2}},\"type\":\"histogram\"}],\"scattergl\":[{\"marker\":{\"line\":{\"color\":\"#283442\"}},\"type\":\"scattergl\"}],\"scatter3d\":[{\"type\":\"scatter3d\",\"line\":{\"colorbar\":{\"outlinewidth\":0,\"ticks\":\"\"}},\"marker\":{\"colorbar\":{\"outlinewidth\":0,\"ticks\":\"\"}}}],\"scattermapbox\":[{\"type\":\"scattermapbox\",\"marker\":{\"colorbar\":{\"outlinewidth\":0,\"ticks\":\"\"}}}],\"scatterternary\":[{\"type\":\"scatterternary\",\"marker\":{\"colorbar\":{\"outlinewidth\":0,\"ticks\":\"\"}}}],\"scattercarpet\":[{\"type\":\"scattercarpet\",\"marker\":{\"colorbar\":{\"outlinewidth\":0,\"ticks\":\"\"}}}],\"carpet\":[{\"aaxis\":{\"endlinecolor\":\"#A2B1C6\",\"gridcolor\":\"#506784\",\"linecolor\":\"#506784\",\"minorgridcolor\":\"#506784\",\"startlinecolor\":\"#A2B1C6\"},\"baxis\":{\"endlinecolor\":\"#A2B1C6\",\"gridcolor\":\"#506784\",\"linecolor\":\"#506784\",\"minorgridcolor\":\"#506784\",\"startlinecolor\":\"#A2B1C6\"},\"type\":\"carpet\"}],\"table\":[{\"cells\":{\"fill\":{\"color\":\"#506784\"},\"line\":{\"color\":\"rgb(17,17,17)\"}},\"header\":{\"fill\":{\"color\":\"#2a3f5f\"},\"line\":{\"color\":\"rgb(17,17,17)\"}},\"type\":\"table\"}],\"barpolar\":[{\"marker\":{\"line\":{\"color\":\"rgb(17,17,17)\",\"width\":0.5},\"pattern\":{\"fillmode\":\"overlay\",\"size\":10,\"solidity\":0.2}},\"type\":\"barpolar\"}],\"pie\":[{\"automargin\":true,\"type\":\"pie\"}]},\"layout\":{\"autotypenumbers\":\"strict\",\"colorway\":[\"#636efa\",\"#EF553B\",\"#00cc96\",\"#ab63fa\",\"#FFA15A\",\"#19d3f3\",\"#FF6692\",\"#B6E880\",\"#FF97FF\",\"#FECB52\"],\"font\":{\"color\":\"#f2f5fa\"},\"hovermode\":\"closest\",\"hoverlabel\":{\"align\":\"left\"},\"paper_bgcolor\":\"rgb(17,17,17)\",\"plot_bgcolor\":\"rgb(17,17,17)\",\"polar\":{\"bgcolor\":\"rgb(17,17,17)\",\"angularaxis\":{\"gridcolor\":\"#506784\",\"linecolor\":\"#506784\",\"ticks\":\"\"},\"radialaxis\":{\"gridcolor\":\"#506784\",\"linecolor\":\"#506784\",\"ticks\":\"\"}},\"ternary\":{\"bgcolor\":\"rgb(17,17,17)\",\"aaxis\":{\"gridcolor\":\"#506784\",\"linecolor\":\"#506784\",\"ticks\":\"\"},\"baxis\":{\"gridcolor\":\"#506784\",\"linecolor\":\"#506784\",\"ticks\":\"\"},\"caxis\":{\"gridcolor\":\"#506784\",\"linecolor\":\"#506784\",\"ticks\":\"\"}},\"coloraxis\":{\"colorbar\":{\"outlinewidth\":0,\"ticks\":\"\"}},\"colorscale\":{\"sequential\":[[0.0,\"#0d0887\"],[0.1111111111111111,\"#46039f\"],[0.2222222222222222,\"#7201a8\"],[0.3333333333333333,\"#9c179e\"],[0.4444444444444444,\"#bd3786\"],[0.5555555555555556,\"#d8576b\"],[0.6666666666666666,\"#ed7953\"],[0.7777777777777778,\"#fb9f3a\"],[0.8888888888888888,\"#fdca26\"],[1.0,\"#f0f921\"]],\"sequentialminus\":[[0.0,\"#0d0887\"],[0.1111111111111111,\"#46039f\"],[0.2222222222222222,\"#7201a8\"],[0.3333333333333333,\"#9c179e\"],[0.4444444444444444,\"#bd3786\"],[0.5555555555555556,\"#d8576b\"],[0.6666666666666666,\"#ed7953\"],[0.7777777777777778,\"#fb9f3a\"],[0.8888888888888888,\"#fdca26\"],[1.0,\"#f0f921\"]],\"diverging\":[[0,\"#8e0152\"],[0.1,\"#c51b7d\"],[0.2,\"#de77ae\"],[0.3,\"#f1b6da\"],[0.4,\"#fde0ef\"],[0.5,\"#f7f7f7\"],[0.6,\"#e6f5d0\"],[0.7,\"#b8e186\"],[0.8,\"#7fbc41\"],[0.9,\"#4d9221\"],[1,\"#276419\"]]},\"xaxis\":{\"gridcolor\":\"#283442\",\"linecolor\":\"#506784\",\"ticks\":\"\",\"title\":{\"standoff\":15},\"zerolinecolor\":\"#283442\",\"automargin\":true,\"zerolinewidth\":2},\"yaxis\":{\"gridcolor\":\"#283442\",\"linecolor\":\"#506784\",\"ticks\":\"\",\"title\":{\"standoff\":15},\"zerolinecolor\":\"#283442\",\"automargin\":true,\"zerolinewidth\":2},\"scene\":{\"xaxis\":{\"backgroundcolor\":\"rgb(17,17,17)\",\"gridcolor\":\"#506784\",\"linecolor\":\"#506784\",\"showbackground\":true,\"ticks\":\"\",\"zerolinecolor\":\"#C8D4E3\",\"gridwidth\":2},\"yaxis\":{\"backgroundcolor\":\"rgb(17,17,17)\",\"gridcolor\":\"#506784\",\"linecolor\":\"#506784\",\"showbackground\":true,\"ticks\":\"\",\"zerolinecolor\":\"#C8D4E3\",\"gridwidth\":2},\"zaxis\":{\"backgroundcolor\":\"rgb(17,17,17)\",\"gridcolor\":\"#506784\",\"linecolor\":\"#506784\",\"showbackground\":true,\"ticks\":\"\",\"zerolinecolor\":\"#C8D4E3\",\"gridwidth\":2}},\"shapedefaults\":{\"line\":{\"color\":\"#f2f5fa\"}},\"annotationdefaults\":{\"arrowcolor\":\"#f2f5fa\",\"arrowhead\":0,\"arrowwidth\":1},\"geo\":{\"bgcolor\":\"rgb(17,17,17)\",\"landcolor\":\"rgb(17,17,17)\",\"subunitcolor\":\"#506784\",\"showland\":true,\"showlakes\":true,\"lakecolor\":\"rgb(17,17,17)\"},\"title\":{\"x\":0.05},\"updatemenudefaults\":{\"bgcolor\":\"#506784\",\"borderwidth\":0},\"sliderdefaults\":{\"bgcolor\":\"#C8D4E3\",\"borderwidth\":1,\"bordercolor\":\"rgb(17,17,17)\",\"tickwidth\":0},\"mapbox\":{\"style\":\"dark\"}}},\"annotations\":[{\"font\":{\"size\":16},\"showarrow\":false,\"text\":\"NAWL\",\"x\":0.2375,\"xanchor\":\"center\",\"xref\":\"paper\",\"y\":1.0,\"yanchor\":\"bottom\",\"yref\":\"paper\"},{\"font\":{\"size\":16},\"showarrow\":false,\"text\":\"Anotacja\",\"x\":0.7625,\"xanchor\":\"center\",\"xref\":\"paper\",\"y\":1.0,\"yanchor\":\"bottom\",\"yref\":\"paper\"},{\"font\":{\"size\":16},\"showarrow\":false,\"text\":\"NAWL z pomini\\u0119ciem warto\\u015bci nieokre\\u015blonych\",\"x\":0.2375,\"xanchor\":\"center\",\"xref\":\"paper\",\"y\":0.375,\"yanchor\":\"bottom\",\"yref\":\"paper\"},{\"font\":{\"size\":16},\"showarrow\":false,\"text\":\"Anotacja z pomini\\u0119ciem warto\\u015bci kt\\u00f3re<br>zosta\\u0142y nieokre\\u015blone w bazie NAWL\",\"x\":0.7625,\"xanchor\":\"center\",\"xref\":\"paper\",\"y\":0.375,\"yanchor\":\"bottom\",\"yref\":\"paper\"}],\"title\":{\"text\":\"Pie chart dla wszystkich AUN\"}},                        {\"responsive\": true}                    ).then(function(){\n                            \nvar gd = document.getElementById('215b7f9d-a00f-4f1b-aadf-dccf01558d8f');\nvar x = new MutationObserver(function (mutations, observer) {{\n        var display = window.getComputedStyle(gd).display;\n        if (!display || display === 'none') {{\n            console.log([gd, 'removed!']);\n            Plotly.purge(gd);\n            observer.disconnect();\n        }}\n}});\n\n// Listen for the removal of the full notebook cells\nvar notebookContainer = gd.closest('#notebook-container');\nif (notebookContainer) {{\n    x.observe(notebookContainer, {childList: true});\n}}\n\n// Listen for the clearing of the current output cell\nvar outputEl = gd.closest('.output');\nif (outputEl) {{\n    x.observe(outputEl, {childList: true});\n}}\n\n                        })                };                });            </script>        </div>"
     },
     "metadata": {},
     "output_type": "display_data"
    }
   ],
   "source": [
    "cts = all_comparison_df['nawl'].value_counts().to_frame().reindex([-1, 1, 0])\n",
    "fig.add_trace(\n",
    "    go.Pie(labels=[labels_dict[i] for i in cts.index.tolist()], values=[value[0] for value in cts.values.tolist()],\n",
    "           textposition='inside', textinfo='label+percent+value', insidetextorientation='horizontal',\n",
    "           marker_colors=pie_colours\n",
    "           ),\n",
    "    row=1, col=1\n",
    ")\n",
    "cts = all_comparison_df['anotacja'].value_counts().to_frame().reindex([-1, 1, 0]).drop(0)\n",
    "fig.add_trace(\n",
    "    go.Pie(labels=[labels_dict[i] for i in cts.index.tolist()], values=[value[0] for value in cts.values.tolist()],\n",
    "           textposition='inside', textinfo='label+percent+value', insidetextorientation='horizontal',\n",
    "           marker_colors=pie_colours\n",
    "           ),\n",
    "    row=1, col=2\n",
    ")\n",
    "cts = all_comparison_df_wo0['nawl'].value_counts().to_frame().reindex([-1, 1, 0])\n",
    "fig.add_trace(\n",
    "    go.Pie(labels=[labels_dict[i] for i in cts.index.tolist()], values=[value[0] for value in cts.values.tolist()],\n",
    "           textposition='inside', textinfo='label+percent+value', insidetextorientation='horizontal',\n",
    "           marker_colors=pie_colours\n",
    "           ),\n",
    "    row=2, col=1\n",
    ")\n",
    "cts = all_comparison_df_wo0['anotacja'].value_counts().to_frame().reindex([-1, 1, 0]).drop(0)\n",
    "fig.add_trace(\n",
    "    go.Pie(labels=[labels_dict[i] for i in cts.index.tolist()], values=[value[0] for value in cts.values.tolist()],\n",
    "           textposition='inside', textinfo='label+percent+value', insidetextorientation='horizontal',\n",
    "           marker_colors=pie_colours\n",
    "           ),\n",
    "    row=2, col=2\n",
    ")\n",
    "fig.update_layout(title_text='Pie chart dla wszystkich AUN')\n",
    "fig.show()"
   ],
   "metadata": {
    "collapsed": false,
    "pycharm": {
     "name": "#%%\n"
    }
   }
  },
  {
   "cell_type": "code",
   "execution_count": null,
   "outputs": [],
   "source": [],
   "metadata": {
    "collapsed": false,
    "pycharm": {
     "name": "#%%\n"
    }
   }
  }
 ],
 "metadata": {
  "kernelspec": {
   "display_name": "Python 3 (ipykernel)",
   "language": "python",
   "name": "python3"
  },
  "language_info": {
   "codemirror_mode": {
    "name": "ipython",
    "version": 3
   },
   "file_extension": ".py",
   "mimetype": "text/x-python",
   "name": "python",
   "nbconvert_exporter": "python",
   "pygments_lexer": "ipython3",
   "version": "3.10.1"
  }
 },
 "nbformat": 4,
 "nbformat_minor": 1
}